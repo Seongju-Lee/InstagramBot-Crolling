{
 "cells": [
  {
   "cell_type": "code",
   "execution_count": 3,
   "metadata": {},
   "outputs": [
    {
     "name": "stdout",
     "output_type": "stream",
     "text": [
      "Defaulting to user installation because normal site-packages is not writeable\n",
      "Requirement already satisfied: selenium in /Users/gwanpil/.local/lib/python3.6/site-packages (3.141.0)\n",
      "Requirement already satisfied: urllib3 in /Users/gwanpil/opt/anaconda3/lib/python3.6/site-packages (from selenium) (1.25.8)\n"
     ]
    }
   ],
   "source": [
    "!pip install selenium\n",
    "#from selenium import webdriver"
   ]
  },
  {
   "cell_type": "code",
   "execution_count": null,
   "metadata": {},
   "outputs": [],
   "source": [
    "from selenium import webdriver \n",
    "driver = webdriver.Chrome(\"./chromedriver88.exe\")\n",
    "#from webdriver_manager.chrome import ChromeDriverManager \n",
    "#driver = webdriver.Chrome(ChromeDriverManager().install())\n",
    "\n",
    "url = 'https://www.daum.net/'\n",
    "driver.get(url)\n",
    "html = driver.page_source \n",
    "print(html)\n"
   ]
  },
  {
   "cell_type": "code",
   "execution_count": null,
   "metadata": {},
   "outputs": [],
   "source": [
    "html = '''\n",
    "<html>\n",
    "    <head>\n",
    "    </head>\n",
    "    <body>\n",
    "        <h1> 우리동네시장</h1>\n",
    "            <div class = 'sale'>\n",
    "                <p id='fruits1' class='fruits'>\n",
    "                    <span class = 'name'> 바나나 </span>\n",
    "                    <span class = 'price'> 3000원 </span>\n",
    "                    <span class = 'inventory'> 500개 </span>\n",
    "                    <span class = 'store'> 가나다상회 </span>\n",
    "                    <a href = 'https://map.kakao.com/' > 홈페이지 </a>\n",
    "                </p>\n",
    "            </div>\n",
    "            <div class = 'prepare'>\n",
    "                <p id='fruits2' class='fruits'>\n",
    "                    <span class ='name'> 파인애플 </span>\n",
    "                </p>\n",
    "            </div>\n",
    "    </body>\n",
    "</html>\n",
    "'''\n",
    "\n",
    "print(html)"
   ]
  },
  {
   "cell_type": "code",
   "execution_count": null,
   "metadata": {},
   "outputs": [],
   "source": [
    "from bs4 import BeautifulSoup"
   ]
  },
  {
   "cell_type": "code",
   "execution_count": null,
   "metadata": {},
   "outputs": [],
   "source": [
    "soup = BeautifulSoup(html, 'html.parser')"
   ]
  },
  {
   "cell_type": "code",
   "execution_count": null,
   "metadata": {},
   "outputs": [],
   "source": [
    "tags_span = soup.select('span')\n",
    "print(tags_span)"
   ]
  },
  {
   "cell_type": "code",
   "execution_count": null,
   "metadata": {},
   "outputs": [],
   "source": [
    "tags_p = soup.select('p')\n",
    "print(tags_p)"
   ]
  },
  {
   "cell_type": "code",
   "execution_count": null,
   "metadata": {},
   "outputs": [],
   "source": [
    "ids_fruits1 = soup.select('#fruits1') # ID를 지칭할때는 앞에 #을 붙이고 id를 넣으면 된다.\n",
    "print(ids_fruits1)"
   ]
  },
  {
   "cell_type": "code",
   "execution_count": null,
   "metadata": {},
   "outputs": [],
   "source": [
    "class_price = soup.select('.price') # 클래스를 지칭할때는 .을 붙인다.\n",
    "print(class_price)"
   ]
  },
  {
   "cell_type": "code",
   "execution_count": null,
   "metadata": {},
   "outputs": [],
   "source": [
    "tags_span_class_price = soup.select('span.price') # span 태그안에 price클래스를 가져온다.\n",
    "print(tags_span_class_price)"
   ]
  },
  {
   "cell_type": "code",
   "execution_count": null,
   "metadata": {},
   "outputs": [],
   "source": [
    "tags_name = soup.select('span.name')\n",
    "print(tags_name)"
   ]
  },
  {
   "cell_type": "code",
   "execution_count": null,
   "metadata": {},
   "outputs": [],
   "source": [
    "tags_banana1 = soup.select('#fruits1 > span.name')\n",
    "print(tags_banana1)"
   ]
  },
  {
   "cell_type": "code",
   "execution_count": null,
   "metadata": {},
   "outputs": [],
   "source": [
    "tags_banana2 = soup.select('div.sale > #fruits1 > span.name')\n",
    "tags_banana3 = soup.select('div.sale span.name')\n",
    "print(tags_banana2)\n",
    "print(tags_banana3)"
   ]
  },
  {
   "cell_type": "code",
   "execution_count": null,
   "metadata": {},
   "outputs": [],
   "source": [
    "tags = soup.select('span.name')\n",
    "tag_1 = tags[0]    #인덱스 번호로 하나의 태그 지정하기\n",
    "print(tag_1)"
   ]
  },
  {
   "cell_type": "code",
   "execution_count": null,
   "metadata": {},
   "outputs": [],
   "source": [
    "#tags = soup.select('span.name')\n",
    "for tag in tags:      # 반복문으로 태그 그룹에서 각각의 태그 선택하여 활용하기\n",
    "    print(tag)"
   ]
  },
  {
   "cell_type": "code",
   "execution_count": null,
   "metadata": {},
   "outputs": [],
   "source": [
    "tags = soup.select('a')\n",
    "tag = tags[0]\n",
    "content = tag.text\n",
    "print(content)\n",
    "link = tag['href']\n",
    "print(link)"
   ]
  },
  {
   "cell_type": "code",
   "execution_count": null,
   "metadata": {},
   "outputs": [],
   "source": [
    "from selenium import webdriver \n",
    "driver = webdriver.Chrome(\"./chromedriver88.exe\")\n",
    "\n",
    "\n",
    "url = 'http://www.melon.com/chart/index.htm'\n",
    "html = driver.get(url)"
   ]
  },
  {
   "cell_type": "code",
   "execution_count": null,
   "metadata": {},
   "outputs": [],
   "source": [
    "#from bs4 import BeautifulSoup\n",
    "html = driver.page_source\n",
    "soup = BeautifulSoup(html, 'html.parser')"
   ]
  },
  {
   "cell_type": "code",
   "execution_count": null,
   "metadata": {},
   "outputs": [],
   "source": [
    "# songs = soup.select('table > tbody > tr')  \n",
    "\n",
    "songs = soup.select('tr')  \n",
    "print(len(songs))\n",
    "#print(songs[0])"
   ]
  },
  {
   "cell_type": "code",
   "execution_count": null,
   "metadata": {},
   "outputs": [],
   "source": [
    "songs = soup.select('tbody > tr')  \n",
    "print(len(songs))\n",
    "print(songs[0])"
   ]
  },
  {
   "cell_type": "code",
   "execution_count": null,
   "metadata": {},
   "outputs": [],
   "source": [
    "song = songs[0]"
   ]
  },
  {
   "cell_type": "code",
   "execution_count": null,
   "metadata": {},
   "outputs": [],
   "source": [
    "title = song.select('a')\n",
    "len(title)"
   ]
  },
  {
   "cell_type": "code",
   "execution_count": null,
   "metadata": {},
   "outputs": [],
   "source": [
    "title = song.select('span > a')\n",
    "len(title)"
   ]
  },
  {
   "cell_type": "code",
   "execution_count": null,
   "metadata": {},
   "outputs": [],
   "source": [
    "title = song.select('div.ellipsis.rank01 > span > a')\n",
    "len(title)\n"
   ]
  },
  {
   "cell_type": "code",
   "execution_count": null,
   "metadata": {},
   "outputs": [],
   "source": [
    "title = song.select('div.ellipsis.rank01 > span > a')[0].text\n",
    "title"
   ]
  },
  {
   "cell_type": "code",
   "execution_count": null,
   "metadata": {},
   "outputs": [],
   "source": [
    "singer = song.select('div.ellipsis.rank02 > a')[0].text\n",
    "singer"
   ]
  },
  {
   "cell_type": "code",
   "execution_count": null,
   "metadata": {},
   "outputs": [],
   "source": [
    "for song in songs: \n",
    "    title = song.select('div.ellipsis.rank01 > span > a')[0].text\n",
    "    singer = song.select ('div.ellipsis.rank02 > a')[0].text  \n",
    "    if(singer == '아이유') : \n",
    "        print(title, singer, sep = '  |  ')"
   ]
  },
  {
   "cell_type": "code",
   "execution_count": 49,
   "metadata": {},
   "outputs": [
    {
     "output_type": "stream",
     "name": "stdout",
     "text": [
      "라일락 | 아이유\n",
      "롤린 (Rollin') | 브레이브걸스\n",
      "Celebrity | 아이유\n",
      "Peaches (Feat. Daniel Caesar & Giveon) | Justin Bieber\n",
      "운전만해 (We Ride) | 브레이브걸스\n",
      "Coin | 아이유\n",
      "On The Ground | 로제 (ROSÉ)\n",
      "내 손을 잡아 | 아이유\n",
      "그냥 안아달란 말야 | 다비치\n",
      "LOVE DAY (2021) (바른연애 길잡이 X 양요섭, 정은지) | 양요섭\n",
      "Dynamite | 방탄소년단\n",
      "밝게 빛나는 별이 되어 비춰줄게 | 송이한\n",
      "밤하늘의 별을(2020) | 경서\n",
      "봄 안녕 봄 | 아이유\n",
      "잠이 오질 않네요 | 장범준\n",
      "에잇(Prod.&Feat. SUGA of BTS) | 아이유\n",
      "Blueming | 아이유\n",
      "취기를 빌려 (취향저격 그녀 X 산들) | 산들\n",
      "Flu | 아이유\n",
      "VVS (Feat. JUSTHIS) (Prod. GroovyRoom) | 미란이 (Mirani)\n",
      "Lovesick Girls | BLACKPINK\n",
      "나랑 같이 걸을래 (바른연애 길잡이 X 적재) | 적재\n",
      "아이와 나의 바다 | 아이유\n",
      "어푸 (Ah puh) | 아이유\n",
      "흔들리는 꽃들 속에서 네 샴푸향이 느껴진거야 | 장범준\n",
      "이 밤을 빌려 말해요 (바른연애 길잡이 X 10CM) | 10CM\n",
      "그날에 나는 맘이 편했을까 | 이예준\n",
      "돌림노래 (Feat. DEAN) | 아이유\n",
      "오래된 노래 | 스탠딩 에그\n",
      "어떻게 이별까지 사랑하겠어, 널 사랑하는 거지 | AKMU (악동뮤지션)\n",
      "12:45 (Stripped) | Etham\n",
      "힘든 건 사랑이 아니다 | 임창정\n",
      "Savage Love (Laxed - Siren Beat) (BTS Remix) | Jawsh 685\n",
      "추억은 만남보다 이별에 남아 | 정동하\n",
      "METEOR | 창모 (CHANGMO)\n",
      "봄날 | 방탄소년단\n",
      "모든 날, 모든 순간 (Every day, Every Moment) | 폴킴\n",
      "사실 나는 (Feat.전건호) | 경서예지\n",
      "Dolphin | 오마이걸 (OH MY GIRL)\n",
      "Life Goes On | 방탄소년단\n",
      "2002 | Anne-Marie\n",
      "Gone | 로제 (ROSÉ)\n",
      "어떻게 지내 (Prod. By VAN.C) | 오반 (OVAN)\n",
      "아로하 | 조정석\n",
      "에필로그 | 아이유\n",
      "고백 (바른연애 길잡이 X 허각) | 허각\n",
      "작은 것들을 위한 시 (Boy With Luv) (Feat. Halsey) | 방탄소년단\n",
      "늦은 밤 너의 집 앞 골목길에서 | 노을\n",
      "너의 번호를 누르고 (Prod. 영화처럼) | #안녕\n",
      "오늘도 빛나는 너에게 (To You My Light) (Feat.이라온) | 마크툽 (MAKTUB)\n",
      "내 마음이 움찔했던 순간 (취향저격 그녀 X 규현) | 규현 (KYUHYUN)\n",
      "마음을 드려요 | 아이유\n",
      "멜로디 | ASH ISLAND\n",
      "How You Like That | BLACKPINK\n",
      "되풀이 | 임창정\n",
      "함께 했는데 이별은 나 혼자인 거야 | 소정 (레이디스 코드)\n",
      "Love poem | 아이유\n",
      "Memories | Maroon 5\n",
      "이제 나만 믿어요 | 임영웅\n",
      "살짝 설렜어 (Nonstop) | 오마이걸 (OH MY GIRL)\n",
      "When We Disco (Duet with 선미) | 박진영\n",
      "빈 컵 (Empty Cup) | 아이유\n",
      "Dance Monkey | Tones And I\n",
      "혼술하고 싶은 밤 | 벤\n",
      "너를 만나 | 폴킴\n",
      "water color | 휘인 (Whee In)\n",
      "내일이 오면 (Feat. 기리보이, BIG Naughty (서동현)) | 릴보이 (lIlBOI)\n",
      "이렇게 좋아해 본 적이 없어요 | CHEEZE (치즈)\n",
      "시작 | 가호 (Gaho)\n",
      "서면역에서 | 순순희\n",
      "우린 어쩌다 헤어진 걸까 | 허각\n",
      "I'm Not Cool | 현아\n",
      "우리 왜 헤어져야 해 | 신예영\n",
      "어떤X (What Type of X) | 제시 (Jessi)\n",
      "그 한마디 (바른연애 길잡이 X 이하이) | 이하이\n",
      "술 한잔 해요 | 경서 (경서예지)\n",
      "안녕 | 폴킴\n",
      "Paris In The Rain | Lauv\n",
      "거짓말이라도 해서 널 보고싶어 | 백지영\n",
      "Downtown Baby | 블루 (BLOO)\n",
      "Don't Call Me | SHINee (샤이니)\n",
      "Don't Start Now | Dua Lipa\n",
      "안녕이란 (Two Letters) | 황치열\n",
      "봄 사랑 벚꽃 말고 | HIGH4 (하이포)\n",
      "마리아 (Maria) | 화사 (Hwa Sa)\n",
      "꼬리 (TAIL) | 선미\n",
      "딩가딩가 (Dingga) | 마마무 (Mamamoo)\n",
      "사랑은 지날수록 더욱 선명하게 남아 | 전상근\n",
      "서른 밤째 (바른연애 길잡이 X 윤하 (YOUNHA)) | 윤하 (YOUNHA)\n",
      "봄 내음보다 너를 | 김나영\n",
      "Maniac | Conan Gray\n",
      "다시 만날까 봐 (Prod.V.O.S) | 이예준\n",
      "I CAN’T STOP ME | TWICE (트와이스)\n",
      "커피 (Coffee) | 규현 (KYUHYUN)\n",
      "Panorama | IZ*ONE (아이즈원)\n",
      "홀로 | 이하이\n",
      "소확행 | 임창정\n",
      "비로소 너에게 도착했다 (Full Bloom) | 마크툽 (MAKTUB)\n",
      "Atlantis | SHINee (샤이니)\n",
      "별빛 같은 나의 사랑아 | 임영웅\n"
     ]
    }
   ],
   "source": [
    "from selenium import webdriver \n",
    "driver = webdriver.Chrome(\"./chromedriver88.exe\")\n",
    "\n",
    "\n",
    "url = 'http://www.melon.com/chart/index.htm'\n",
    "driver.get(url)\n",
    "songs = driver.find_elements_by_css_selector('tbody > tr') # 필요할때마다 가져오는 방식이라 시간이 걸림 -> 특정 위치를 선택한 뒤, 브라우저 조작 가능 \n",
    "for song in songs: \n",
    "    title = song.find_elements_by_css_selector('div.ellipsis.rank01 > span > a')[0].text\n",
    "    singer = song.find_elements_by_css_selector('div.ellipsis.rank02 > a')[0].text  \n",
    "    print(title, singer, sep = ' | ')"
   ]
  },
  {
   "cell_type": "code",
   "execution_count": 53,
   "metadata": {},
   "outputs": [
    {
     "output_type": "error",
     "ename": "IndexError",
     "evalue": "list index out of range",
     "traceback": [
      "\u001b[1;31m---------------------------------------------------------------------------\u001b[0m",
      "\u001b[1;31mIndexError\u001b[0m                                Traceback (most recent call last)",
      "\u001b[1;32m<ipython-input-53-44a42f2198ad>\u001b[0m in \u001b[0;36m<module>\u001b[1;34m\u001b[0m\n\u001b[0;32m      6\u001b[0m \u001b[0msongs\u001b[0m \u001b[1;33m=\u001b[0m \u001b[0msoup\u001b[0m\u001b[1;33m.\u001b[0m\u001b[0mselect\u001b[0m\u001b[1;33m(\u001b[0m\u001b[1;34m'tbody > tr'\u001b[0m\u001b[1;33m)\u001b[0m\u001b[1;33m\u001b[0m\u001b[1;33m\u001b[0m\u001b[0m\n\u001b[0;32m      7\u001b[0m \u001b[1;32mfor\u001b[0m \u001b[0msong\u001b[0m \u001b[1;32min\u001b[0m \u001b[0msongs\u001b[0m\u001b[1;33m:\u001b[0m\u001b[1;33m\u001b[0m\u001b[1;33m\u001b[0m\u001b[0m\n\u001b[1;32m----> 8\u001b[1;33m     \u001b[0mtitle\u001b[0m \u001b[1;33m=\u001b[0m \u001b[0msong\u001b[0m\u001b[1;33m.\u001b[0m\u001b[0mselect\u001b[0m\u001b[1;33m(\u001b[0m\u001b[1;34m'div.ellipsis.rank01 > span > a'\u001b[0m\u001b[1;33m)\u001b[0m\u001b[1;33m[\u001b[0m\u001b[1;36m0\u001b[0m\u001b[1;33m]\u001b[0m\u001b[1;33m.\u001b[0m\u001b[0mtext\u001b[0m\u001b[1;33m\u001b[0m\u001b[1;33m\u001b[0m\u001b[0m\n\u001b[0m\u001b[0;32m      9\u001b[0m     \u001b[0msinger\u001b[0m \u001b[1;33m=\u001b[0m \u001b[0msong\u001b[0m\u001b[1;33m.\u001b[0m\u001b[0mselect\u001b[0m\u001b[1;33m(\u001b[0m\u001b[1;34m'div.ellipsis.rank02 > a'\u001b[0m\u001b[1;33m)\u001b[0m\u001b[1;33m[\u001b[0m\u001b[1;36m0\u001b[0m\u001b[1;33m]\u001b[0m\u001b[1;33m.\u001b[0m\u001b[0mtext\u001b[0m\u001b[1;33m\u001b[0m\u001b[1;33m\u001b[0m\u001b[0m\n\u001b[0;32m     10\u001b[0m     \u001b[0mprint\u001b[0m\u001b[1;33m(\u001b[0m\u001b[0mtitle\u001b[0m\u001b[1;33m,\u001b[0m \u001b[0msinger\u001b[0m\u001b[1;33m,\u001b[0m \u001b[0msep\u001b[0m \u001b[1;33m=\u001b[0m \u001b[1;34m' | '\u001b[0m\u001b[1;33m)\u001b[0m\u001b[1;33m\u001b[0m\u001b[1;33m\u001b[0m\u001b[0m\n",
      "\u001b[1;31mIndexError\u001b[0m: list index out of range"
     ]
    }
   ],
   "source": [
    "url = 'http://www.melon.com/chart/index.htm'\n",
    "driver.get(url)\n",
    "\n",
    "song_data = []\n",
    "rank = 1\n",
    "songs = soup.select('tbody > tr')  \n",
    "for song in songs: \n",
    "    title = song.select('div.ellipsis.rank01 > span > a')[0].text\n",
    "    singer = song.select('div.ellipsis.rank02 > a')[0].text  \n",
    "    print(title, singer, sep = ' | ')\n",
    "    # title = song.select('div.ellipsis.rank01 > span > a')[0].text\n",
    "    # singer = song.select ('div.ellipsis.rank02 > a')[0].text\n",
    "    # song_data.append(['Melon', rank, title, singer])\n",
    "    # rank = rank + 1"
   ]
  },
  {
   "cell_type": "code",
   "execution_count": null,
   "metadata": {},
   "outputs": [],
   "source": [
    "song_data"
   ]
  },
  {
   "cell_type": "code",
   "execution_count": null,
   "metadata": {},
   "outputs": [],
   "source": [
    "import pandas as pd"
   ]
  },
  {
   "cell_type": "code",
   "execution_count": null,
   "metadata": {},
   "outputs": [],
   "source": [
    "columns = ['서비스', '순위', '타이틀', '가수']"
   ]
  },
  {
   "cell_type": "code",
   "execution_count": null,
   "metadata": {},
   "outputs": [],
   "source": [
    "pd_data = pd.DataFrame(song_data, columns=columns)\n",
    "pd_data.head()"
   ]
  },
  {
   "cell_type": "code",
   "execution_count": null,
   "metadata": {},
   "outputs": [],
   "source": [
    "pd_data.to_excel('./melon20210413.xlsx', index=False)"
   ]
  },
  {
   "cell_type": "code",
   "execution_count": null,
   "metadata": {},
   "outputs": [],
   "source": [
    "from selenium import webdriver \n",
    "driver = webdriver.Chrome(\"./chromedriver88.exe\")\n"
   ]
  },
  {
   "cell_type": "code",
   "execution_count": null,
   "metadata": {},
   "outputs": [],
   "source": [
    "url = 'https://music.bugs.co.kr/chart'\n",
    "driver.get(url)\n",
    "html = driver.page_source \n",
    "soup = BeautifulSoup(html, 'html.parser')\n",
    "songs = soup.select('table.byChart > tbody > tr') # 필요할때마다 가져오는 방식이라 시간이 걸림 -> 특정 위치를 선택한 뒤, 브라우저 조작 가능 \n",
    "print(len(songs))"
   ]
  },
  {
   "cell_type": "code",
   "execution_count": null,
   "metadata": {},
   "outputs": [],
   "source": [
    "song = songs[0]\n",
    "title = song.select('a')\n",
    "len(title)"
   ]
  },
  {
   "cell_type": "code",
   "execution_count": null,
   "metadata": {},
   "outputs": [],
   "source": [
    "title = song.select('p > a')\n",
    "len(title)"
   ]
  },
  {
   "cell_type": "code",
   "execution_count": null,
   "metadata": {},
   "outputs": [],
   "source": [
    "title = song.select('p.title > a')\n",
    "len(title)"
   ]
  },
  {
   "cell_type": "code",
   "execution_count": null,
   "metadata": {},
   "outputs": [],
   "source": [
    "title = song.select('p.title > a')[0].text\n",
    "title"
   ]
  },
  {
   "cell_type": "code",
   "execution_count": null,
   "metadata": {},
   "outputs": [],
   "source": [
    "singer = song.select('p.artist > a')[0].text\n",
    "singer"
   ]
  },
  {
   "cell_type": "code",
   "execution_count": null,
   "metadata": {},
   "outputs": [],
   "source": [
    "songs = soup.select('table.byChart > tbody > tr')\n",
    "for song in songs :\n",
    "    title = song.select('p.title > a')[0].text\n",
    "    singer = song.select('p.artist > a')[0].text\n",
    "    print(title, singer, sep= ' | ')"
   ]
  },
  {
   "cell_type": "code",
   "execution_count": null,
   "metadata": {},
   "outputs": [],
   "source": [
    "song_data = []\n",
    "rank = 1\n",
    "songs = soup.select('table.byChart > tbody > tr')\n",
    "for song in songs :\n",
    "    title = song.select('p.title > a')[0].text\n",
    "    singer = song.select('p.artist > a')[0].text\n",
    "    song_data.append(['Bugs', rank, title, singer])\n",
    "    #print(title, singer, sep= ' | ')\n",
    "    rank = rank + 1"
   ]
  },
  {
   "cell_type": "code",
   "execution_count": null,
   "metadata": {},
   "outputs": [],
   "source": [
    "song_data"
   ]
  },
  {
   "cell_type": "code",
   "execution_count": null,
   "metadata": {},
   "outputs": [],
   "source": [
    "pd_data = pd.DataFrame(song_data, columns=columns)\n",
    "pd_data.head()"
   ]
  },
  {
   "cell_type": "code",
   "execution_count": null,
   "metadata": {},
   "outputs": [],
   "source": [
    "pd_data.to_excel('./bugs.xlsx', index=False)"
   ]
  },
  {
   "cell_type": "code",
   "execution_count": null,
   "metadata": {},
   "outputs": [],
   "source": []
  },
  {
   "cell_type": "code",
   "execution_count": null,
   "metadata": {},
   "outputs": [],
   "source": []
  },
  {
   "cell_type": "code",
   "execution_count": null,
   "metadata": {},
   "outputs": [],
   "source": []
  },
  {
   "cell_type": "code",
   "execution_count": null,
   "metadata": {},
   "outputs": [],
   "source": []
  }
 ],
 "metadata": {
  "kernelspec": {
   "name": "python392jvsc74a57bd05e8274657cc6e213aa501dbf3b19575a0cd02f8a5f94262b218f70147ad917b3",
   "display_name": "Python 3.9.2 64-bit"
  },
  "language_info": {
   "codemirror_mode": {
    "name": "ipython",
    "version": 3
   },
   "file_extension": ".py",
   "mimetype": "text/x-python",
   "name": "python",
   "nbconvert_exporter": "python",
   "pygments_lexer": "ipython3",
   "version": "3.9.2"
  },
  "metadata": {
   "interpreter": {
    "hash": "5e8274657cc6e213aa501dbf3b19575a0cd02f8a5f94262b218f70147ad917b3"
   }
  }
 },
 "nbformat": 4,
 "nbformat_minor": 4
}