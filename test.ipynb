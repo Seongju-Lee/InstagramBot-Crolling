{
 "metadata": {
  "language_info": {
   "codemirror_mode": {
    "name": "ipython",
    "version": 3
   },
   "file_extension": ".py",
   "mimetype": "text/x-python",
   "name": "python",
   "nbconvert_exporter": "python",
   "pygments_lexer": "ipython3",
   "version": "3.6.4-final"
  },
  "orig_nbformat": 2,
  "kernelspec": {
   "name": "python3",
   "display_name": "Python 3.6.4 64-bit (conda)",
   "metadata": {
    "interpreter": {
     "hash": "bd7f98a86e31bd961d084db4d5ffc682d91a41ca1cbb569e798decea5fdae0ba"
    }
   }
  }
 },
 "nbformat": 4,
 "nbformat_minor": 2,
 "cells": [
  {
   "cell_type": "code",
   "execution_count": 1,
   "metadata": {},
   "outputs": [],
   "source": [
    "# selenium 임포트\n",
    "\n",
    "from selenium import webdriver\n",
    "from selenium.webdriver.common.by import By\n",
    "from selenium.webdriver.support.ui import WebDriverWait\n",
    "from selenium.webdriver.support import expected_conditions as EC\n",
    "from selenium.webdriver.common.keys import Keys\n",
    "import time"
   ]
  },
  {
   "cell_type": "code",
   "execution_count": 137,
   "metadata": {},
   "outputs": [
    {
     "output_type": "stream",
     "name": "stdout",
     "text": [
      "tettete\n"
     ]
    }
   ],
   "source": [
    "# chrome driver 연결 및 instagram 로그인 접속 후 해시태그 검색\n",
    "\n",
    "driver = webdriver.Chrome(\"C:/Users/eunhaengdong/Desktop/pypy/chromedriver88.exe\")\n",
    "driver.implicitly_wait(200)\n",
    "driver.get(\"https://www.instagram.com/\") # 인스타그램 접속\n",
    "\n",
    "username_box_check = WebDriverWait(driver, 10).until(EC.presence_of_element_located\\\n",
    "((By.XPATH, '//*[@id=\"loginForm\"]/div/div[1]/div/label/input')))\n",
    "\n",
    "driver.find_elements_by_xpath('//*[@id=\"loginForm\"]/div/div[5]/button')[0].click() # 페이스북 로그인\n",
    "\n",
    "username_box = driver.find_elements_by_xpath('//*[@id=\"email\"]')[0]\n",
    "username_box.send_keys(\"01037038419\") #페이스북 ID\n",
    "\n",
    "username_box = driver.find_elements_by_xpath('//*[@id=\"pass\"]')[0]\n",
    "username_box.send_keys(\"dltjdwn123!\") #페이스북 PW\n",
    "\n",
    "login_button = driver.find_elements_by_xpath('//*[@id=\"loginbutton\"]')[0]\n",
    "login_button.click() # 로그인 버튼\n",
    "\n",
    "username_box_check = WebDriverWait(driver, 10).until(EC.presence_of_element_located\\\n",
    "((By.XPATH, '//section/nav/div[2]/div/div/div[2]/input')))\n",
    "\n",
    "test = driver.find_elements_by_xpath('//div[4]/div/div/div/div[3]/button[2]')[0]\n",
    "if test:    # update 뜨는 팝업 창 -> 다음에 하기 버튼 클릭\n",
    "    test.click()\n",
    "\n",
    "search_hashtag = driver.find_elements_by_xpath('//section/nav/div[2]/div/div/div[2]/input')[0]\n",
    "search_hashtag.send_keys(\"미국\") # 해쉬태그 검색\n",
    "\n",
    "\n",
    "time.sleep(3)\n",
    "search_hashtag.send_keys(Keys.ENTER)\n",
    "time.sleep(1)\n",
    "search_hashtag.send_keys(Keys.ENTER) # 해쉬태그 검색 결과창으로 이동\n",
    "\n",
    "print('tettete')"
   ]
  },
  {
   "cell_type": "code",
   "execution_count": 140,
   "metadata": {},
   "outputs": [
    {
     "output_type": "error",
     "ename": "StaleElementReferenceException",
     "evalue": "Message: stale element reference: element is not attached to the page document\n  (Session info: chrome=89.0.4389.82)\n",
     "traceback": [
      "\u001b[1;31m---------------------------------------------------------------------------\u001b[0m",
      "\u001b[1;31mStaleElementReferenceException\u001b[0m            Traceback (most recent call last)",
      "\u001b[1;32m<ipython-input-140-eb91c1f6c7ff>\u001b[0m in \u001b[0;36m<module>\u001b[1;34m\u001b[0m\n\u001b[0;32m     36\u001b[0m \u001b[1;33m\u001b[0m\u001b[0m\n\u001b[0;32m     37\u001b[0m     \u001b[1;32mfor\u001b[0m \u001b[0mi\u001b[0m \u001b[1;32min\u001b[0m \u001b[0mbutton_list\u001b[0m\u001b[1;33m:\u001b[0m \u001b[1;31m# 닉네임인지 확인\u001b[0m\u001b[1;33m\u001b[0m\u001b[0m\n\u001b[1;32m---> 38\u001b[1;33m         \u001b[0mlist_\u001b[0m\u001b[1;33m.\u001b[0m\u001b[0mappend\u001b[0m\u001b[1;33m(\u001b[0m\u001b[0mi\u001b[0m\u001b[1;33m.\u001b[0m\u001b[0mtext\u001b[0m\u001b[1;33m)\u001b[0m\u001b[1;33m\u001b[0m\u001b[0m\n\u001b[0m\u001b[0;32m     39\u001b[0m \u001b[1;33m\u001b[0m\u001b[0m\n\u001b[0;32m     40\u001b[0m         \u001b[1;32mfor\u001b[0m \u001b[0mj\u001b[0m \u001b[1;32min\u001b[0m \u001b[0mrange\u001b[0m\u001b[1;33m(\u001b[0m\u001b[0mlen\u001b[0m\u001b[1;33m(\u001b[0m\u001b[0mlist_\u001b[0m\u001b[1;33m)\u001b[0m\u001b[1;33m)\u001b[0m\u001b[1;33m:\u001b[0m\u001b[1;33m\u001b[0m\u001b[0m\n",
      "\u001b[1;32m~\\Anaconda3\\lib\\site-packages\\selenium\\webdriver\\remote\\webelement.py\u001b[0m in \u001b[0;36mtext\u001b[1;34m(self)\u001b[0m\n\u001b[0;32m     74\u001b[0m     \u001b[1;32mdef\u001b[0m \u001b[0mtext\u001b[0m\u001b[1;33m(\u001b[0m\u001b[0mself\u001b[0m\u001b[1;33m)\u001b[0m\u001b[1;33m:\u001b[0m\u001b[1;33m\u001b[0m\u001b[0m\n\u001b[0;32m     75\u001b[0m         \u001b[1;34m\"\"\"The text of the element.\"\"\"\u001b[0m\u001b[1;33m\u001b[0m\u001b[0m\n\u001b[1;32m---> 76\u001b[1;33m         \u001b[1;32mreturn\u001b[0m \u001b[0mself\u001b[0m\u001b[1;33m.\u001b[0m\u001b[0m_execute\u001b[0m\u001b[1;33m(\u001b[0m\u001b[0mCommand\u001b[0m\u001b[1;33m.\u001b[0m\u001b[0mGET_ELEMENT_TEXT\u001b[0m\u001b[1;33m)\u001b[0m\u001b[1;33m[\u001b[0m\u001b[1;34m'value'\u001b[0m\u001b[1;33m]\u001b[0m\u001b[1;33m\u001b[0m\u001b[0m\n\u001b[0m\u001b[0;32m     77\u001b[0m \u001b[1;33m\u001b[0m\u001b[0m\n\u001b[0;32m     78\u001b[0m     \u001b[1;32mdef\u001b[0m \u001b[0mclick\u001b[0m\u001b[1;33m(\u001b[0m\u001b[0mself\u001b[0m\u001b[1;33m)\u001b[0m\u001b[1;33m:\u001b[0m\u001b[1;33m\u001b[0m\u001b[0m\n",
      "\u001b[1;32m~\\Anaconda3\\lib\\site-packages\\selenium\\webdriver\\remote\\webelement.py\u001b[0m in \u001b[0;36m_execute\u001b[1;34m(self, command, params)\u001b[0m\n\u001b[0;32m    631\u001b[0m             \u001b[0mparams\u001b[0m \u001b[1;33m=\u001b[0m \u001b[1;33m{\u001b[0m\u001b[1;33m}\u001b[0m\u001b[1;33m\u001b[0m\u001b[0m\n\u001b[0;32m    632\u001b[0m         \u001b[0mparams\u001b[0m\u001b[1;33m[\u001b[0m\u001b[1;34m'id'\u001b[0m\u001b[1;33m]\u001b[0m \u001b[1;33m=\u001b[0m \u001b[0mself\u001b[0m\u001b[1;33m.\u001b[0m\u001b[0m_id\u001b[0m\u001b[1;33m\u001b[0m\u001b[0m\n\u001b[1;32m--> 633\u001b[1;33m         \u001b[1;32mreturn\u001b[0m \u001b[0mself\u001b[0m\u001b[1;33m.\u001b[0m\u001b[0m_parent\u001b[0m\u001b[1;33m.\u001b[0m\u001b[0mexecute\u001b[0m\u001b[1;33m(\u001b[0m\u001b[0mcommand\u001b[0m\u001b[1;33m,\u001b[0m \u001b[0mparams\u001b[0m\u001b[1;33m)\u001b[0m\u001b[1;33m\u001b[0m\u001b[0m\n\u001b[0m\u001b[0;32m    634\u001b[0m \u001b[1;33m\u001b[0m\u001b[0m\n\u001b[0;32m    635\u001b[0m     \u001b[1;32mdef\u001b[0m \u001b[0mfind_element\u001b[0m\u001b[1;33m(\u001b[0m\u001b[0mself\u001b[0m\u001b[1;33m,\u001b[0m \u001b[0mby\u001b[0m\u001b[1;33m=\u001b[0m\u001b[0mBy\u001b[0m\u001b[1;33m.\u001b[0m\u001b[0mID\u001b[0m\u001b[1;33m,\u001b[0m \u001b[0mvalue\u001b[0m\u001b[1;33m=\u001b[0m\u001b[1;32mNone\u001b[0m\u001b[1;33m)\u001b[0m\u001b[1;33m:\u001b[0m\u001b[1;33m\u001b[0m\u001b[0m\n",
      "\u001b[1;32m~\\Anaconda3\\lib\\site-packages\\selenium\\webdriver\\remote\\webdriver.py\u001b[0m in \u001b[0;36mexecute\u001b[1;34m(self, driver_command, params)\u001b[0m\n\u001b[0;32m    319\u001b[0m         \u001b[0mresponse\u001b[0m \u001b[1;33m=\u001b[0m \u001b[0mself\u001b[0m\u001b[1;33m.\u001b[0m\u001b[0mcommand_executor\u001b[0m\u001b[1;33m.\u001b[0m\u001b[0mexecute\u001b[0m\u001b[1;33m(\u001b[0m\u001b[0mdriver_command\u001b[0m\u001b[1;33m,\u001b[0m \u001b[0mparams\u001b[0m\u001b[1;33m)\u001b[0m\u001b[1;33m\u001b[0m\u001b[0m\n\u001b[0;32m    320\u001b[0m         \u001b[1;32mif\u001b[0m \u001b[0mresponse\u001b[0m\u001b[1;33m:\u001b[0m\u001b[1;33m\u001b[0m\u001b[0m\n\u001b[1;32m--> 321\u001b[1;33m             \u001b[0mself\u001b[0m\u001b[1;33m.\u001b[0m\u001b[0merror_handler\u001b[0m\u001b[1;33m.\u001b[0m\u001b[0mcheck_response\u001b[0m\u001b[1;33m(\u001b[0m\u001b[0mresponse\u001b[0m\u001b[1;33m)\u001b[0m\u001b[1;33m\u001b[0m\u001b[0m\n\u001b[0m\u001b[0;32m    322\u001b[0m             response['value'] = self._unwrap_value(\n\u001b[0;32m    323\u001b[0m                 response.get('value', None))\n",
      "\u001b[1;32m~\\Anaconda3\\lib\\site-packages\\selenium\\webdriver\\remote\\errorhandler.py\u001b[0m in \u001b[0;36mcheck_response\u001b[1;34m(self, response)\u001b[0m\n\u001b[0;32m    240\u001b[0m                 \u001b[0malert_text\u001b[0m \u001b[1;33m=\u001b[0m \u001b[0mvalue\u001b[0m\u001b[1;33m[\u001b[0m\u001b[1;34m'alert'\u001b[0m\u001b[1;33m]\u001b[0m\u001b[1;33m.\u001b[0m\u001b[0mget\u001b[0m\u001b[1;33m(\u001b[0m\u001b[1;34m'text'\u001b[0m\u001b[1;33m)\u001b[0m\u001b[1;33m\u001b[0m\u001b[0m\n\u001b[0;32m    241\u001b[0m             \u001b[1;32mraise\u001b[0m \u001b[0mexception_class\u001b[0m\u001b[1;33m(\u001b[0m\u001b[0mmessage\u001b[0m\u001b[1;33m,\u001b[0m \u001b[0mscreen\u001b[0m\u001b[1;33m,\u001b[0m \u001b[0mstacktrace\u001b[0m\u001b[1;33m,\u001b[0m \u001b[0malert_text\u001b[0m\u001b[1;33m)\u001b[0m\u001b[1;33m\u001b[0m\u001b[0m\n\u001b[1;32m--> 242\u001b[1;33m         \u001b[1;32mraise\u001b[0m \u001b[0mexception_class\u001b[0m\u001b[1;33m(\u001b[0m\u001b[0mmessage\u001b[0m\u001b[1;33m,\u001b[0m \u001b[0mscreen\u001b[0m\u001b[1;33m,\u001b[0m \u001b[0mstacktrace\u001b[0m\u001b[1;33m)\u001b[0m\u001b[1;33m\u001b[0m\u001b[0m\n\u001b[0m\u001b[0;32m    243\u001b[0m \u001b[1;33m\u001b[0m\u001b[0m\n\u001b[0;32m    244\u001b[0m     \u001b[1;32mdef\u001b[0m \u001b[0m_value_or_default\u001b[0m\u001b[1;33m(\u001b[0m\u001b[0mself\u001b[0m\u001b[1;33m,\u001b[0m \u001b[0mobj\u001b[0m\u001b[1;33m,\u001b[0m \u001b[0mkey\u001b[0m\u001b[1;33m,\u001b[0m \u001b[0mdefault\u001b[0m\u001b[1;33m)\u001b[0m\u001b[1;33m:\u001b[0m\u001b[1;33m\u001b[0m\u001b[0m\n",
      "\u001b[1;31mStaleElementReferenceException\u001b[0m: Message: stale element reference: element is not attached to the page document\n  (Session info: chrome=89.0.4389.82)\n"
     ]
    }
   ],
   "source": [
    "# 좋아요, 팔로우 기능\n",
    "\n",
    "import sys\n",
    "import re\n",
    "\n",
    "def isHangul(text):\n",
    "    #Check the Python Version\n",
    "    pyVer3 =  sys.version_info >= (3, 0)\n",
    "\n",
    "    if pyVer3 : # for Ver 3 or later\n",
    "        encText = text\n",
    "    else: # for Ver 2.x\n",
    "        if type(text) is not unicode:\n",
    "            encText = text.decode('utf-8')\n",
    "        else:\n",
    "            encText = text\n",
    "\n",
    "    hanCount = len(re.findall(u'[\\u3130-\\u318F\\uAC00-\\uD7A3]+', encText))\n",
    "    return hanCount > 0\n",
    "\n",
    "count = 0\n",
    "\n",
    "\n",
    "bool_ = True\n",
    "bool_following = True\n",
    "\n",
    "while True:\n",
    "    list_ = []\n",
    "\n",
    "    if bool_ == True:\n",
    "        count = 0\n",
    "        first_post = driver.find_elements_by_xpath('//div[1]/div/div/div[1]/div[1]/a')[0]\n",
    "        first_post.click()\n",
    "        bool_following = False\n",
    "        \n",
    "    time.sleep(1)\n",
    "    button_list = driver.find_elements_by_xpath(\"//button\") # a태그 찾음\n",
    "\n",
    "    for i in button_list: # 닉네임인지 확인\n",
    "        list_.append(i.text)\n",
    "\n",
    "        for j in range(len(list_)):\n",
    "            \n",
    "            if list_[j] == '팔로잉':\n",
    "                # print(list_[j])\n",
    "                bool_following = True\n",
    "                break\n",
    "            else:\n",
    "                bool_following = False\n",
    "\n",
    "    time.sleep(2)\n",
    "    if bool_following == True:\n",
    "        element_list = driver.find_elements_by_xpath(\"//a\") # a태그 찾음\n",
    "        for j in element_list:\n",
    "            if j.text == '다음':\n",
    "                count += 1\n",
    "                bool_ = False\n",
    "                j.click()\n",
    "                break\n",
    "    \n",
    "    elif bool_following == False:\n",
    "        first_post_like = driver.find_elements_by_xpath('//div[3]/section[1]/span[1]/button')[0]\n",
    "        first_post_like.click()\n",
    "\n",
    "       \n",
    "\n",
    "        follow = driver.find_elements_by_xpath('//div[2]/div[1]/div[1]/span/a')[0]\n",
    "        #driver.execute_script(\"arguments[0].click();\", follow)\n",
    "        follow.click()\n",
    "\n",
    "        button_list = driver.find_elements_by_xpath(\"//button\") # button 태그 찾음\n",
    "        for i in button_list: # 닉네임인지 확인\n",
    "            if i.text == '팔로우':\n",
    "                follow_button = driver.find_elements_by_xpath('//div/span/span[1]/button')[0]\n",
    "                follow_button.click()\n",
    "                break\n",
    "        \n",
    "\n",
    "        for _ in range(count + 2):\n",
    "            driver.back()\n",
    "        \n",
    "        \n",
    "        bool_ = True\n",
    "\n"
   ]
  },
  {
   "cell_type": "code",
   "execution_count": 139,
   "metadata": {},
   "outputs": [
    {
     "output_type": "stream",
     "name": "stdout",
     "text": [
      "팔로우\n\n\n\n\n팔로우\n\n팔로우\n\n팔로우\n\n팔로우\n\n팔로우\n\n팔로우\n\n팔로우\n\n팔로우\n\n팔로우\n\n팔로우\n\n"
     ]
    }
   ],
   "source": [
    "button_list = driver.find_elements_by_xpath(\"//button\") # a태그 찾음\n",
    "\n",
    "list_ = []\n",
    "for i in button_list: # 닉네임인지 확인\n",
    "    # list_.append(i.text)\n",
    "    print(i.text)\n",
    "    # for j in range(len(list_)):\n",
    "    #     # print(list_[j])\n",
    "    #     if list_[j] == '팔로잉':\n",
    "            \n",
    "    #         bool_following = True\n",
    "    #         break\n",
    "    #     else:\n",
    "    #         bool_following = False"
   ]
  },
  {
   "cell_type": "code",
   "execution_count": null,
   "metadata": {},
   "outputs": [],
   "source": [
    "button_list = driver.find_elements_by_xpath(\"//button\") # a태그 찾음\n",
    "\n",
    "list_ = []\n",
    "for i in button_list: # 닉네임인지 확인\n",
    "    list_.append(i.text)\n",
    "    print(i.text)\n",
    "    for j in range(len(list_)):\n",
    "        # print(list_[j])\n",
    "        if list_[j] == '팔로잉':\n",
    "            \n",
    "            bool_following = True\n",
    "            break\n",
    "        else:\n",
    "            bool_following = False"
   ]
  }
 ]
}