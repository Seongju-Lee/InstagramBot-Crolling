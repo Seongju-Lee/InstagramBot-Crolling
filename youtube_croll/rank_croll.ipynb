{
 "metadata": {
  "language_info": {
   "codemirror_mode": {
    "name": "ipython",
    "version": 3
   },
   "file_extension": ".py",
   "mimetype": "text/x-python",
   "name": "python",
   "nbconvert_exporter": "python",
   "pygments_lexer": "ipython3",
   "version": "3.9.2"
  },
  "orig_nbformat": 2,
  "kernelspec": {
   "name": "python392jvsc74a57bd05e8274657cc6e213aa501dbf3b19575a0cd02f8a5f94262b218f70147ad917b3",
   "display_name": "Python 3.9.2 64-bit"
  },
  "metadata": {
   "interpreter": {
    "hash": "5e8274657cc6e213aa501dbf3b19575a0cd02f8a5f94262b218f70147ad917b3"
   }
  }
 },
 "nbformat": 4,
 "nbformat_minor": 2,
 "cells": [
  {
   "cell_type": "code",
   "execution_count": 64,
   "metadata": {},
   "outputs": [],
   "source": [
    "from bs4 import BeautifulSoup\n",
    "from selenium import webdriver\n",
    "\n",
    "options = webdriver.ChromeOptions()\n",
    "options.add_experimental_option('excludeSwitches', ['enable-logging'])\n",
    "# 드라이버 bluetooth 자동종료 제거 option\n",
    "driver = webdriver.Chrome(\"C:/Users/lsj40/Documents/GitHub/InstagramBot/chromedriver/chromedriver89.exe\", options = options)\n",
    "driver.implicitly_wait(200)"
   ]
  },
  {
   "cell_type": "code",
   "execution_count": 93,
   "metadata": {
    "tags": []
   },
   "outputs": [
    {
     "output_type": "stream",
     "name": "stdout",
     "text": [
      "i:  0\n",
      "i22:  1\n",
      "i22:  2\n",
      "i22:  3\n",
      "i22:  4\n",
      "i22:  5\n",
      "i22:  6\n",
      "i22:  7\n",
      "i22:  8\n",
      "i22:  9\n"
     ]
    },
    {
     "output_type": "execute_result",
     "data": {
      "text/plain": [
       "          title                     category replaced_subscriber      views  \\\n",
       "0    [음악/댄스/가수]                    BLACKPINK            60900000  174억9540만   \n",
       "1    [음악/댄스/가수]                  HYBE LABELS            54200000  160억9398만   \n",
       "2    [음악/댄스/가수]                    BANGTANTV            49300000   99억2745만   \n",
       "3    [음악/댄스/가수]                       SMTOWN            27100000  206억1403만   \n",
       "4      [키즈/어린이]  Boram Tube Vlog [보람튜브 브이로그]            26500000  110억5288만   \n",
       "..          ...                          ...                 ...        ...   \n",
       "995    [취미/라이프]                       공구왕황부장              470000      8998만   \n",
       "996     [패션/미용]                    KIMDAX킴닥스              470000      5312만   \n",
       "997        [게임]                         썩쏘TV              470000    3억0397만   \n",
       "998        [게임]   Today on the Korean Server              470000      5296만   \n",
       "999     [TV/방송]                    아이템의 인벤토리              470000    1억0951만   \n",
       "\n",
       "     videos  \n",
       "0      355개  \n",
       "1      597개  \n",
       "2    1,482개  \n",
       "3    3,691개  \n",
       "4      223개  \n",
       "..      ...  \n",
       "995    416개  \n",
       "996    372개  \n",
       "997  1,958개  \n",
       "998    650개  \n",
       "999    157개  \n",
       "\n",
       "[1000 rows x 5 columns]"
      ],
      "text/html": "<div>\n<style scoped>\n    .dataframe tbody tr th:only-of-type {\n        vertical-align: middle;\n    }\n\n    .dataframe tbody tr th {\n        vertical-align: top;\n    }\n\n    .dataframe thead th {\n        text-align: right;\n    }\n</style>\n<table border=\"1\" class=\"dataframe\">\n  <thead>\n    <tr style=\"text-align: right;\">\n      <th></th>\n      <th>title</th>\n      <th>category</th>\n      <th>replaced_subscriber</th>\n      <th>views</th>\n      <th>videos</th>\n    </tr>\n  </thead>\n  <tbody>\n    <tr>\n      <th>0</th>\n      <td>[음악/댄스/가수]</td>\n      <td>BLACKPINK</td>\n      <td>60900000</td>\n      <td>174억9540만</td>\n      <td>355개</td>\n    </tr>\n    <tr>\n      <th>1</th>\n      <td>[음악/댄스/가수]</td>\n      <td>HYBE LABELS</td>\n      <td>54200000</td>\n      <td>160억9398만</td>\n      <td>597개</td>\n    </tr>\n    <tr>\n      <th>2</th>\n      <td>[음악/댄스/가수]</td>\n      <td>BANGTANTV</td>\n      <td>49300000</td>\n      <td>99억2745만</td>\n      <td>1,482개</td>\n    </tr>\n    <tr>\n      <th>3</th>\n      <td>[음악/댄스/가수]</td>\n      <td>SMTOWN</td>\n      <td>27100000</td>\n      <td>206억1403만</td>\n      <td>3,691개</td>\n    </tr>\n    <tr>\n      <th>4</th>\n      <td>[키즈/어린이]</td>\n      <td>Boram Tube Vlog [보람튜브 브이로그]</td>\n      <td>26500000</td>\n      <td>110억5288만</td>\n      <td>223개</td>\n    </tr>\n    <tr>\n      <th>...</th>\n      <td>...</td>\n      <td>...</td>\n      <td>...</td>\n      <td>...</td>\n      <td>...</td>\n    </tr>\n    <tr>\n      <th>995</th>\n      <td>[취미/라이프]</td>\n      <td>공구왕황부장</td>\n      <td>470000</td>\n      <td>8998만</td>\n      <td>416개</td>\n    </tr>\n    <tr>\n      <th>996</th>\n      <td>[패션/미용]</td>\n      <td>KIMDAX킴닥스</td>\n      <td>470000</td>\n      <td>5312만</td>\n      <td>372개</td>\n    </tr>\n    <tr>\n      <th>997</th>\n      <td>[게임]</td>\n      <td>썩쏘TV</td>\n      <td>470000</td>\n      <td>3억0397만</td>\n      <td>1,958개</td>\n    </tr>\n    <tr>\n      <th>998</th>\n      <td>[게임]</td>\n      <td>Today on the Korean Server</td>\n      <td>470000</td>\n      <td>5296만</td>\n      <td>650개</td>\n    </tr>\n    <tr>\n      <th>999</th>\n      <td>[TV/방송]</td>\n      <td>아이템의 인벤토리</td>\n      <td>470000</td>\n      <td>1억0951만</td>\n      <td>157개</td>\n    </tr>\n  </tbody>\n</table>\n<p>1000 rows × 5 columns</p>\n</div>"
     },
     "metadata": {},
     "execution_count": 93
    }
   ],
   "source": [
    "import time\n",
    "import pandas as pd\n",
    "\n",
    "driver.get('https://youtube-rank.com/board/bbs/board.php?bo_table=youtube')\n",
    "\n",
    "song_data = []\n",
    "\n",
    "\n",
    "for i in range(10):\n",
    "\n",
    "    print('i22: ', i)\n",
    "    if i != 0:\n",
    "        first = driver.find_elements_by_xpath('//*[@id=\"list-skin\"]/nav/span/a[{}]'.format(i+1))[0]\n",
    "        first.click()\n",
    "    html = driver.page_source\n",
    "    soup = BeautifulSoup(html, 'html.parser')\n",
    "\n",
    "    songs = soup.select('td > h1 > p')  \n",
    "    channel = soup.select('td > h1 > a')\n",
    "    subscribe = soup.select('tr > .subscriber_cnt')\n",
    "    view = soup.select('tr > .view_cnt')\n",
    "    video = soup.select('tr > .video_cnt')\n",
    "    hit = soup.select('tr > td > strong')\n",
    " \n",
    "    for j in range(100):\n",
    "        \n",
    "        \n",
    "        title = songs[j].getText().strip()\n",
    "        category = channel[j].getText().strip()\n",
    "        subscriber = subscribe[j+1].getText().strip()\n",
    "        views = view[j+1].getText().strip()\n",
    "        videos = video[j+1].getText().strip()\n",
    "\n",
    "        subscriber = subscriber.replace('만', '0000')\n",
    "\n",
    "        data = [title, category, subscriber, views, videos]\n",
    "        song_data.append(data)\n",
    "\n",
    "\n",
    "\n",
    "results_df = pd.DataFrame(song_data)\n",
    "\n",
    "results_df.columns = ['title','category','replaced_subscriber','views','videos']\n",
    "results_df = results_df.reset_index(drop=True)\n",
    "results_df.to_excel('../files/youtube_rank.xlsx')    \n",
    "results_df"
   ]
  }
 ]
}