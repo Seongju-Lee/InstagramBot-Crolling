{
 "metadata": {
  "language_info": {
   "codemirror_mode": {
    "name": "ipython",
    "version": 3
   },
   "file_extension": ".py",
   "mimetype": "text/x-python",
   "name": "python",
   "nbconvert_exporter": "python",
   "pygments_lexer": "ipython3",
   "version": "3.9.2"
  },
  "orig_nbformat": 2,
  "kernelspec": {
   "name": "python392jvsc74a57bd05e8274657cc6e213aa501dbf3b19575a0cd02f8a5f94262b218f70147ad917b3",
   "display_name": "Python 3.9.2 64-bit"
  },
  "metadata": {
   "interpreter": {
    "hash": "5e8274657cc6e213aa501dbf3b19575a0cd02f8a5f94262b218f70147ad917b3"
   }
  }
 },
 "nbformat": 4,
 "nbformat_minor": 2,
 "cells": [
  {
   "cell_type": "code",
   "execution_count": 1,
   "metadata": {},
   "outputs": [],
   "source": [
    "import time\n",
    "\n",
    "from selenium import webdriver\n",
    "from bs4 import BeautifulSoup\n",
    "import re # 정규표현식 사용하기 위해"
   ]
  },
  {
   "cell_type": "code",
   "execution_count": 9,
   "metadata": {},
   "outputs": [],
   "source": [
    "driver = webdriver.Chrome('./chromedriver/chromedriver89.exe')\n",
    "\n",
    "driver.get('http://www.instargram.com')\n",
    "time.sleep(2)"
   ]
  },
  {
   "cell_type": "code",
   "execution_count": 10,
   "metadata": {},
   "outputs": [],
   "source": [
    "email = 'ID입력'\n",
    "input_id = driver.find_elements_by_css_selector('input._2hvTZ.pexuQ.zyHYP')[0]\n",
    "input_id.clear()\n",
    "input_id.send_keys(email)\n",
    "\n",
    "password = 'PW입력' ### 비번 정보 수정 필요\n",
    "input_pw = driver.find_elements_by_css_selector('input._2hvTZ.pexuQ.zyHYP')[1]\n",
    "input_pw.clear()\n",
    "input_pw.send_keys(password)\n",
    "input_pw.submit()"
   ]
  },
  {
   "cell_type": "code",
   "execution_count": 11,
   "metadata": {},
   "outputs": [],
   "source": [
    "def insta_searching(word):\n",
    "    url = \"https://www.instagram.com/explore/tags/\" + word\n",
    "    return url"
   ]
  },
  {
   "cell_type": "code",
   "execution_count": 172,
   "metadata": {},
   "outputs": [],
   "source": [
    "word = \"제주도맛집\"\n",
    "\n",
    "url = insta_searching(word)\n",
    "driver.get(url)"
   ]
  },
  {
   "cell_type": "code",
   "execution_count": 173,
   "metadata": {},
   "outputs": [],
   "source": [
    "def select_first(driver):\n",
    "    first = driver.find_element_by_css_selector(\"div._9AhH0\")\n",
    "    first.click()\n",
    "    time.sleep(3)"
   ]
  },
  {
   "cell_type": "code",
   "execution_count": 174,
   "metadata": {},
   "outputs": [],
   "source": [
    "select_first(driver)"
   ]
  },
  {
   "cell_type": "code",
   "execution_count": 175,
   "metadata": {
    "tags": [
     "outputPrepend"
    ]
   },
   "outputs": [
    {
     "output_type": "stream",
     "name": "stdout",
     "text": [
      "\"24\" cy=\"24\" fill-rule=\"evenodd\" r=\"4.5\"></circle><circle clip-rule=\"evenodd\" cx=\"40\" cy=\"24\" fill-rule=\"evenodd\" r=\"4.5\"></circle></svg></div></div></button></div></div><span class=\"jdtwu\"><div class=\"_2ic5v\"><button class=\"wpO6b ZQScA \" type=\"button\"><div class=\"QBdPU \"><span class=\"\"><svg aria-label=\"좋아요\" class=\"_8-yf5 \" fill=\"#262626\" height=\"12\" viewBox=\"0 0 48 48\" width=\"12\"><path d=\"M34.6 6.1c5.7 0 10.4 5.2 10.4 11.5 0 6.8-5.9 11-11.5 16S25 41.3 24 41.9c-1.1-.7-4.7-4-9.5-8.3-5.7-5-11.5-9.2-11.5-16C3 11.3 7.7 6.1 13.4 6.1c4.2 0 6.5 2 8.1 4.3 1.9 2.6 2.2 3.9 2.5 3.9.3 0 .6-1.3 2.5-3.9 1.6-2.3 3.9-4.3 8.1-4.3m0-3c-4.5 0-7.9 1.8-10.6 5.6-2.7-3.7-6.1-5.5-10.6-5.5C6 3.1 0 9.6 0 17.6c0 7.3 5.4 12 10.6 16.5.6.5 1.3 1.1 1.9 1.7l2.3 2c4.4 3.9 6.6 5.9 7.6 6.5.5.3 1.1.5 1.6.5.6 0 1.1-.2 1.6-.5 1-.6 2.8-2.2 7.8-6.8l2-1.8c.7-.6 1.3-1.2 2-1.7C42.7 29.6 48 25 48 17.6c0-8-6-14.5-13.4-14.5z\"></path></svg></span></div></button></div></span></div></li></div></ul><ul class=\"Mr508 \"><div role=\"button\" class=\"ZyFrc\" tabindex=\"0\"><li class=\"gElp9 rUo9f \" role=\"menuitem\"><div class=\"P9YgZ\"><div class=\"C7I1f \"><div class=\"Jv7Aj mArmR   pZp3x\"><div class=\"RR-M-  TKzGu  \" aria-disabled=\"true\" role=\"button\" tabindex=\"-1\"><canvas class=\"CfWVH\" height=\"53\" width=\"53\" style=\"position: absolute; top: -5px; left: -5px; width: 42px; height: 42px;\"></canvas><a class=\"_2dbep qNELH kIKUG\" href=\"/grrr__510459/\" tabindex=\"0\" style=\"width: 32px; height: 32px;\"><img alt=\"grrr__510459님의 프로필 사진\" class=\"_6q-tv\" crossorigin=\"anonymous\" data-testid=\"user-avatar\" draggable=\"false\" src=\"https://scontent-ssn1-1.cdninstagram.com/v/t51.2885-19/s150x150/126289408_368788761021228_8916727467316200374_n.jpg?tp=1&amp;_nc_ht=scontent-ssn1-1.cdninstagram.com&amp;_nc_ohc=OoXmbKN2-ygAX_SWAMi&amp;edm=AP_V10EBAAAA&amp;ccb=7-4&amp;oh=27070ecfeb1621a159add88587202b7c&amp;oe=60B9A583&amp;_nc_sid=4f375e\"></a></div></div><div class=\"C4VMK\"><h3 class=\"_6lAjh \"><div class=\"                     Igw0E     IwRSH      eGOV_         _4EzTm                                       ItkAi                                                                       \"><span class=\"Jv7Aj mArmR MqpiF  \"><a class=\"sqdOP yWX7d     _8A5w5   ZIAjV \" href=\"/grrr__510459/\" tabindex=\"0\">grrr__510459</a></span></div></h3><span class=\"\">슬쩍 눈팅하고 가욧:)</span><div class=\"                     Igw0E     IwRSH      eGOV_         _4EzTm   pjcA_                                                         aGBdT                                                  \"><div class=\"_7UhW9  PIoXz       MMzan   _0PwGv         uL8Hv         \"><a class=\"gU-I7\" href=\"/p/COeO54Pl_h1/c/17889555695135138/\" tabindex=\"0\"><time class=\"FH9sR Nzb55\" datetime=\"2021-05-05T08:03:53.000Z\" title=\"2021년 5월 5일\">18시간</time></a><button class=\"FH9sR\">답글 달기</button></div></div></div></div><div class=\"\"><div class=\"_4l6NB \"><button class=\"wpO6b  \" type=\"button\"><div class=\"QBdPU \"><div class=\"                     Igw0E   rBNOH          YBx95       _4EzTm                                                                                                              \" style=\"height: 24px; width: 24px;\"><svg aria-label=\"댓글 옵션\" class=\"_8-yf5 \" fill=\"#8e8e8e\" height=\"16\" viewBox=\"0 0 48 48\" width=\"16\"><circle clip-rule=\"evenodd\" cx=\"8\" cy=\"24\" fill-rule=\"evenodd\" r=\"4.5\"></circle><circle clip-rule=\"evenodd\" cx=\"24\" cy=\"24\" fill-rule=\"evenodd\" r=\"4.5\"></circle><circle clip-rule=\"evenodd\" cx=\"40\" cy=\"24\" fill-rule=\"evenodd\" r=\"4.5\"></circle></svg></div></div></button></div></div><span class=\"jdtwu\"><div class=\"_2ic5v\"><button class=\"wpO6b ZQScA \" type=\"button\"><div class=\"QBdPU \"><span class=\"\"><svg aria-label=\"좋아요\" class=\"_8-yf5 \" fill=\"#262626\" height=\"12\" viewBox=\"0 0 48 48\" width=\"12\"><path d=\"M34.6 6.1c5.7 0 10.4 5.2 10.4 11.5 0 6.8-5.9 11-11.5 16S25 41.3 24 41.9c-1.1-.7-4.7-4-9.5-8.3-5.7-5-11.5-9.2-11.5-16C3 11.3 7.7 6.1 13.4 6.1c4.2 0 6.5 2 8.1 4.3 1.9 2.6 2.2 3.9 2.5 3.9.3 0 .6-1.3 2.5-3.9 1.6-2.3 3.9-4.3 8.1-4.3m0-3c-4.5 0-7.9 1.8-10.6 5.6-2.7-3.7-6.1-5.5-10.6-5.5C6 3.1 0 9.6 0 17.6c0 7.3 5.4 12 10.6 16.5.6.5 1.3 1.1 1.9 1.7l2.3 2c4.4 3.9 6.6 5.9 7.6 6.5.5.3 1.1.5 1.6.5.6 0 1.1-.2 1.6-.5 1-.6 2.8-2.2 7.8-6.8l2-1.8c.7-.6 1.3-1.2 2-1.7C42.7 29.6 48 25 48 17.6c0-8-6-14.5-13.4-14.5z\"></path></svg></span></div></button></div></span></div></li></div></ul><ul class=\"Mr508 \"><div role=\"button\" class=\"ZyFrc\" tabindex=\"0\"><li class=\"gElp9 rUo9f \" role=\"menuitem\"><div class=\"P9YgZ\"><div class=\"C7I1f \"><div class=\"Jv7Aj mArmR   pZp3x\"><div class=\"RR-M-  TKzGu  \" aria-disabled=\"true\" role=\"button\" tabindex=\"-1\"><canvas class=\"CfWVH\" height=\"53\" width=\"53\" style=\"position: absolute; top: -5px; left: -5px; width: 42px; height: 42px;\"></canvas><a class=\"_2dbep qNELH kIKUG\" href=\"/ho.ho.9494/\" tabindex=\"0\" style=\"width: 32px; height: 32px;\"><img alt=\"ho.ho.9494님의 프로필 사진\" class=\"_6q-tv\" crossorigin=\"anonymous\" data-testid=\"user-avatar\" draggable=\"false\" src=\"https://scontent-ssn1-1.cdninstagram.com/v/t51.2885-19/s150x150/133278788_1058138191357816_5914338257770839273_n.jpg?tp=1&amp;_nc_ht=scontent-ssn1-1.cdninstagram.com&amp;_nc_ohc=3GkLaIwTnJ4AX-aJUWH&amp;edm=AP_V10EBAAAA&amp;ccb=7-4&amp;oh=2ce80247eddf46eaa5316f573ff8b7c1&amp;oe=60B7EDCC&amp;_nc_sid=4f375e\"></a></div></div><div class=\"C4VMK\"><h3 class=\"_6lAjh \"><div class=\"                     Igw0E     IwRSH      eGOV_         _4EzTm                                       ItkAi                                                                       \"><span class=\"Jv7Aj mArmR MqpiF  \"><a class=\"sqdOP yWX7d     _8A5w5   ZIAjV \" href=\"/ho.ho.9494/\" tabindex=\"0\">ho.ho.9494</a></span></div></h3><span class=\"\">와 대박 진짜가보고싶어요 맛있겠네요</span><div class=\"                     Igw0E     IwRSH      eGOV_         _4EzTm   pjcA_                                                         aGBdT                                                  \"><div class=\"_7UhW9  PIoXz       MMzan   _0PwGv         uL8Hv         \"><a class=\"gU-I7\" href=\"/p/COeO54Pl_h1/c/17916791353661874/\" tabindex=\"0\"><time class=\"FH9sR Nzb55\" datetime=\"2021-05-05T04:17:22.000Z\" title=\"2021년 5월 5일\">22시간</time></a><button class=\"FH9sR\">답글 달기</button></div></div></div></div><div class=\"\"><div class=\"_4l6NB \"><button class=\"wpO6b  \" type=\"button\"><div class=\"QBdPU \"><div class=\"                     Igw0E   rBNOH          YBx95       _4EzTm                                                                                                              \" style=\"height: 24px; width: 24px;\"><svg aria-label=\"댓글 옵션\" class=\"_8-yf5 \" fill=\"#8e8e8e\" height=\"16\" viewBox=\"0 0 48 48\" width=\"16\"><circle clip-rule=\"evenodd\" cx=\"8\" cy=\"24\" fill-rule=\"evenodd\" r=\"4.5\"></circle><circle clip-rule=\"evenodd\" cx=\"24\" cy=\"24\" fill-rule=\"evenodd\" r=\"4.5\"></circle><circle clip-rule=\"evenodd\" cx=\"40\" cy=\"24\" fill-rule=\"evenodd\" r=\"4.5\"></circle></svg></div></div></button></div></div><span class=\"jdtwu\"><div class=\"_2ic5v\"><button class=\"wpO6b ZQScA \" type=\"button\"><div class=\"QBdPU \"><span class=\"\"><svg aria-label=\"좋아요\" class=\"_8-yf5 \" fill=\"#262626\" height=\"12\" viewBox=\"0 0 48 48\" width=\"12\"><path d=\"M34.6 6.1c5.7 0 10.4 5.2 10.4 11.5 0 6.8-5.9 11-11.5 16S25 41.3 24 41.9c-1.1-.7-4.7-4-9.5-8.3-5.7-5-11.5-9.2-11.5-16C3 11.3 7.7 6.1 13.4 6.1c4.2 0 6.5 2 8.1 4.3 1.9 2.6 2.2 3.9 2.5 3.9.3 0 .6-1.3 2.5-3.9 1.6-2.3 3.9-4.3 8.1-4.3m0-3c-4.5 0-7.9 1.8-10.6 5.6-2.7-3.7-6.1-5.5-10.6-5.5C6 3.1 0 9.6 0 17.6c0 7.3 5.4 12 10.6 16.5.6.5 1.3 1.1 1.9 1.7l2.3 2c4.4 3.9 6.6 5.9 7.6 6.5.5.3 1.1.5 1.6.5.6 0 1.1-.2 1.6-.5 1-.6 2.8-2.2 7.8-6.8l2-1.8c.7-.6 1.3-1.2 2-1.7C42.7 29.6 48 25 48 17.6c0-8-6-14.5-13.4-14.5z\"></path></svg></span></div></button></div></span></div></li></div></ul><ul class=\"Mr508 \"><div role=\"button\" class=\"ZyFrc\" tabindex=\"0\"><li class=\"gElp9 rUo9f \" role=\"menuitem\"><div class=\"P9YgZ\"><div class=\"C7I1f \"><div class=\"Jv7Aj mArmR   pZp3x\"><div class=\"RR-M-  TKzGu  \" aria-disabled=\"true\" role=\"button\" tabindex=\"-1\"><canvas class=\"CfWVH\" height=\"53\" width=\"53\" style=\"position: absolute; top: -5px; left: -5px; width: 42px; height: 42px;\"></canvas><a class=\"_2dbep qNELH kIKUG\" href=\"/sang_e_9_._8/\" tabindex=\"0\" style=\"width: 32px; height: 32px;\"><img alt=\"sang_e_9_._8님의 프로필 사진\" class=\"_6q-tv\" crossorigin=\"anonymous\" data-testid=\"user-avatar\" draggable=\"false\" src=\"https://scontent-ssn1-1.cdninstagram.com/v/t51.2885-19/s150x150/126224470_157630329400674_8017216811475032104_n.jpg?tp=1&amp;_nc_ht=scontent-ssn1-1.cdninstagram.com&amp;_nc_ohc=9r5_Crr9nngAX82dfBj&amp;edm=AP_V10EBAAAA&amp;ccb=7-4&amp;oh=7d850833e37dcdfa3e238eae81f35d9c&amp;oe=60B8369F&amp;_nc_sid=4f375e\"></a></div></div><div class=\"C4VMK\"><h3 class=\"_6lAjh \"><div class=\"                     Igw0E     IwRSH      eGOV_         _4EzTm                                       ItkAi                                                                       \"><span class=\"Jv7Aj mArmR MqpiF  \"><a class=\"sqdOP yWX7d     _8A5w5   ZIAjV \" href=\"/sang_e_9_._8/\" tabindex=\"0\">sang_e_9_._8</a></span></div></h3><span class=\"\">제것도놀러오세요옹~^^</span><div class=\"                     Igw0E     IwRSH      eGOV_         _4EzTm   pjcA_                                                         aGBdT                                                  \"><div class=\"_7UhW9  PIoXz       MMzan   _0PwGv         uL8Hv         \"><a class=\"gU-I7\" href=\"/p/COeO54Pl_h1/c/17846501174573192/\" tabindex=\"0\"><time class=\"FH9sR Nzb55\" datetime=\"2021-05-05T22:55:23.000Z\" title=\"2021년 5월 6일\">3시간</time></a><button class=\"FH9sR\">답글 달기</button></div></div></div></div><div class=\"\"><div class=\"_4l6NB \"><button class=\"wpO6b  \" type=\"button\"><div class=\"QBdPU \"><div class=\"                     Igw0E   rBNOH          YBx95       _4EzTm                                                                                                              \" style=\"height: 24px; width: 24px;\"><svg aria-label=\"댓글 옵션\" class=\"_8-yf5 \" fill=\"#8e8e8e\" height=\"16\" viewBox=\"0 0 48 48\" width=\"16\"><circle clip-rule=\"evenodd\" cx=\"8\" cy=\"24\" fill-rule=\"evenodd\" r=\"4.5\"></circle><circle clip-rule=\"evenodd\" cx=\"24\" cy=\"24\" fill-rule=\"evenodd\" r=\"4.5\"></circle><circle clip-rule=\"evenodd\" cx=\"40\" cy=\"24\" fill-rule=\"evenodd\" r=\"4.5\"></circle></svg></div></div></button></div></div><span class=\"jdtwu\"><div class=\"_2ic5v\"><button class=\"wpO6b ZQScA \" type=\"button\"><div class=\"QBdPU \"><span class=\"\"><svg aria-label=\"좋아요\" class=\"_8-yf5 \" fill=\"#262626\" height=\"12\" viewBox=\"0 0 48 48\" width=\"12\"><path d=\"M34.6 6.1c5.7 0 10.4 5.2 10.4 11.5 0 6.8-5.9 11-11.5 16S25 41.3 24 41.9c-1.1-.7-4.7-4-9.5-8.3-5.7-5-11.5-9.2-11.5-16C3 11.3 7.7 6.1 13.4 6.1c4.2 0 6.5 2 8.1 4.3 1.9 2.6 2.2 3.9 2.5 3.9.3 0 .6-1.3 2.5-3.9 1.6-2.3 3.9-4.3 8.1-4.3m0-3c-4.5 0-7.9 1.8-10.6 5.6-2.7-3.7-6.1-5.5-10.6-5.5C6 3.1 0 9.6 0 17.6c0 7.3 5.4 12 10.6 16.5.6.5 1.3 1.1 1.9 1.7l2.3 2c4.4 3.9 6.6 5.9 7.6 6.5.5.3 1.1.5 1.6.5.6 0 1.1-.2 1.6-.5 1-.6 2.8-2.2 7.8-6.8l2-1.8c.7-.6 1.3-1.2 2-1.7C42.7 29.6 48 25 48 17.6c0-8-6-14.5-13.4-14.5z\"></path></svg></span></div></button></div></span></div></li></div></ul><ul class=\"Mr508 \"><div role=\"button\" class=\"ZyFrc\" tabindex=\"0\"><li class=\"gElp9 rUo9f \" role=\"menuitem\"><div class=\"P9YgZ\"><div class=\"C7I1f \"><div class=\"Jv7Aj mArmR   pZp3x\"><div class=\"RR-M-  TKzGu  \" aria-disabled=\"true\" role=\"button\" tabindex=\"-1\"><canvas class=\"CfWVH\" height=\"53\" width=\"53\" style=\"position: absolute; top: -5px; left: -5px; width: 42px; height: 42px;\"></canvas><a class=\"_2dbep qNELH kIKUG\" href=\"/endand1995/\" tabindex=\"0\" style=\"width: 32px; height: 32px;\"><img alt=\"endand1995님의 프로필 사진\" class=\"_6q-tv\" crossorigin=\"anonymous\" data-testid=\"user-avatar\" draggable=\"false\" src=\"https://scontent-ssn1-1.cdninstagram.com/v/t51.2885-19/s150x150/151348270_472050017158662_3165814671555171536_n.jpg?tp=1&amp;_nc_ht=scontent-ssn1-1.cdninstagram.com&amp;_nc_ohc=5bZovvVP1-8AX-9CEz9&amp;edm=AP_V10EBAAAA&amp;ccb=7-4&amp;oh=6daa1b3b5a1b03d9bb2c9dfbd291c00a&amp;oe=60B8E522&amp;_nc_sid=4f375e\"></a></div></div><div class=\"C4VMK\"><h3 class=\"_6lAjh \"><div class=\"                     Igw0E     IwRSH      eGOV_         _4EzTm                                       ItkAi                                                                       \"><span class=\"Jv7Aj mArmR MqpiF  \"><a class=\"sqdOP yWX7d     _8A5w5   ZIAjV \" href=\"/endand1995/\" tabindex=\"0\">endand1995</a></span></div></h3><span class=\"\">제주가면 하갈비는 필수코스</span><div class=\"                     Igw0E     IwRSH      eGOV_         _4EzTm   pjcA_                                                         aGBdT                                                  \"><div class=\"_7UhW9  PIoXz       MMzan   _0PwGv         uL8Hv         \"><a class=\"gU-I7\" href=\"/p/COeO54Pl_h1/c/18160552549132084/\" tabindex=\"0\"><time class=\"FH9sR Nzb55\" datetime=\"2021-05-05T03:37:47.000Z\" title=\"2021년 5월 5일\">23시간</time></a><button class=\"FH9sR\">답글 달기</button></div></div></div></div><div class=\"\"><div class=\"_4l6NB \"><button class=\"wpO6b  \" type=\"button\"><div class=\"QBdPU \"><div class=\"                     Igw0E   rBNOH          YBx95       _4EzTm                                                                                                              \" style=\"height: 24px; width: 24px;\"><svg aria-label=\"댓글 옵션\" class=\"_8-yf5 \" fill=\"#8e8e8e\" height=\"16\" viewBox=\"0 0 48 48\" width=\"16\"><circle clip-rule=\"evenodd\" cx=\"8\" cy=\"24\" fill-rule=\"evenodd\" r=\"4.5\"></circle><circle clip-rule=\"evenodd\" cx=\"24\" cy=\"24\" fill-rule=\"evenodd\" r=\"4.5\"></circle><circle clip-rule=\"evenodd\" cx=\"40\" cy=\"24\" fill-rule=\"evenodd\" r=\"4.5\"></circle></svg></div></div></button></div></div><span class=\"jdtwu\"><div class=\"_2ic5v\"><button class=\"wpO6b ZQScA \" type=\"button\"><div class=\"QBdPU \"><span class=\"\"><svg aria-label=\"좋아요\" class=\"_8-yf5 \" fill=\"#262626\" height=\"12\" viewBox=\"0 0 48 48\" width=\"12\"><path d=\"M34.6 6.1c5.7 0 10.4 5.2 10.4 11.5 0 6.8-5.9 11-11.5 16S25 41.3 24 41.9c-1.1-.7-4.7-4-9.5-8.3-5.7-5-11.5-9.2-11.5-16C3 11.3 7.7 6.1 13.4 6.1c4.2 0 6.5 2 8.1 4.3 1.9 2.6 2.2 3.9 2.5 3.9.3 0 .6-1.3 2.5-3.9 1.6-2.3 3.9-4.3 8.1-4.3m0-3c-4.5 0-7.9 1.8-10.6 5.6-2.7-3.7-6.1-5.5-10.6-5.5C6 3.1 0 9.6 0 17.6c0 7.3 5.4 12 10.6 16.5.6.5 1.3 1.1 1.9 1.7l2.3 2c4.4 3.9 6.6 5.9 7.6 6.5.5.3 1.1.5 1.6.5.6 0 1.1-.2 1.6-.5 1-.6 2.8-2.2 7.8-6.8l2-1.8c.7-.6 1.3-1.2 2-1.7C42.7 29.6 48 25 48 17.6c0-8-6-14.5-13.4-14.5z\"></path></svg></span></div></button></div></span></div></li></div></ul><ul class=\"Mr508 \"><div role=\"button\" class=\"ZyFrc\" tabindex=\"0\"><li class=\"gElp9 rUo9f \" role=\"menuitem\"><div class=\"P9YgZ\"><div class=\"C7I1f \"><div class=\"Jv7Aj mArmR   pZp3x\"><div class=\"RR-M-  TKzGu  \" aria-disabled=\"true\" role=\"button\" tabindex=\"-1\"><canvas class=\"CfWVH\" height=\"53\" width=\"53\" style=\"position: absolute; top: -5px; left: -5px; width: 42px; height: 42px;\"></canvas><a class=\"_2dbep qNELH kIKUG\" href=\"/kat____35373_/\" tabindex=\"0\" style=\"width: 32px; height: 32px;\"><img alt=\"kat____35373_님의 프로필 사진\" class=\"_6q-tv\" crossorigin=\"anonymous\" data-testid=\"user-avatar\" draggable=\"false\" src=\"https://scontent-ssn1-1.cdninstagram.com/v/t51.2885-19/s150x150/93989572_2677136885903724_6257532510050189312_n.jpg?tp=1&amp;_nc_ht=scontent-ssn1-1.cdninstagram.com&amp;_nc_ohc=NLXsQvMlVH0AX91UMAL&amp;edm=AP_V10EBAAAA&amp;ccb=7-4&amp;oh=0f03497b316428d69b89604b98a49df6&amp;oe=60B7C4E1&amp;_nc_sid=4f375e\"></a></div></div><div class=\"C4VMK\"><h3 class=\"_6lAjh \"><div class=\"                     Igw0E     IwRSH      eGOV_         _4EzTm                                       ItkAi                                                                       \"><span class=\"Jv7Aj mArmR MqpiF  \"><a class=\"sqdOP yWX7d     _8A5w5   ZIAjV \" href=\"/kat____35373_/\" tabindex=\"0\">kat____35373_</a></span></div></h3><span class=\"\">우리 소통해여 제 피드도 놀러와주세여^^</span><div class=\"                     Igw0E     IwRSH      eGOV_         _4EzTm   pjcA_                                                         aGBdT                                                  \"><div class=\"_7UhW9  PIoXz       MMzan   _0PwGv         uL8Hv         \"><a class=\"gU-I7\" href=\"/p/COeO54Pl_h1/c/18215196559068374/\" tabindex=\"0\"><time class=\"FH9sR Nzb55\" datetime=\"2021-05-05T14:56:54.000Z\" title=\"2021년 5월 5일\">11시간</time></a><button class=\"FH9sR\">답글 달기</button></div></div></div></div><div class=\"\"><div class=\"_4l6NB \"><button class=\"wpO6b  \" type=\"button\"><div class=\"QBdPU \"><div class=\"                     Igw0E   rBNOH          YBx95       _4EzTm                                                                                                              \" style=\"height: 24px; width: 24px;\"><svg aria-label=\"댓글 옵션\" class=\"_8-yf5 \" fill=\"#8e8e8e\" height=\"16\" viewBox=\"0 0 48 48\" width=\"16\"><circle clip-rule=\"evenodd\" cx=\"8\" cy=\"24\" fill-rule=\"evenodd\" r=\"4.5\"></circle><circle clip-rule=\"evenodd\" cx=\"24\" cy=\"24\" fill-rule=\"evenodd\" r=\"4.5\"></circle><circle clip-rule=\"evenodd\" cx=\"40\" cy=\"24\" fill-rule=\"evenodd\" r=\"4.5\"></circle></svg></div></div></button></div></div><span class=\"jdtwu\"><div class=\"_2ic5v\"><button class=\"wpO6b ZQScA \" type=\"button\"><div class=\"QBdPU \"><span class=\"\"><svg aria-label=\"좋아요\" class=\"_8-yf5 \" fill=\"#262626\" height=\"12\" viewBox=\"0 0 48 48\" width=\"12\"><path d=\"M34.6 6.1c5.7 0 10.4 5.2 10.4 11.5 0 6.8-5.9 11-11.5 16S25 41.3 24 41.9c-1.1-.7-4.7-4-9.5-8.3-5.7-5-11.5-9.2-11.5-16C3 11.3 7.7 6.1 13.4 6.1c4.2 0 6.5 2 8.1 4.3 1.9 2.6 2.2 3.9 2.5 3.9.3 0 .6-1.3 2.5-3.9 1.6-2.3 3.9-4.3 8.1-4.3m0-3c-4.5 0-7.9 1.8-10.6 5.6-2.7-3.7-6.1-5.5-10.6-5.5C6 3.1 0 9.6 0 17.6c0 7.3 5.4 12 10.6 16.5.6.5 1.3 1.1 1.9 1.7l2.3 2c4.4 3.9 6.6 5.9 7.6 6.5.5.3 1.1.5 1.6.5.6 0 1.1-.2 1.6-.5 1-.6 2.8-2.2 7.8-6.8l2-1.8c.7-.6 1.3-1.2 2-1.7C42.7 29.6 48 25 48 17.6c0-8-6-14.5-13.4-14.5z\"></path></svg></span></div></button></div></span></div></li></div></ul><li><div class=\"                     Igw0E     IwRSH        YBx95       _4EzTm                                                                                                            NUiEW  \" style=\"min-height: 40px;\"><button class=\"dCJp8 afkep\"><span aria-label=\"댓글 더 읽어들이기\" class=\"glyphsSpriteCircle_add__outline__24__grey_9 u-__7\"></span></button></div></li></ul></div><div class=\"k_Q0X I0_K8  NnvRN\"><a class=\"c-Yi7\" href=\"/p/COeO54Pl_h1/\" tabindex=\"0\"><time class=\"_1o9PC Nzb55\" datetime=\"2021-05-05T01:12:26.000Z\" title=\"2021년 5월 5일\">1일 전</time></a></div><section class=\"sH9wk  _JgwE \"><div class=\"RxpZH\"><form class=\"X7cDz\" method=\"POST\"><button class=\"wpO6b  \" type=\"button\"><div class=\"QBdPU \"><svg aria-label=\"이모티콘\" class=\"_8-yf5 \" fill=\"#262626\" height=\"24\" viewBox=\"0 0 48 48\" width=\"24\"><path d=\"M24 48C10.8 48 0 37.2 0 24S10.8 0 24 0s24 10.8 24 24-10.8 24-24 24zm0-45C12.4 3 3 12.4 3 24s9.4 21 21 21 21-9.4 21-21S35.6 3 24 3z\"></path><path d=\"M34.9 24c0-1.4-1.1-2.5-2.5-2.5s-2.5 1.1-2.5 2.5 1.1 2.5 2.5 2.5 2.5-1.1 2.5-2.5zm-21.8 0c0-1.4 1.1-2.5 2.5-2.5s2.5 1.1 2.5 2.5-1.1 2.5-2.5 2.5-2.5-1.1-2.5-2.5zM24 37.3c-5.2 0-8-3.5-8.2-3.7-.5-.6-.4-1.6.2-2.1.6-.5 1.6-.4 2.1.2.1.1 2.1 2.5 5.8 2.5 3.7 0 5.8-2.5 5.8-2.5.5-.6 1.5-.7 2.1-.2.6.5.7 1.5.2 2.1 0 .2-2.8 3.7-8 3.7z\"></path></svg></div></button><div class=\"\" style=\"right: 53px; bottom: 355px;\"></div><textarea aria-label=\"댓글 달기...\" placeholder=\"댓글 달기...\" class=\"Ypffh\" autocomplete=\"off\" autocorrect=\"off\"></textarea><button class=\"sqdOP yWX7d    y3zKF     \" disabled=\"\" type=\"submit\">게시</button></form></div></section></div></article></div></div><div class=\"                     Igw0E     IwRSH      eGOV_         _4EzTm                                                                                  BI4qX            qJPeX            fm1AK   TxciK yiMZG\"><button class=\"wpO6b  \" type=\"button\"><div class=\"QBdPU \"><svg aria-label=\"닫기\" class=\"_8-yf5 \" fill=\"#ffffff\" height=\"24\" viewBox=\"0 0 48 48\" width=\"24\"><path clip-rule=\"evenodd\" d=\"M41.8 9.8L27.5 24l14.2 14.2c.6.6.6 1.5 0 2.1l-1.4 1.4c-.6.6-1.5.6-2.1 0L24 27.5 9.8 41.8c-.6.6-1.5.6-2.1 0l-1.4-1.4c-.6-.6-.6-1.5 0-2.1L20.5 24 6.2 9.8c-.6-.6-.6-1.5 0-2.1l1.4-1.4c.6-.6 1.5-.6 2.1 0L24 20.5 38.3 6.2c.6-.6 1.5-.6 2.1 0l1.4 1.4c.6.6.6 1.6 0 2.2z\" fill-rule=\"evenodd\"></path></svg></div></button></div><button aria-hidden=\"true\" class=\"MgpC9\" tabindex=\"-1\"></button></div></body></html>\n"
     ]
    }
   ],
   "source": [
    "html = driver.page_source\n",
    "print(html)"
   ]
  },
  {
   "cell_type": "code",
   "execution_count": 176,
   "metadata": {},
   "outputs": [
    {
     "output_type": "stream",
     "name": "stdout",
     "text": [
      "13\n[<span class=\"\">제주에오셨으면  제주스럽게  드셔야죠?<br/>.<br/>.<br/>세상에 없던  프리미엄오션뷰  흑돼지 전문점 하갈비입니다<br/>.🤩🤩🤩<br/>.<br/>평범한 고깃집과는 비교하지마세요!<br/>세상에 없던 흑돼지집 !!!<br/>제주1등 오션뷰에서 토종흑돼지를  숯불에 직화로구워드셔보세요😆😆😆<br/>제주 최고 오션뷰  제주청정지역에서자란  특상급 흑돼지를 🐷 즐길수있는  하갈비에서 <br/>알찬  세트메규구성으로  무려<br/>흑돼지오겹살(600g) + 흑돼지김치찌개 + 전복2미 +왕새우2미+흑돼지김치찌개set를 단돈 60.0원에 즐겨보세요<br/>(set메뉴고기는 생갈비,목살,양념갈비로 변경가능합니다)<br/>.<br/>.<br/> <br/>고깃집이라고 다거기서거기라고  생각하시면 안돼요!<br/>뷰좋구 맛좋은 한번드실 흑돼지  재대로즐기세요!<br/><br/>이곳은 제주 몰디브🌴 애월에잇는<br/>.<br/>. <br/>제주대표  흑돼지 전문점 \"하갈비\"  입니다 <br/>애월 북서길52<br/>\"연중무휴\"<br/>064  799  8585<br/>영업시간  11:00오픈  20:40라스트오더 22:00마감<br/><br/><a class=\"xil3i\" href=\"/explore/tags/제주흑돼지맛집/\" tabindex=\"0\">#제주흑돼지맛집</a><br/><a class=\"xil3i\" href=\"/explore/tags/신화월드맛집/\" tabindex=\"0\">#신화월드맛집</a><br/><a class=\"xil3i\" href=\"/explore/tags/제주흑돼지/\" tabindex=\"0\">#제주흑돼지</a><br/><a class=\"xil3i\" href=\"/explore/tags/제주도흑돼지/\" tabindex=\"0\">#제주도흑돼지</a><br/><a class=\"xil3i\" href=\"/explore/tags/제주애월흑돼지/\" tabindex=\"0\">#제주애월흑돼지</a><br/><a class=\"xil3i\" href=\"/explore/tags/제주애월흑돼지맛집/\" tabindex=\"0\">#제주애월흑돼지맛집</a><br/><a class=\"xil3i\" href=\"/explore/tags/애월흑돼지/\" tabindex=\"0\">#애월흑돼지</a><br/><a class=\"xil3i\" href=\"/explore/tags/애월맛집/\" tabindex=\"0\">#애월맛집</a><br/><a class=\"xil3i\" href=\"/explore/tags/제주맛집/\" tabindex=\"0\">#제주맛집</a><br/><a class=\"xil3i\" href=\"/explore/tags/제주하갈비/\" tabindex=\"0\">#제주하갈비</a><br/><a class=\"xil3i\" href=\"/explore/tags/제주맛집추천/\" tabindex=\"0\">#제주맛집추천</a><br/><a class=\"xil3i\" href=\"/explore/tags/하갈비/\" tabindex=\"0\">#하갈비</a><br/><a class=\"xil3i\" href=\"/explore/tags/제주도맛집/\" tabindex=\"0\">#제주도맛집</a><br/><a class=\"xil3i\" href=\"/explore/tags/제주야외맛집/\" tabindex=\"0\">#제주야외맛집</a><br/><a class=\"xil3i\" href=\"/explore/tags/제주야외식당/\" tabindex=\"0\">#제주야외식당</a><br/><a class=\"xil3i\" href=\"/explore/tags/제주야외흑돼지/\" tabindex=\"0\">#제주야외흑돼지</a></span>, <span class=\"\">사진들 잘 보구 가여♥</span>, <span class=\"\">사진보고 갑니닷~</span>, <span class=\"\">제주도 갈때 꼭 갈께염❤️</span>, <span class=\"\">바다뷰만해도  백만불짜리인데  맛있는  흑돼지구이까지  최고의 행복을  누리내요.</span>, <span class=\"\">와 진짜뷰 실화인가요?♡</span>, <span class=\"\">뷰와  고기의조합이끝내주네요!  제주에가면꼭한번 가서먹어볼래요.</span>, <span class=\"\">뷰와바다음식비주얼이 끝내주네요반했어요.</span>, <span class=\"\">슬쩍 눈팅하고 가욧:)</span>, <span class=\"\">와 대박 진짜가보고싶어요 맛있겠네요</span>, <span class=\"\">제것도놀러오세요옹~^^</span>, <span class=\"\">제주가면 하갈비는 필수코스</span>, <span class=\"\">우리 소통해여 제 피드도 놀러와주세여^^</span>]\n"
     ]
    }
   ],
   "source": [
    "\n",
    "soup = BeautifulSoup(html, 'html.parser')\n",
    "\n",
    "content = soup.select('div.C4VMK > span')\n",
    "print(len(content))\n",
    "print(content)"
   ]
  },
  {
   "cell_type": "code",
   "execution_count": 177,
   "metadata": {},
   "outputs": [
    {
     "output_type": "stream",
     "name": "stdout",
     "text": [
      "제주에오셨으면  제주스럽게  드셔야죠?..세상에 없던  프리미엄오션뷰  흑돼지 전문점 하갈비입니다.🤩🤩🤩.평범한 고깃집과는 비교하지마세요!세상에 없던 흑돼지집 !!!제주1등 오션뷰에서 토종흑돼지를  숯불에 직화로구워드셔보세요😆😆😆제주 최고 오션뷰  제주청정지역에서자란  특상급 흑돼지를 🐷 즐길수있는  하갈비에서 알찬  세트메규구성으로  무려흑돼지오겹살(600g) + 흑돼지김치찌개 + 전복2미 +왕새우2미+흑돼지김치찌개set를 단돈 60.0원에 즐겨보세요(set메뉴고기는 생갈비,목살,양념갈비로 변경가능합니다).. 고깃집이라고 다거기서거기라고  생각하시면 안돼요!뷰좋구 맛좋은 한번드실 흑돼지  재대로즐기세요!이곳은 제주 몰디브🌴 애월에잇는.. 제주대표  흑돼지 전문점 \"하갈비\"  입니다 애월 북서길52\"연중무휴\"064  799  8585영업시간  11:00오픈  20:40라스트오더 22:00마감#제주흑돼지맛집#신화월드맛집#제주흑돼지#제주도흑돼지#제주애월흑돼지#제주애월흑돼지맛집#애월흑돼지#애월맛집#제주맛집#제주하갈비#제주맛집추천#하갈비#제주도맛집#제주야외맛집#제주야외식당#제주야외흑돼지\n"
     ]
    }
   ],
   "source": [
    "print(content[0].text)"
   ]
  },
  {
   "cell_type": "code",
   "execution_count": 178,
   "metadata": {},
   "outputs": [],
   "source": [
    "try :\n",
    "    content = soup.select('div.C4VMK > span')[0].text\n",
    "except:\n",
    "    content = ' '"
   ]
  },
  {
   "cell_type": "code",
   "execution_count": 179,
   "metadata": {},
   "outputs": [
    {
     "output_type": "stream",
     "name": "stdout",
     "text": [
      "['#제주흑돼지맛집', '#신화월드맛집', '#제주흑돼지', '#제주도흑돼지', '#제주애월흑돼지', '#제주애월흑돼지맛집', '#애월흑돼지', '#애월맛집', '#제주맛집', '#제주하갈비', '#제주맛집추천', '#하갈비', '#제주도맛집', '#제주야외맛집', '#제주야외식당', '#제주야외흑돼지']\n"
     ]
    }
   ],
   "source": [
    "\n",
    "tags = re.findall(r'#[^\\s#,\\\\]+', content)  \n",
    "print(tags)"
   ]
  },
  {
   "cell_type": "code",
   "execution_count": 180,
   "metadata": {},
   "outputs": [
    {
     "output_type": "stream",
     "name": "stdout",
     "text": [
      "1\n[<time class=\"_1o9PC Nzb55\" datetime=\"2021-05-05T01:12:26.000Z\" title=\"2021년 5월 5일\">1일 전</time>]\n"
     ]
    }
   ],
   "source": [
    "date = soup.select('time._1o9PC.Nzb55')\n",
    "print(len(date))\n",
    "print(date)"
   ]
  },
  {
   "cell_type": "code",
   "execution_count": 181,
   "metadata": {},
   "outputs": [
    {
     "output_type": "stream",
     "name": "stdout",
     "text": [
      "2021-05-05T01:12:26.000Z\n"
     ]
    }
   ],
   "source": [
    "print(date[0]['datetime'])\n"
   ]
  },
  {
   "cell_type": "code",
   "execution_count": 182,
   "metadata": {},
   "outputs": [
    {
     "output_type": "stream",
     "name": "stdout",
     "text": [
      "2021-05-05\n"
     ]
    }
   ],
   "source": [
    "date = soup.select('time._1o9PC.Nzb55')[0]['datetime'][:10]\n",
    "print(date)"
   ]
  },
  {
   "cell_type": "code",
   "execution_count": 183,
   "metadata": {},
   "outputs": [],
   "source": [
    "html1 = driver.page_source\n",
    "soup1 = BeautifulSoup(html1, 'html.parser')\n",
    "like1 = soup1.select('div.Nm9Fw > a')"
   ]
  },
  {
   "cell_type": "code",
   "execution_count": 184,
   "metadata": {},
   "outputs": [
    {
     "output_type": "stream",
     "name": "stdout",
     "text": [
      "\n"
     ]
    }
   ],
   "source": [
    "try:\n",
    "    place = soup.select('div.M30cS')[0].text\n",
    "except:\n",
    "    place = ''\n",
    "print(place)"
   ]
  },
  {
   "cell_type": "code",
   "execution_count": 185,
   "metadata": {},
   "outputs": [],
   "source": [
    "def get_content_before(driver):\n",
    "    html = driver.page_source\n",
    "    soup = BeautifulSoup(html, 'html.parser')\n",
    "    try:\n",
    "        content = soup.select('div.C4VMK > span')[0].text\n",
    "    except:\n",
    "        content = ' '\n",
    "    tags = re.findall(r'#[^\\s#,\\\\]+', content)  \n",
    "    date = soup.select('time._1o9PC.Nzb55')[0]['datetime'][:10]\n",
    "    try:\n",
    "        like = soup.select('div.Nm9Fw > button')[0].text[4:-1]   \n",
    "    except:\n",
    "        like = 0\n",
    "    try: \n",
    "        place = soup.select('div.M30cS')[0].text\n",
    "    except:\n",
    "        place = ''\n",
    "    data = [content, date, like, place, tags]\n",
    "    return data"
   ]
  },
  {
   "cell_type": "code",
   "execution_count": 186,
   "metadata": {},
   "outputs": [
    {
     "output_type": "execute_result",
     "data": {
      "text/plain": [
       "['제주에오셨으면  제주스럽게  드셔야죠?..세상에 없던  프리미엄오션뷰  흑돼지 전문점 하갈비입니다.🤩🤩🤩.평범한 고깃집과는 비교하지마세요!세상에 없던 흑돼지집 !!!제주1등 오션뷰에서 토종흑돼지를  숯불에 직화로구워드셔보세요😆😆😆제주 최고 오션뷰  제주청정지역에서자란  특상급 흑돼지를 🐷 즐길수있는  하갈비에서 알찬  세트메규구성으로  무려흑돼지오겹살(600g) + 흑돼지김치찌개 + 전복2미 +왕새우2미+흑돼지김치찌개set를 단돈 60.0원에 즐겨보세요(set메뉴고기는 생갈비,목살,양념갈비로 변경가능합니다).. 고깃집이라고 다거기서거기라고  생각하시면 안돼요!뷰좋구 맛좋은 한번드실 흑돼지  재대로즐기세요!이곳은 제주 몰디브🌴 애월에잇는.. 제주대표  흑돼지 전문점 \"하갈비\"  입니다 애월 북서길52\"연중무휴\"064  799  8585영업시간  11:00오픈  20:40라스트오더 22:00마감#제주흑돼지맛집#신화월드맛집#제주흑돼지#제주도흑돼지#제주애월흑돼지#제주애월흑돼지맛집#애월흑돼지#애월맛집#제주맛집#제주하갈비#제주맛집추천#하갈비#제주도맛집#제주야외맛집#제주야외식당#제주야외흑돼지',\n",
       " '2021-05-05',\n",
       " 0,\n",
       " '',\n",
       " ['#제주흑돼지맛집',\n",
       "  '#신화월드맛집',\n",
       "  '#제주흑돼지',\n",
       "  '#제주도흑돼지',\n",
       "  '#제주애월흑돼지',\n",
       "  '#제주애월흑돼지맛집',\n",
       "  '#애월흑돼지',\n",
       "  '#애월맛집',\n",
       "  '#제주맛집',\n",
       "  '#제주하갈비',\n",
       "  '#제주맛집추천',\n",
       "  '#하갈비',\n",
       "  '#제주도맛집',\n",
       "  '#제주야외맛집',\n",
       "  '#제주야외식당',\n",
       "  '#제주야외흑돼지']]"
      ]
     },
     "metadata": {},
     "execution_count": 186
    }
   ],
   "source": [
    "get_content_before(driver)"
   ]
  },
  {
   "cell_type": "code",
   "execution_count": 187,
   "metadata": {},
   "outputs": [],
   "source": [
    "def move_next(driver):\n",
    "    right = driver.find_element_by_css_selector ('a._65Bje.coreSpriteRightPaginationArrow')\n",
    "    right.click()\n",
    "    time.sleep(3)"
   ]
  },
  {
   "cell_type": "code",
   "execution_count": 188,
   "metadata": {},
   "outputs": [],
   "source": [
    "move_next(driver)"
   ]
  },
  {
   "cell_type": "code",
   "execution_count": 189,
   "metadata": {},
   "outputs": [
    {
     "output_type": "stream",
     "name": "stdout",
     "text": [
      "0\n",
      "1\n",
      "2\n",
      "3\n",
      "4\n",
      "5\n",
      "6\n",
      "7\n",
      "8\n",
      "9\n",
      "[['#안녕하세요 제주동입니다🙇\\u200d♂️오늘은 날씨가 좀 더운것 같네요..더위 조심하시고 코로나도 조심하세용~오늘도 제주동은 열려있습니다!!시원한 냉모밀 피드 올려봅니다!!오늘도 잘부탁드립니다!!감사합니다😁.....#제주동 #제주맛집 #제주도맛집 #신제주맛집 #연동맛집 #공항근처맛집 #도청근처맛집 #그냥맛집#덮밥맛집 #제주여행 #제주도여행 #여행맛집 #맛스타그램 #먹스타그램 #여행맛집 #덮밥 #규동 #부타동 #카레 #우동 #냉모밀 #일상 #소통', '2021-05-06', 0, '', ['#안녕하세요', '#제주동', '#제주맛집', '#제주도맛집', '#신제주맛집', '#연동맛집', '#공항근처맛집', '#도청근처맛집', '#그냥맛집', '#덮밥맛집', '#제주여행', '#제주도여행', '#여행맛집', '#맛스타그램', '#먹스타그램', '#여행맛집', '#덮밥', '#규동', '#부타동', '#카레', '#우동', '#냉모밀', '#일상', '#소통']], ['함덕해수욕장에서 차타고 1-2분거리 만오천원으로 한번에 다섯가지를 먹을 수 있는 곳후식으로 우도땅콩아이스림까지 !!메뉴 : 안녕제주한상, 한라산을 품다, 뿔소라전복비빔밥, 뿔소라국수, 전복죽, 어린이항상위치 : 함덕 18길19영업시간 : 오전10시~오후7시20분함덕 맛집 안녕제주 많은 방문 부탁드립니다~ㅎㅎ#제주도 #제주맛집 #제주도맛집 #함덕 #함덕맛집 #함덕해수욕장근처맛집 #함덕해변 #함덕해수욕장맛집 #함덕카페 #함덕소노벨리조트 #제주도여행 #제주도민맛집 #흑돼지 #우도땅콩아이스크림 #먹방 #함덕맛집탐방 #혼밥스타그램 #안녕제주 #함덕혼밥 #함덕해수욕장 #함덕현지인맛집 #함덕맛집추천 #제주함덕맛집 #함덕전복죽 #함덕어린이메뉴', '2021-05-06', 0, '', ['#제주도', '#제주맛집', '#제주도맛집', '#함덕', '#함덕맛집', '#함덕해수욕장근처맛집', '#함덕해변', '#함덕해수욕장맛집', '#함덕카페', '#함덕소노벨리조트', '#제주도여행', '#제주도민맛집', '#흑돼지', '#우도땅콩아이스크림', '#먹방', '#함덕맛집탐방', '#혼밥스타그램', '#안녕제주', '#함덕혼밥', '#함덕해수욕장', '#함덕현지인맛집', '#함덕맛집추천', '#제주함덕맛집', '#함덕전복죽', '#함덕어린이메뉴']], ['제주 곱이영자의 맛집 리스트에도 오른 적 있는 우리나라 최고의 곱창 맛집 중 하나인 제주 곱제주시내에 위치해서 방문하기도 편하고 서비스도 친절해서 도민들의 찐맛집으로 입소문이 자자한 곳으로 유명하다.당일도축한 신선한 한우를 사용하고, 인공연육제도 전혀 쓰지 않는다고 하니 여긴 그저 사랑~이제 제주도에서 곱창은 무조건 제주곱으로!!주소 : 제주시 신대로 16길 42문의전화 : 064-712-7592영업시간 : 매일 17시 - 새벽 4시#제주시맛집 #제주맛집 #제주도맛집 #제주도민맛집 #제주맛집추천', '2021-05-06', '', '', ['#제주시맛집', '#제주맛집', '#제주도맛집', '#제주도민맛집', '#제주맛집추천']], ['#새알 #집짖기명수 #그들도발전한다#지푸라기아니고 #비닐끈물어다 #잘도엮었네 #새알도자라나요?작은애기한테서 저렇게 큰 알이 여섯개나..너무 귀엽고 신기해서...제비알은 여러번 봤는 데, 이 쪼꼬미는 무슨새인지...#샤브샤브맛집 #스키야키맛집 #애월맛집인정#제주맛집 #소길리맛집 #제주맛집베스트 #제주혼밥맛집 #단맵단맵 #따뜻한국물 #단짠단짠#단맵단맵#따뜻한국물 #제주여행 #제주가볼만한곳 #카레맛집 #도민맛집 #길먀옹이맛집', '2021-05-06', 0, '소길역', ['#새알', '#집짖기명수', '#그들도발전한다', '#지푸라기아니고', '#비닐끈물어다', '#잘도엮었네', '#새알도자라나요?작은애기한테서', '#샤브샤브맛집', '#스키야키맛집', '#애월맛집인정', '#제주맛집', '#소길리맛집', '#제주맛집베스트', '#제주혼밥맛집', '#단맵단맵', '#따뜻한국물', '#단짠단짠', '#단맵단맵', '#따뜻한국물', '#제주여행', '#제주가볼만한곳', '#카레맛집', '#도민맛집', '#길먀옹이맛집']], ['굿모닝 제주 💛', '2021-05-06', 0, 'Jeju', []], ['.애월 로드129성게크림파스타흑돼지함박스테이크흑돼지치즈돈까스훅돼지수제돈까스해물야끼소바.전메뉴 포장가능사전 전화주문시 빠른포장 가능하세요01030766122.#애월맛집#제주맛집#애월읍맛집#애월항맛집#제주애월점심#애월맛집추천#제주애월맛집#애월점심추천#애월밥집#제주현지인맛집#제주도민추천맛집#제주도현지인맛집#도민맛집#제주혼밥#제주시맛집#제주도맛집#금능맛집#한림맛집#협재맛집#협재해수욕장맛집#곽지해수욕장맛집#더럭분교맛집#애월해안도로#제주서쪽맛집#애월데이트코스#새별오름#애월카페#제주데이트코스', '2021-05-06', '', '', ['#애월맛집', '#제주맛집', '#애월읍맛집', '#애월항맛집', '#제주애월점심', '#애월맛집추천', '#제주애월맛집', '#애월점심추천', '#애월밥집', '#제주현지인맛집', '#제주도민추천맛집', '#제주도현지인맛집', '#도민맛집', '#제주혼밥', '#제주시맛집', '#제주도맛집', '#금능맛집', '#한림맛집', '#협재맛집', '#협재해수욕장맛집', '#곽지해수욕장맛집', '#더럭분교맛집', '#애월해안도로', '#제주서쪽맛집', '#애월데이트코스', '#새별오름', '#애월카페', '#제주데이트코스']], ['저희 비빔국수에 고기는요⠀통목살을 바베큐 그릴에⠀오랜시간 훈연으로만 익혀⠀훈제향을 극대화 시킵니다⠀새콤달콤한 비빔국수에는⠀정말 딱인 고기죠^^⠀----------------------------------⠀✔ 고기국수 8,000⠀✔ 비빔국수 8,000⠀✔ 멸치국수 6,000⠀✔ 돔배고기 13,000⠀✔ 영업시간 11:00 ~ 20:00⠀언제든지 연락주세요!⠀연락처 : 01063890610 또는 DM환영', '2021-05-06', 0, '', []], ['시원한 밀면 호로록😋 수육 추가 잊지말기!!! ...#제주도 #제주도여행 #제주맛집 #제주도맛집 #제주도민 #제주도민맛집 #제주산방식당 #제주산방산 #노형맛집 #밀면 #밀면맛집 #수육 #맞팔해요 #맞팔선팔환영 #맛있는녀석들', '2021-05-06', 0, '산방식당 제주점', ['#제주도', '#제주도여행', '#제주맛집', '#제주도맛집', '#제주도민', '#제주도민맛집', '#제주산방식당', '#제주산방산', '#노형맛집', '#밀면', '#밀면맛집', '#수육', '#맞팔해요', '#맞팔선팔환영', '#맛있는녀석들']], ['제주도에 성게국수 머그러간거맞됴!서울에눈 성게국수 왜안팔아?...#제주 #제주도 #제주도여행 #제주맛집 #제주여행 #성게국수 #성게알 #우니 #먹방 #먹스타그램 #맛스타그램 #jeju #trip #travel #instagram #instafood #instagood #instadaily #instalike #like4like #like4likes #likeforlikes #likeforlike #fff #follow #맞팔 #선팔 #소통 #팔로우 #좋반', '2021-05-06', 0, '', ['#제주', '#제주도', '#제주도여행', '#제주맛집', '#제주여행', '#성게국수', '#성게알', '#우니', '#먹방', '#먹스타그램', '#맛스타그램', '#jeju', '#trip', '#travel', '#instagram', '#instafood', '#instagood', '#instadaily', '#instalike', '#like4like', '#like4likes', '#likeforlikes', '#likeforlike', '#fff', '#follow', '#맞팔', '#선팔', '#소통', '#팔로우', '#좋반']], ['-5월 6일 간략한 인사와 함께 시작합니다.우선 여유 좌석이 없어 걸음을 돌리시는 분들께는 불편드려 죄송하다는 말씀 드려봅니다. 방문하셨을때 여유 좌석이 없는 경우 연락드릴 번호를 받아 순서대로 입장하시게끔 도와드리고 있습니다.공간 자체가 그리 많은 인원을 수용할 수 없는 점, 여유있게 앉으시게끔 하는 점, 이용하고 계신 손님들의 이용 종료 시간을 가늠할 수 없는 점 등을 감안해주시면 감사하겠습니다 ☺️💚-그럼 오늘도 오후 6시까지 인사드릴께요.[마지막 주문은 오후 5시 30분입니다]', '2021-05-06', 0, '카페 곁에', []]]\n"
     ]
    }
   ],
   "source": [
    "# results = []\n",
    "# results1 = []\n",
    "results2 = []\n",
    "# results3 = []\n",
    "\n",
    "target = 10     \n",
    "for i in range(target):\n",
    "    print(i)\n",
    "    data = get_content_before(driver)    \n",
    "    results2.append(data)\n",
    "    move_next(driver)\n",
    "print(results3)"
   ]
  },
  {
   "cell_type": "code",
   "execution_count": 123,
   "metadata": {},
   "outputs": [
    {
     "output_type": "execute_result",
     "data": {
      "text/plain": [
       "[]"
      ]
     },
     "metadata": {},
     "execution_count": 123
    }
   ],
   "source": [
    "# result: 제주관광\n",
    "# result1: 제주여행\n",
    "# result2: 제주도맛집\n",
    "# result3: 제주맛집\n"
   ]
  },
  {
   "cell_type": "code",
   "execution_count": 210,
   "metadata": {},
   "outputs": [],
   "source": [
    "import pandas as pd\n",
    "\n",
    "# #-------------------------\n",
    "# results_df = pd.DataFrame(results2)\n",
    "# results_df.columns = ['content','data','like','place','tags']\n",
    "# results_df.to_excel('./files/1_crawling_jejdoumat.xlsx')\n",
    "\n",
    "##############\n",
    "\n",
    "data1 = pd.read_excel('./files/1_crawling_jejdoumot.xlsx')\n",
    "data2 = pd.read_excel('./files/1_crawling_jejuGwangwang.xlsx')\n",
    "data3 = pd.read_excel('./files/1_crawling_jejumot.xlsx')\n",
    "data4 = pd.read_excel('./files/1_crawling_jejuYeoHang.xlsx')\n",
    "\n",
    "res = pd.merge(data1,data2, data3, data4)\n",
    "res.to_excel('./files/row.xlsx')"
   ]
  },
  {
   "cell_type": "code",
   "execution_count": 211,
   "metadata": {},
   "outputs": [
    {
     "output_type": "stream",
     "name": "stdout",
     "text": [
      "./files/1_crawling_jejdoumot.xlsx\n./files/1_crawling_jejuGwangwang.xlsx\n./files/1_crawling_jejumot.xlsx\n./files/1_crawling_jejuYeoHang.xlsx\nIndex(['content', 'data', 'like', 'place', 'tags'], dtype='object')\n"
     ]
    }
   ],
   "source": [
    "jeju_insta_df = pd.DataFrame( [ ] )\n",
    "\n",
    "folder = './files/'\n",
    "f_list = ['1_crawling_jejdoumot.xlsx', '1_crawling_jejuGwangwang.xlsx', '1_crawling_jejumot.xlsx', '1_crawling_jejuYeoHang.xlsx']\n",
    "for fname in f_list:\n",
    "    fpath = folder + fname\n",
    "    print(fpath)\n",
    "    temp = pd.read_excel(fpath)\n",
    "    jeju_insta_df = jeju_insta_df.append(temp)\n",
    "\n",
    "print(jeju_insta_df.columns)\n",
    "jeju_insta_df.columns =['content','data','like','place','tags']\n",
    "\n",
    "jeju_insta_df.drop_duplicates(subset = [ \"content\"] , inplace = True)\n",
    "jeju_insta_df.to_excel('./files/1_crawling_raw.xlsx', index = False)"
   ]
  }
 ]
}