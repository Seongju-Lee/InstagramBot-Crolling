{
 "metadata": {
  "language_info": {
   "codemirror_mode": {
    "name": "ipython",
    "version": 3
   },
   "file_extension": ".py",
   "mimetype": "text/x-python",
   "name": "python",
   "nbconvert_exporter": "python",
   "pygments_lexer": "ipython3",
   "version": "3.9.2"
  },
  "orig_nbformat": 2,
  "kernelspec": {
   "name": "python392jvsc74a57bd05e8274657cc6e213aa501dbf3b19575a0cd02f8a5f94262b218f70147ad917b3",
   "display_name": "Python 3.9.2 64-bit"
  },
  "metadata": {
   "interpreter": {
    "hash": "5e8274657cc6e213aa501dbf3b19575a0cd02f8a5f94262b218f70147ad917b3"
   }
  }
 },
 "nbformat": 4,
 "nbformat_minor": 2,
 "cells": [
  {
   "source": [
    "## 이성주\n",
    "### 2021.05.06\n"
   ],
   "cell_type": "markdown",
   "metadata": {}
  },
  {
   "cell_type": "code",
   "execution_count": 1,
   "metadata": {},
   "outputs": [],
   "source": [
    "import time\n",
    "\n",
    "from selenium import webdriver\n",
    "from bs4 import BeautifulSoup\n",
    "import re # 정규표현식 사용하기 위해"
   ]
  },
  {
   "cell_type": "code",
   "execution_count": 52,
   "metadata": {},
   "outputs": [],
   "source": [
    "driver = webdriver.Chrome('./chromedriver/chromedriver89.exe')\n",
    "\n",
    "driver.get('http://www.instargram.com')\n",
    "time.sleep(2)"
   ]
  },
  {
   "cell_type": "code",
   "execution_count": 53,
   "metadata": {},
   "outputs": [],
   "source": [
    "email = 'dltjdwn_'\n",
    "input_id = driver.find_elements_by_css_selector('input._2hvTZ.pexuQ.zyHYP')[0]\n",
    "input_id.clear()\n",
    "input_id.send_keys(email)\n",
    "\n",
    "password = 'dltjdwn123!@#' ### 비번 정보 수정 필요\n",
    "input_pw = driver.find_elements_by_css_selector('input._2hvTZ.pexuQ.zyHYP')[1]\n",
    "input_pw.clear()\n",
    "input_pw.send_keys(password)\n",
    "input_pw.submit()"
   ]
  },
  {
   "cell_type": "code",
   "execution_count": 75,
   "metadata": {},
   "outputs": [],
   "source": [
    "def insta_searching(word):\n",
    "    url = \"https://www.instagram.com/explore/tags/\" + word\n",
    "    return url"
   ]
  },
  {
   "cell_type": "code",
   "execution_count": 100,
   "metadata": {},
   "outputs": [],
   "source": [
    "word = \"제주관광\"\n",
    "\n",
    "url = insta_searching(word)\n",
    "driver.get(url)"
   ]
  },
  {
   "cell_type": "code",
   "execution_count": 77,
   "metadata": {},
   "outputs": [],
   "source": [
    "def select_first(driver):\n",
    "    first = driver.find_element_by_css_selector(\"div._9AhH0\")\n",
    "    first.click()\n",
    "    time.sleep(3)"
   ]
  },
  {
   "cell_type": "code",
   "execution_count": 101,
   "metadata": {},
   "outputs": [],
   "source": [
    "select_first(driver)"
   ]
  },
  {
   "cell_type": "code",
   "execution_count": 80,
   "metadata": {
    "tags": [
     "outputPrepend"
    ]
   },
   "outputs": [
    {
     "output_type": "stream",
     "name": "stdout",
     "text": [
      "anslate\" href=\"/jindragon___/\" tabindex=\"0\">@jindragon___</a> <a class=\"notranslate\" href=\"/hwa__92/\" tabindex=\"0\">@hwa__92</a> 여기내가손에꼽는곳중하나무조건가야해</span><div class=\"                     Igw0E     IwRSH      eGOV_         _4EzTm   pjcA_                                                         aGBdT                                                  \"><div class=\"_7UhW9  PIoXz       MMzan   _0PwGv         uL8Hv         \"><a class=\"gU-I7\" href=\"/p/COsKMTelcWF/c/18124557211207162/\" tabindex=\"0\"><time class=\"FH9sR Nzb55\" datetime=\"2021-05-11T03:30:41.000Z\" title=\"2021년 5월 11일\">11시간</time></a><button class=\"FH9sR\">답글 달기</button></div></div></div></div><div class=\"\"><div class=\"_4l6NB \"><button class=\"wpO6b  \" type=\"button\"><div class=\"QBdPU \"><div class=\"                     Igw0E   rBNOH          YBx95       _4EzTm                                                                                                              \" style=\"height: 24px; width: 24px;\"><svg aria-label=\"댓글 옵션\" class=\"_8-yf5 \" fill=\"#8e8e8e\" height=\"16\" viewBox=\"0 0 48 48\" width=\"16\"><circle clip-rule=\"evenodd\" cx=\"8\" cy=\"24\" fill-rule=\"evenodd\" r=\"4.5\"></circle><circle clip-rule=\"evenodd\" cx=\"24\" cy=\"24\" fill-rule=\"evenodd\" r=\"4.5\"></circle><circle clip-rule=\"evenodd\" cx=\"40\" cy=\"24\" fill-rule=\"evenodd\" r=\"4.5\"></circle></svg></div></div></button></div></div><span class=\"jdtwu\"><div class=\"_2ic5v\"><button class=\"wpO6b ZQScA \" type=\"button\"><div class=\"QBdPU \"><span class=\"\"><svg aria-label=\"좋아요\" class=\"_8-yf5 \" fill=\"#262626\" height=\"12\" viewBox=\"0 0 48 48\" width=\"12\"><path d=\"M34.6 6.1c5.7 0 10.4 5.2 10.4 11.5 0 6.8-5.9 11-11.5 16S25 41.3 24 41.9c-1.1-.7-4.7-4-9.5-8.3-5.7-5-11.5-9.2-11.5-16C3 11.3 7.7 6.1 13.4 6.1c4.2 0 6.5 2 8.1 4.3 1.9 2.6 2.2 3.9 2.5 3.9.3 0 .6-1.3 2.5-3.9 1.6-2.3 3.9-4.3 8.1-4.3m0-3c-4.5 0-7.9 1.8-10.6 5.6-2.7-3.7-6.1-5.5-10.6-5.5C6 3.1 0 9.6 0 17.6c0 7.3 5.4 12 10.6 16.5.6.5 1.3 1.1 1.9 1.7l2.3 2c4.4 3.9 6.6 5.9 7.6 6.5.5.3 1.1.5 1.6.5.6 0 1.1-.2 1.6-.5 1-.6 2.8-2.2 7.8-6.8l2-1.8c.7-.6 1.3-1.2 2-1.7C42.7 29.6 48 25 48 17.6c0-8-6-14.5-13.4-14.5z\"></path></svg></span></div></button></div></span></div></li></div><li><ul class=\"TCSYW\"><li class=\"_61Di1\"><div class=\"                     Igw0E     IwRSH      eGOV_     ybXk5    _4EzTm                                                                                                              \"><button class=\"sqdOP yWX7d    y3zKF     \" type=\"button\"><div class=\"_7mCbS\"></div><span class=\"EizgU\">답글 보기(3개)</span></button></div></li></ul></li></ul><ul class=\"Mr508 \"><div role=\"button\" class=\"ZyFrc\" tabindex=\"0\"><li class=\"gElp9 rUo9f \" role=\"menuitem\"><div class=\"P9YgZ\"><div class=\"C7I1f \"><div class=\"Jv7Aj mArmR   pZp3x\"><div class=\"RR-M-  TKzGu  \" aria-disabled=\"true\" role=\"button\" tabindex=\"-1\"><canvas class=\"CfWVH\" height=\"53\" width=\"53\" style=\"position: absolute; top: -5px; left: -5px; width: 42px; height: 42px;\"></canvas><a class=\"_2dbep qNELH kIKUG\" href=\"/bijou_s.y/\" tabindex=\"0\" style=\"width: 32px; height: 32px;\"><img alt=\"bijou_s.y님의 프로필 사진\" class=\"_6q-tv\" crossorigin=\"anonymous\" data-testid=\"user-avatar\" draggable=\"false\" src=\"https://scontent-ssn1-1.cdninstagram.com/v/t51.2885-19/s150x150/180778330_1646312735758595_6175508197523991145_n.jpg?tp=1&amp;_nc_ht=scontent-ssn1-1.cdninstagram.com&amp;_nc_ohc=p5a2JOxyLKEAX92kSYJ&amp;edm=AP_V10EBAAAA&amp;ccb=7-4&amp;oh=7f726527326de363316931a1b1acd37c&amp;oe=60BEC9D8&amp;_nc_sid=4f375e\"></a></div></div><div class=\"C4VMK\"><h3 class=\"_6lAjh \"><div class=\"                     Igw0E     IwRSH      eGOV_         _4EzTm                                       ItkAi                                                                       \"><span class=\"Jv7Aj mArmR MqpiF  \"><a class=\"sqdOP yWX7d     _8A5w5   ZIAjV \" href=\"/bijou_s.y/\" tabindex=\"0\">bijou_s.y</a></span></div></h3><span class=\"\"><a class=\"notranslate\" href=\"/leafmoon_haru/\" tabindex=\"0\">@leafmoon_haru</a> 하고싶은거 너무 많아 ..</span><div class=\"                     Igw0E     IwRSH      eGOV_         _4EzTm   pjcA_                                                         aGBdT                                                  \"><div class=\"_7UhW9  PIoXz       MMzan   _0PwGv         uL8Hv         \"><a class=\"gU-I7\" href=\"/p/COsKMTelcWF/c/17864931929514379/\" tabindex=\"0\"><time class=\"FH9sR Nzb55\" datetime=\"2021-05-10T17:04:15.000Z\" title=\"2021년 5월 11일\">21시간</time></a><button class=\"FH9sR\">답글 달기</button></div></div></div></div><div class=\"\"><div class=\"_4l6NB \"><button class=\"wpO6b  \" type=\"button\"><div class=\"QBdPU \"><div class=\"                     Igw0E   rBNOH          YBx95       _4EzTm                                                                                                              \" style=\"height: 24px; width: 24px;\"><svg aria-label=\"댓글 옵션\" class=\"_8-yf5 \" fill=\"#8e8e8e\" height=\"16\" viewBox=\"0 0 48 48\" width=\"16\"><circle clip-rule=\"evenodd\" cx=\"8\" cy=\"24\" fill-rule=\"evenodd\" r=\"4.5\"></circle><circle clip-rule=\"evenodd\" cx=\"24\" cy=\"24\" fill-rule=\"evenodd\" r=\"4.5\"></circle><circle clip-rule=\"evenodd\" cx=\"40\" cy=\"24\" fill-rule=\"evenodd\" r=\"4.5\"></circle></svg></div></div></button></div></div><span class=\"jdtwu\"><div class=\"_2ic5v\"><button class=\"wpO6b ZQScA \" type=\"button\"><div class=\"QBdPU \"><span class=\"\"><svg aria-label=\"좋아요\" class=\"_8-yf5 \" fill=\"#262626\" height=\"12\" viewBox=\"0 0 48 48\" width=\"12\"><path d=\"M34.6 6.1c5.7 0 10.4 5.2 10.4 11.5 0 6.8-5.9 11-11.5 16S25 41.3 24 41.9c-1.1-.7-4.7-4-9.5-8.3-5.7-5-11.5-9.2-11.5-16C3 11.3 7.7 6.1 13.4 6.1c4.2 0 6.5 2 8.1 4.3 1.9 2.6 2.2 3.9 2.5 3.9.3 0 .6-1.3 2.5-3.9 1.6-2.3 3.9-4.3 8.1-4.3m0-3c-4.5 0-7.9 1.8-10.6 5.6-2.7-3.7-6.1-5.5-10.6-5.5C6 3.1 0 9.6 0 17.6c0 7.3 5.4 12 10.6 16.5.6.5 1.3 1.1 1.9 1.7l2.3 2c4.4 3.9 6.6 5.9 7.6 6.5.5.3 1.1.5 1.6.5.6 0 1.1-.2 1.6-.5 1-.6 2.8-2.2 7.8-6.8l2-1.8c.7-.6 1.3-1.2 2-1.7C42.7 29.6 48 25 48 17.6c0-8-6-14.5-13.4-14.5z\"></path></svg></span></div></button></div></span></div></li></div><li><ul class=\"TCSYW\"><li class=\"_61Di1\"><div class=\"                     Igw0E     IwRSH      eGOV_     ybXk5    _4EzTm                                                                                                              \"><button class=\"sqdOP yWX7d    y3zKF     \" type=\"button\"><div class=\"_7mCbS\"></div><span class=\"EizgU\">답글 보기(2개)</span></button></div></li></ul></li></ul><ul class=\"Mr508 \"><div role=\"button\" class=\"ZyFrc\" tabindex=\"0\"><li class=\"gElp9 rUo9f \" role=\"menuitem\"><div class=\"P9YgZ\"><div class=\"C7I1f \"><div class=\"Jv7Aj mArmR   pZp3x\"><div class=\"RR-M-  TKzGu  \" aria-disabled=\"true\" role=\"button\" tabindex=\"-1\"><canvas class=\"CfWVH\" height=\"53\" width=\"53\" style=\"position: absolute; top: -5px; left: -5px; width: 42px; height: 42px;\"></canvas><a class=\"_2dbep qNELH kIKUG\" href=\"/hu._.mmi/\" tabindex=\"0\" style=\"width: 32px; height: 32px;\"><img alt=\"hu._.mmi님의 프로필 사진\" class=\"_6q-tv\" crossorigin=\"anonymous\" data-testid=\"user-avatar\" draggable=\"false\" src=\"https://scontent-ssn1-1.cdninstagram.com/v/t51.2885-19/s150x150/181144844_765578617285052_6062345665199661679_n.jpg?tp=1&amp;_nc_ht=scontent-ssn1-1.cdninstagram.com&amp;_nc_ohc=LByCqhPwfjoAX-q_mAh&amp;edm=AP_V10EBAAAA&amp;ccb=7-4&amp;oh=32f072c562e4d70438f359804f82045b&amp;oe=60BEAB2F&amp;_nc_sid=4f375e\"></a></div></div><div class=\"C4VMK\"><h3 class=\"_6lAjh \"><div class=\"                     Igw0E     IwRSH      eGOV_         _4EzTm                                       ItkAi                                                                       \"><span class=\"Jv7Aj mArmR MqpiF  \"><a class=\"sqdOP yWX7d     _8A5w5   ZIAjV \" href=\"/hu._.mmi/\" tabindex=\"0\">hu._.mmi</a></span></div></h3><span class=\"\"><a class=\"notranslate\" href=\"/hu._.nni/\" tabindex=\"0\">@hu._.nni</a> 어때어때😍</span><div class=\"                     Igw0E     IwRSH      eGOV_         _4EzTm   pjcA_                                                         aGBdT                                                  \"><div class=\"_7UhW9  PIoXz       MMzan   _0PwGv         uL8Hv         \"><a class=\"gU-I7\" href=\"/p/COsKMTelcWF/c/17877057509349964/\" tabindex=\"0\"><time class=\"FH9sR Nzb55\" datetime=\"2021-05-10T12:58:04.000Z\" title=\"2021년 5월 10일\">1일</time></a><button class=\"FH9sR\">답글 달기</button></div></div></div></div><div class=\"\"><div class=\"_4l6NB \"><button class=\"wpO6b  \" type=\"button\"><div class=\"QBdPU \"><div class=\"                     Igw0E   rBNOH          YBx95       _4EzTm                                                                                                              \" style=\"height: 24px; width: 24px;\"><svg aria-label=\"댓글 옵션\" class=\"_8-yf5 \" fill=\"#8e8e8e\" height=\"16\" viewBox=\"0 0 48 48\" width=\"16\"><circle clip-rule=\"evenodd\" cx=\"8\" cy=\"24\" fill-rule=\"evenodd\" r=\"4.5\"></circle><circle clip-rule=\"evenodd\" cx=\"24\" cy=\"24\" fill-rule=\"evenodd\" r=\"4.5\"></circle><circle clip-rule=\"evenodd\" cx=\"40\" cy=\"24\" fill-rule=\"evenodd\" r=\"4.5\"></circle></svg></div></div></button></div></div><span class=\"jdtwu\"><div class=\"_2ic5v\"><button class=\"wpO6b ZQScA \" type=\"button\"><div class=\"QBdPU \"><span class=\"\"><svg aria-label=\"좋아요\" class=\"_8-yf5 \" fill=\"#262626\" height=\"12\" viewBox=\"0 0 48 48\" width=\"12\"><path d=\"M34.6 6.1c5.7 0 10.4 5.2 10.4 11.5 0 6.8-5.9 11-11.5 16S25 41.3 24 41.9c-1.1-.7-4.7-4-9.5-8.3-5.7-5-11.5-9.2-11.5-16C3 11.3 7.7 6.1 13.4 6.1c4.2 0 6.5 2 8.1 4.3 1.9 2.6 2.2 3.9 2.5 3.9.3 0 .6-1.3 2.5-3.9 1.6-2.3 3.9-4.3 8.1-4.3m0-3c-4.5 0-7.9 1.8-10.6 5.6-2.7-3.7-6.1-5.5-10.6-5.5C6 3.1 0 9.6 0 17.6c0 7.3 5.4 12 10.6 16.5.6.5 1.3 1.1 1.9 1.7l2.3 2c4.4 3.9 6.6 5.9 7.6 6.5.5.3 1.1.5 1.6.5.6 0 1.1-.2 1.6-.5 1-.6 2.8-2.2 7.8-6.8l2-1.8c.7-.6 1.3-1.2 2-1.7C42.7 29.6 48 25 48 17.6c0-8-6-14.5-13.4-14.5z\"></path></svg></span></div></button></div></span></div></li></div><li><ul class=\"TCSYW\"><li class=\"_61Di1\"><div class=\"                     Igw0E     IwRSH      eGOV_     ybXk5    _4EzTm                                                                                                              \"><button class=\"sqdOP yWX7d    y3zKF     \" type=\"button\"><div class=\"_7mCbS\"></div><span class=\"EizgU\">답글 보기(2개)</span></button></div></li></ul></li></ul><ul class=\"Mr508 \"><div role=\"button\" class=\"ZyFrc\" tabindex=\"0\"><li class=\"gElp9 rUo9f \" role=\"menuitem\"><div class=\"P9YgZ\"><div class=\"C7I1f \"><div class=\"Jv7Aj mArmR   pZp3x\"><div class=\"RR-M-  TKzGu  \" aria-disabled=\"true\" role=\"button\" tabindex=\"-1\"><canvas class=\"CfWVH\" height=\"53\" width=\"53\" style=\"position: absolute; top: -5px; left: -5px; width: 42px; height: 42px;\"></canvas><a class=\"_2dbep qNELH kIKUG\" href=\"/joy_foresight/\" tabindex=\"0\" style=\"width: 32px; height: 32px;\"><img alt=\"joy_foresight님의 프로필 사진\" class=\"_6q-tv\" crossorigin=\"anonymous\" data-testid=\"user-avatar\" draggable=\"false\" src=\"https://scontent-ssn1-1.cdninstagram.com/v/t51.2885-19/s150x150/26872296_104307860388273_3931570233344524288_n.jpg?tp=1&amp;_nc_ht=scontent-ssn1-1.cdninstagram.com&amp;_nc_ohc=wThosE4EqVcAX89Q8oD&amp;edm=AP_V10EBAAAA&amp;ccb=7-4&amp;oh=f832b8d6c6699a0953f1c9c3f7ce7f0a&amp;oe=60BFA52C&amp;_nc_sid=4f375e\"></a></div></div><div class=\"C4VMK\"><h3 class=\"_6lAjh \"><div class=\"                     Igw0E     IwRSH      eGOV_         _4EzTm                                       ItkAi                                                                       \"><span class=\"Jv7Aj mArmR MqpiF  \"><a class=\"sqdOP yWX7d     _8A5w5   ZIAjV \" href=\"/joy_foresight/\" tabindex=\"0\">joy_foresight</a></span></div></h3><span class=\"\"><a class=\"notranslate\" href=\"/yuriiii_c/\" tabindex=\"0\">@yuriiii_c</a>  갈데 왜캐마나..</span><div class=\"                     Igw0E     IwRSH      eGOV_         _4EzTm   pjcA_                                                         aGBdT                                                  \"><div class=\"_7UhW9  PIoXz       MMzan   _0PwGv         uL8Hv         \"><a class=\"gU-I7\" href=\"/p/COsKMTelcWF/c/17921661007624159/\" tabindex=\"0\"><time class=\"FH9sR Nzb55\" datetime=\"2021-05-11T12:31:12.000Z\" title=\"2021년 5월 11일\">2시간</time></a><button class=\"FH9sR\">답글 달기</button></div></div></div></div><div class=\"\"><div class=\"_4l6NB \"><button class=\"wpO6b  \" type=\"button\"><div class=\"QBdPU \"><div class=\"                     Igw0E   rBNOH          YBx95       _4EzTm                                                                                                              \" style=\"height: 24px; width: 24px;\"><svg aria-label=\"댓글 옵션\" class=\"_8-yf5 \" fill=\"#8e8e8e\" height=\"16\" viewBox=\"0 0 48 48\" width=\"16\"><circle clip-rule=\"evenodd\" cx=\"8\" cy=\"24\" fill-rule=\"evenodd\" r=\"4.5\"></circle><circle clip-rule=\"evenodd\" cx=\"24\" cy=\"24\" fill-rule=\"evenodd\" r=\"4.5\"></circle><circle clip-rule=\"evenodd\" cx=\"40\" cy=\"24\" fill-rule=\"evenodd\" r=\"4.5\"></circle></svg></div></div></button></div></div><span class=\"jdtwu\"><div class=\"_2ic5v\"><button class=\"wpO6b ZQScA \" type=\"button\"><div class=\"QBdPU \"><span class=\"\"><svg aria-label=\"좋아요\" class=\"_8-yf5 \" fill=\"#262626\" height=\"12\" viewBox=\"0 0 48 48\" width=\"12\"><path d=\"M34.6 6.1c5.7 0 10.4 5.2 10.4 11.5 0 6.8-5.9 11-11.5 16S25 41.3 24 41.9c-1.1-.7-4.7-4-9.5-8.3-5.7-5-11.5-9.2-11.5-16C3 11.3 7.7 6.1 13.4 6.1c4.2 0 6.5 2 8.1 4.3 1.9 2.6 2.2 3.9 2.5 3.9.3 0 .6-1.3 2.5-3.9 1.6-2.3 3.9-4.3 8.1-4.3m0-3c-4.5 0-7.9 1.8-10.6 5.6-2.7-3.7-6.1-5.5-10.6-5.5C6 3.1 0 9.6 0 17.6c0 7.3 5.4 12 10.6 16.5.6.5 1.3 1.1 1.9 1.7l2.3 2c4.4 3.9 6.6 5.9 7.6 6.5.5.3 1.1.5 1.6.5.6 0 1.1-.2 1.6-.5 1-.6 2.8-2.2 7.8-6.8l2-1.8c.7-.6 1.3-1.2 2-1.7C42.7 29.6 48 25 48 17.6c0-8-6-14.5-13.4-14.5z\"></path></svg></span></div></button></div></span></div></li></div><li><ul class=\"TCSYW\"><li class=\"_61Di1\"><div class=\"                     Igw0E     IwRSH      eGOV_     ybXk5    _4EzTm                                                                                                              \"><button class=\"sqdOP yWX7d    y3zKF     \" type=\"button\"><div class=\"_7mCbS\"></div><span class=\"EizgU\">답글 보기(1개)</span></button></div></li></ul></li></ul><ul class=\"Mr508 \"><div role=\"button\" class=\"ZyFrc\" tabindex=\"0\"><li class=\"gElp9 rUo9f \" role=\"menuitem\"><div class=\"P9YgZ\"><div class=\"C7I1f \"><div class=\"Jv7Aj mArmR   pZp3x\"><div class=\"RR-M-  TKzGu  \" aria-disabled=\"true\" role=\"button\" tabindex=\"-1\"><canvas class=\"CfWVH\" height=\"53\" width=\"53\" style=\"position: absolute; top: -5px; left: -5px; width: 42px; height: 42px;\"></canvas><a class=\"_2dbep qNELH kIKUG\" href=\"/dovely_as2/\" tabindex=\"0\" style=\"width: 32px; height: 32px;\"><img alt=\"dovely_as2님의 프로필 사진\" class=\"_6q-tv\" crossorigin=\"anonymous\" data-testid=\"user-avatar\" draggable=\"false\" src=\"https://scontent-ssn1-1.cdninstagram.com/v/t51.2885-19/s150x150/152686424_183476766501657_6221062836721258286_n.jpg?tp=1&amp;_nc_ht=scontent-ssn1-1.cdninstagram.com&amp;_nc_ohc=bdbdk4e6ebsAX8ID3f-&amp;edm=AP_V10EBAAAA&amp;ccb=7-4&amp;oh=d619552d7fa148b2f11b0c0759d80bb3&amp;oe=60C00E44&amp;_nc_sid=4f375e\"></a></div></div><div class=\"C4VMK\"><h3 class=\"_6lAjh \"><div class=\"                     Igw0E     IwRSH      eGOV_         _4EzTm                                       ItkAi                                                                       \"><span class=\"Jv7Aj mArmR MqpiF  \"><a class=\"sqdOP yWX7d     _8A5w5   ZIAjV \" href=\"/dovely_as2/\" tabindex=\"0\">dovely_as2</a></span></div></h3><span class=\"\"><a class=\"notranslate\" href=\"/juhyeon0105_23/\" tabindex=\"0\">@juhyeon0105_23</a>  여기가자,,,,</span><div class=\"                     Igw0E     IwRSH      eGOV_         _4EzTm   pjcA_                                                         aGBdT                                                  \"><div class=\"_7UhW9  PIoXz       MMzan   _0PwGv         uL8Hv         \"><a class=\"gU-I7\" href=\"/p/COsKMTelcWF/c/17883461156166873/\" tabindex=\"0\"><time class=\"FH9sR Nzb55\" datetime=\"2021-05-11T01:56:22.000Z\" title=\"2021년 5월 11일\">12시간</time></a><button class=\"FH9sR\">답글 달기</button></div></div></div></div><div class=\"\"><div class=\"_4l6NB \"><button class=\"wpO6b  \" type=\"button\"><div class=\"QBdPU \"><div class=\"                     Igw0E   rBNOH          YBx95       _4EzTm                                                                                                              \" style=\"height: 24px; width: 24px;\"><svg aria-label=\"댓글 옵션\" class=\"_8-yf5 \" fill=\"#8e8e8e\" height=\"16\" viewBox=\"0 0 48 48\" width=\"16\"><circle clip-rule=\"evenodd\" cx=\"8\" cy=\"24\" fill-rule=\"evenodd\" r=\"4.5\"></circle><circle clip-rule=\"evenodd\" cx=\"24\" cy=\"24\" fill-rule=\"evenodd\" r=\"4.5\"></circle><circle clip-rule=\"evenodd\" cx=\"40\" cy=\"24\" fill-rule=\"evenodd\" r=\"4.5\"></circle></svg></div></div></button></div></div><span class=\"jdtwu\"><div class=\"_2ic5v\"><button class=\"wpO6b ZQScA \" type=\"button\"><div class=\"QBdPU \"><span class=\"\"><svg aria-label=\"좋아요\" class=\"_8-yf5 \" fill=\"#262626\" height=\"12\" viewBox=\"0 0 48 48\" width=\"12\"><path d=\"M34.6 6.1c5.7 0 10.4 5.2 10.4 11.5 0 6.8-5.9 11-11.5 16S25 41.3 24 41.9c-1.1-.7-4.7-4-9.5-8.3-5.7-5-11.5-9.2-11.5-16C3 11.3 7.7 6.1 13.4 6.1c4.2 0 6.5 2 8.1 4.3 1.9 2.6 2.2 3.9 2.5 3.9.3 0 .6-1.3 2.5-3.9 1.6-2.3 3.9-4.3 8.1-4.3m0-3c-4.5 0-7.9 1.8-10.6 5.6-2.7-3.7-6.1-5.5-10.6-5.5C6 3.1 0 9.6 0 17.6c0 7.3 5.4 12 10.6 16.5.6.5 1.3 1.1 1.9 1.7l2.3 2c4.4 3.9 6.6 5.9 7.6 6.5.5.3 1.1.5 1.6.5.6 0 1.1-.2 1.6-.5 1-.6 2.8-2.2 7.8-6.8l2-1.8c.7-.6 1.3-1.2 2-1.7C42.7 29.6 48 25 48 17.6c0-8-6-14.5-13.4-14.5z\"></path></svg></span></div></button></div></span></div></li></div><li><ul class=\"TCSYW\"><li class=\"_61Di1\"><div class=\"                     Igw0E     IwRSH      eGOV_     ybXk5    _4EzTm                                                                                                              \"><button class=\"sqdOP yWX7d    y3zKF     \" type=\"button\"><div class=\"_7mCbS\"></div><span class=\"EizgU\">답글 보기(1개)</span></button></div></li></ul></li></ul><li><div class=\"                     Igw0E     IwRSH        YBx95       _4EzTm                                                                                                            NUiEW  \" style=\"min-height: 40px;\"><button class=\"dCJp8 afkep\"><span aria-label=\"댓글 더 읽어들이기\" class=\"glyphsSpriteCircle_add__outline__24__grey_9 u-__7\"></span></button></div></li></ul></div><div class=\"k_Q0X I0_K8  NnvRN\"><a class=\"c-Yi7\" href=\"/p/COsKMTelcWF/\" tabindex=\"0\"><time class=\"_1o9PC Nzb55\" datetime=\"2021-05-10T11:00:38.000Z\" title=\"2021년 5월 10일\">1일 전</time></a></div><section class=\"sH9wk  _JgwE \"><div class=\"RxpZH\"><form class=\"X7cDz\" method=\"POST\"><button class=\"wpO6b  \" type=\"button\"><div class=\"QBdPU \"><svg aria-label=\"이모티콘\" class=\"_8-yf5 \" fill=\"#262626\" height=\"24\" viewBox=\"0 0 48 48\" width=\"24\"><path d=\"M24 48C10.8 48 0 37.2 0 24S10.8 0 24 0s24 10.8 24 24-10.8 24-24 24zm0-45C12.4 3 3 12.4 3 24s9.4 21 21 21 21-9.4 21-21S35.6 3 24 3z\"></path><path d=\"M34.9 24c0-1.4-1.1-2.5-2.5-2.5s-2.5 1.1-2.5 2.5 1.1 2.5 2.5 2.5 2.5-1.1 2.5-2.5zm-21.8 0c0-1.4 1.1-2.5 2.5-2.5s2.5 1.1 2.5 2.5-1.1 2.5-2.5 2.5-2.5-1.1-2.5-2.5zM24 37.3c-5.2 0-8-3.5-8.2-3.7-.5-.6-.4-1.6.2-2.1.6-.5 1.6-.4 2.1.2.1.1 2.1 2.5 5.8 2.5 3.7 0 5.8-2.5 5.8-2.5.5-.6 1.5-.7 2.1-.2.6.5.7 1.5.2 2.1 0 .2-2.8 3.7-8 3.7z\"></path></svg></div></button><div class=\"\" style=\"right: 53px; bottom: 355px;\"></div><textarea aria-label=\"댓글 달기...\" placeholder=\"댓글 달기...\" class=\"Ypffh\" autocomplete=\"off\" autocorrect=\"off\"></textarea><button class=\"sqdOP yWX7d    y3zKF     \" disabled=\"\" type=\"submit\">게시</button></form></div></section></div></article></div></div><div class=\"                     Igw0E     IwRSH      eGOV_         _4EzTm                                                                                  BI4qX            qJPeX            fm1AK   TxciK yiMZG\"><button class=\"wpO6b  \" type=\"button\"><div class=\"QBdPU \"><svg aria-label=\"닫기\" class=\"_8-yf5 \" fill=\"#ffffff\" height=\"24\" viewBox=\"0 0 48 48\" width=\"24\"><path clip-rule=\"evenodd\" d=\"M41.8 9.8L27.5 24l14.2 14.2c.6.6.6 1.5 0 2.1l-1.4 1.4c-.6.6-1.5.6-2.1 0L24 27.5 9.8 41.8c-.6.6-1.5.6-2.1 0l-1.4-1.4c-.6-.6-.6-1.5 0-2.1L20.5 24 6.2 9.8c-.6-.6-.6-1.5 0-2.1l1.4-1.4c.6-.6 1.5-.6 2.1 0L24 20.5 38.3 6.2c.6-.6 1.5-.6 2.1 0l1.4 1.4c.6.6.6 1.6 0 2.2z\" fill-rule=\"evenodd\"></path></svg></div></button></div><button aria-hidden=\"true\" class=\"MgpC9\" tabindex=\"-1\"></button></div></body></html>\n"
     ]
    }
   ],
   "source": [
    "html = driver.page_source\n",
    "print(html)"
   ]
  },
  {
   "cell_type": "code",
   "execution_count": 81,
   "metadata": {},
   "outputs": [
    {
     "output_type": "stream",
     "name": "stdout",
     "text": [
      "13\n[<span class=\"\"><a class=\"xil3i\" href=\"/explore/tags/속골/\" tabindex=\"0\">#속골</a><br/>여름이면 필수인 계곡+백숙 꿀조합!<br/>계곡물에 발담그고 먹는 백숙맛 말해모해😆<br/>여름이면 여기서 신선놀음 하는거지 ㅇㅈ?<br/>@백숙 뿌시러 여기로 가쟈🙋‍♀️<br/>.<br/>.<br/><a class=\"xil3i\" href=\"/explore/tags/제주맛집/\" tabindex=\"0\">#제주맛집</a> <a class=\"xil3i\" href=\"/explore/tags/제주도맛집/\" tabindex=\"0\">#제주도맛집</a> <a class=\"xil3i\" href=\"/explore/tags/제주맛집추천/\" tabindex=\"0\">#제주맛집추천</a> <a class=\"xil3i\" href=\"/explore/tags/제주핫플/\" tabindex=\"0\">#제주핫플</a> <a class=\"xil3i\" href=\"/explore/tags/제주핫플레이스/\" tabindex=\"0\">#제주핫플레이스</a> <a class=\"xil3i\" href=\"/explore/tags/제주데이트코스/\" tabindex=\"0\">#제주데이트코스</a> <a class=\"xil3i\" href=\"/explore/tags/제주여행/\" tabindex=\"0\">#제주여행</a> <a class=\"xil3i\" href=\"/explore/tags/제주도여행/\" tabindex=\"0\">#제주도여행</a> <a class=\"xil3i\" href=\"/explore/tags/제주도여행코스/\" tabindex=\"0\">#제주도여행코스</a> <a class=\"xil3i\" href=\"/explore/tags/제주여행코스/\" tabindex=\"0\">#제주여행코스</a> <a class=\"xil3i\" href=\"/explore/tags/제주여행지/\" tabindex=\"0\">#제주여행지</a> <a class=\"xil3i\" href=\"/explore/tags/제주여행지추천/\" tabindex=\"0\">#제주여행지추천</a> <a class=\"xil3i\" href=\"/explore/tags/서귀포여행/\" tabindex=\"0\">#서귀포여행</a> <a class=\"xil3i\" href=\"/explore/tags/제주가볼만한곳/\" tabindex=\"0\">#제주가볼만한곳</a> <a class=\"xil3i\" href=\"/explore/tags/제주도가볼만한곳/\" tabindex=\"0\">#제주도가볼만한곳</a></span>, <span class=\"\">지저분히고...불친절ㅜㅜ햇던....</span>, <span class=\"\">이번년도엔 언제부터 영업하려나</span>, <span class=\"\"><a class=\"notranslate\" href=\"/jsy8n/\" tabindex=\"0\">@jsy8n</a> 😮</span>, <span class=\"\"><a class=\"notranslate\" href=\"/jake_eye_view/\" tabindex=\"0\">@jake_eye_view</a></span>, <span class=\"\"><a class=\"notranslate\" href=\"/strong__ji_hoon_/\" tabindex=\"0\">@strong__ji_hoon_</a></span>, <span class=\"\"><a class=\"notranslate\" href=\"/soobin_e__/\" tabindex=\"0\">@soobin_e__</a></span>, <span class=\"\"><a class=\"notranslate\" href=\"/y_sb__/\" tabindex=\"0\">@y_sb__</a> 시원하겠다</span>, <span class=\"\"><a class=\"notranslate\" href=\"/jindragon___/\" tabindex=\"0\">@jindragon___</a> <a class=\"notranslate\" href=\"/hwa__92/\" tabindex=\"0\">@hwa__92</a> 여기내가손에꼽는곳중하나무조건가야해</span>, <span class=\"\"><a class=\"notranslate\" href=\"/leafmoon_haru/\" tabindex=\"0\">@leafmoon_haru</a> 하고싶은거 너무 많아 ..</span>, <span class=\"\"><a class=\"notranslate\" href=\"/hu._.nni/\" tabindex=\"0\">@hu._.nni</a> 어때어때😍</span>, <span class=\"\"><a class=\"notranslate\" href=\"/yuriiii_c/\" tabindex=\"0\">@yuriiii_c</a>  갈데 왜캐마나..</span>, <span class=\"\"><a class=\"notranslate\" href=\"/juhyeon0105_23/\" tabindex=\"0\">@juhyeon0105_23</a>  여기가자,,,,</span>]\n"
     ]
    }
   ],
   "source": [
    "\n",
    "soup = BeautifulSoup(html, 'html.parser')\n",
    "\n",
    "content = soup.select('div.C4VMK > span')\n",
    "print(len(content))\n",
    "print(content)"
   ]
  },
  {
   "cell_type": "code",
   "execution_count": 82,
   "metadata": {},
   "outputs": [
    {
     "output_type": "stream",
     "name": "stdout",
     "text": [
      "#속골여름이면 필수인 계곡+백숙 꿀조합!계곡물에 발담그고 먹는 백숙맛 말해모해😆여름이면 여기서 신선놀음 하는거지 ㅇㅈ?@백숙 뿌시러 여기로 가쟈🙋‍♀️..#제주맛집 #제주도맛집 #제주맛집추천 #제주핫플 #제주핫플레이스 #제주데이트코스 #제주여행 #제주도여행 #제주도여행코스 #제주여행코스 #제주여행지 #제주여행지추천 #서귀포여행 #제주가볼만한곳 #제주도가볼만한곳\n"
     ]
    }
   ],
   "source": [
    "print(content[0].text)"
   ]
  },
  {
   "cell_type": "code",
   "execution_count": 83,
   "metadata": {},
   "outputs": [],
   "source": [
    "try :\n",
    "    content = soup.select('div.C4VMK > span')[0].text\n",
    "except:\n",
    "    content = ' '"
   ]
  },
  {
   "cell_type": "code",
   "execution_count": 84,
   "metadata": {},
   "outputs": [
    {
     "output_type": "stream",
     "name": "stdout",
     "text": [
      "['#속골여름이면', '#제주맛집', '#제주도맛집', '#제주맛집추천', '#제주핫플', '#제주핫플레이스', '#제주데이트코스', '#제주여행', '#제주도여행', '#제주도여행코스', '#제주여행코스', '#제주여행지', '#제주여행지추천', '#서귀포여행', '#제주가볼만한곳', '#제주도가볼만한곳']\n"
     ]
    }
   ],
   "source": [
    "\n",
    "tags = re.findall(r'#[^\\s#,\\\\]+', content)  \n",
    "print(tags)"
   ]
  },
  {
   "cell_type": "code",
   "execution_count": 85,
   "metadata": {},
   "outputs": [
    {
     "output_type": "stream",
     "name": "stdout",
     "text": [
      "1\n[<time class=\"_1o9PC Nzb55\" datetime=\"2021-05-10T11:00:38.000Z\" title=\"2021년 5월 10일\">1일 전</time>]\n"
     ]
    }
   ],
   "source": [
    "date = soup.select('time._1o9PC.Nzb55')\n",
    "print(len(date))\n",
    "print(date)"
   ]
  },
  {
   "cell_type": "code",
   "execution_count": 86,
   "metadata": {},
   "outputs": [
    {
     "output_type": "stream",
     "name": "stdout",
     "text": [
      "2021-05-10T11:00:38.000Z\n"
     ]
    }
   ],
   "source": [
    "print(date[0]['datetime'])\n"
   ]
  },
  {
   "cell_type": "code",
   "execution_count": 87,
   "metadata": {},
   "outputs": [
    {
     "output_type": "stream",
     "name": "stdout",
     "text": [
      "2021-05-10\n"
     ]
    }
   ],
   "source": [
    "date = soup.select('time._1o9PC.Nzb55')[0]['datetime'][:10]\n",
    "print(date)"
   ]
  },
  {
   "cell_type": "code",
   "execution_count": 88,
   "metadata": {},
   "outputs": [],
   "source": [
    "html1 = driver.page_source\n",
    "soup1 = BeautifulSoup(html1, 'html.parser')\n",
    "like1 = soup1.select('div.Nm9Fw > a')"
   ]
  },
  {
   "cell_type": "code",
   "execution_count": 89,
   "metadata": {},
   "outputs": [
    {
     "output_type": "stream",
     "name": "stdout",
     "text": [
      "\n"
     ]
    }
   ],
   "source": [
    "try:\n",
    "    place = soup.select('div.M30cS')[0].text\n",
    "except:\n",
    "    place = ''\n",
    "print(place)"
   ]
  },
  {
   "cell_type": "code",
   "execution_count": 90,
   "metadata": {},
   "outputs": [],
   "source": [
    "def get_content_before(driver):\n",
    "    html = driver.page_source\n",
    "    soup = BeautifulSoup(html, 'html.parser')\n",
    "    try:\n",
    "        content = soup.select('div.C4VMK > span')[0].text\n",
    "    except:\n",
    "        content = ' '\n",
    "    tags = re.findall(r'#[^\\s#,\\\\]+', content)  \n",
    "    date = soup.select('time._1o9PC.Nzb55')[0]['datetime'][:10]\n",
    "    try:\n",
    "        like = soup.select('div.Nm9Fw > button')[0].text[4:-1]   \n",
    "    except:\n",
    "        like = 0\n",
    "    try: \n",
    "        place = soup.select('div.M30cS')[0].text\n",
    "    except:\n",
    "        place = ''\n",
    "    data = [content, date, like, place, tags]\n",
    "    return data"
   ]
  },
  {
   "cell_type": "code",
   "execution_count": 91,
   "metadata": {},
   "outputs": [
    {
     "output_type": "execute_result",
     "data": {
      "text/plain": [
       "['#속골여름이면 필수인 계곡+백숙 꿀조합!계곡물에 발담그고 먹는 백숙맛 말해모해😆여름이면 여기서 신선놀음 하는거지 ㅇㅈ?@백숙 뿌시러 여기로 가쟈🙋\\u200d♀️..#제주맛집 #제주도맛집 #제주맛집추천 #제주핫플 #제주핫플레이스 #제주데이트코스 #제주여행 #제주도여행 #제주도여행코스 #제주여행코스 #제주여행지 #제주여행지추천 #서귀포여행 #제주가볼만한곳 #제주도가볼만한곳',\n",
       " '2021-05-10',\n",
       " 0,\n",
       " '',\n",
       " ['#속골여름이면',\n",
       "  '#제주맛집',\n",
       "  '#제주도맛집',\n",
       "  '#제주맛집추천',\n",
       "  '#제주핫플',\n",
       "  '#제주핫플레이스',\n",
       "  '#제주데이트코스',\n",
       "  '#제주여행',\n",
       "  '#제주도여행',\n",
       "  '#제주도여행코스',\n",
       "  '#제주여행코스',\n",
       "  '#제주여행지',\n",
       "  '#제주여행지추천',\n",
       "  '#서귀포여행',\n",
       "  '#제주가볼만한곳',\n",
       "  '#제주도가볼만한곳']]"
      ]
     },
     "metadata": {},
     "execution_count": 91
    }
   ],
   "source": [
    "get_content_before(driver)"
   ]
  },
  {
   "cell_type": "code",
   "execution_count": 127,
   "metadata": {},
   "outputs": [],
   "source": [
    "def move_next(driver):\n",
    "    right = driver.find_element_by_css_selector ('a._65Bje.coreSpriteRightPaginationArrow')\n",
    "    right.click()\n",
    "    time.sleep(3)"
   ]
  },
  {
   "cell_type": "code",
   "execution_count": 129,
   "metadata": {},
   "outputs": [],
   "source": [
    "move_next(driver)\n",
    "\n",
    "# results = []\n",
    "# results1 = []\n",
    "# results2 = []\n",
    "results3 = []"
   ]
  },
  {
   "cell_type": "code",
   "execution_count": 132,
   "metadata": {
    "tags": [
     "outputPrepend"
    ]
   },
   "outputs": [
    {
     "output_type": "stream",
     "name": "stdout",
     "text": [
      "'#떡케잌', '#제주보리설기', '#쑥버무리', '#쑥인절미', '#쑥시루', '#쑥개떡', '#쑥녹두송편', '#쑥꿀떡', '#쑥절편', '#제주쑥']], ['갈비 찰떡궁합 열무지와파지도 어떻게 이렇게 맛있지ㅠ손님들 극찬중인 간장게장고기도 진심 맛있어요 🤗🤗#정식맛집 #한림갈비 #제주맛집#애월근처맛집 #협재근처맛집 #낮에정식 밤에갈비제주시 한림읍 한림상로 158🤗', '2021-05-11', 0, '', ['#정식맛집', '#한림갈비', '#제주맛집', '#애월근처맛집', '#협재근처맛집', '#낮에정식']], ['역전할머니맥주제주시청점 새벽5시까지 영업중입니다^^#제주시청#제주시청술집#제주도민#제주맛집#제주시청핫플 #먹스타그램#좋아요#치킨#치맥#먹스타그램#치킨스타그램#소통#팔로우', '2021-05-11', 0, '제주시청 근처', ['#제주시청', '#제주시청술집', '#제주도민', '#제주맛집', '#제주시청핫플', '#먹스타그램', '#좋아요', '#치킨', '#치맥', '#먹스타그램', '#치킨스타그램', '#소통', '#팔로우']], ['이번주 힘좀 실어줄래? 3일🙏⠀⠀⠀⠀⠀⠀⠀⠀⠀⠀⠀⠀⠀⠀⠀⠀⠀⠀⠀⠀⠀⠀⠀⠀#제주카페#제주시카페#제주시맛집#금오름#서귀포맛집#전포카페#서면맛집#창원카페#성수동#천안카페#경주#제주맛집#애월카페#노티드제주#디앤디파트먼트#애월#광안리#새들러서울#황리단길카페#해리단길카페#부산#일광#기장카페#부산카페#전포카페거리#한남동카페', '2021-05-11', 0, 'Jeju', ['#제주카페', '#제주시카페', '#제주시맛집', '#금오름', '#서귀포맛집', '#전포카페', '#서면맛집', '#창원카페', '#성수동', '#천안카페', '#경주', '#제주맛집', '#애월카페', '#노티드제주', '#디앤디파트먼트', '#애월', '#광안리', '#새들러서울', '#황리단길카페', '#해리단길카페', '#부산', '#일광', '#기장카페', '#부산카페', '#전포카페거리', '#한남동카페']], ['요즘 사람많은 음식점 많이 걱정되시죠?바다를 보며 밖에서 맛있는 회를 즐길 수 있는#제주도회포장 전문 #미시까!그 자리에서 바로 깔끔하게 포장해주시기 때문에신선하고 푸짐하게 먹을 수 있어서 너무 좋아요!#제주도횟집 #제주도회 맛있게 먹고 싶다면 바로 여기!주소 : 제주 제주시 조천읍 신북로 537-1 미시까영업시간 : 매일 12:00 ~00:00 / 연중무휴#함덕횟집#제주회포장#제주맛집#함덕맛집#제주횟집#함덕맛집미시까#조천읍맛집#제주도맛집', '2021-05-11', '', '', ['#제주도회포장', '#미시까!그', '#제주도횟집', '#제주도회', '#함덕횟집', '#제주회포장', '#제주맛집', '#함덕맛집', '#제주횟집', '#함덕맛집미시까', '#조천읍맛집', '#제주도맛집']], ['제주애월해안도로꼭 들르길 잘한 카레맛집!!감성있고 오션뷰에다양한 카레천국임. 😝🤭#jeju #제주추천맛집 #제주맛집 #애월맛집 #항몽유적지맛집 #카레맛집 #제주핫플 #제주도민맛집 #제주맛집#애월혼밥추천 #제주도맛집#애월점심식사 #제주애월맛집#981파크맛집 #제주아침식사#사이카레#제주맛집추천 #화조원맛집 #제주맛집추천 #한림맛집#카레짬뽕 #새별오름맛집#제주가볼만한곳 #제주카레#애월아침식사#제주도날씨#협재맛집#애월해안도로맛집#맛집탐방#제주추천맛집#애월아침식사#제주공항근처맛집#구엄맛집', '2021-05-11', 0, '애월해안도로', ['#jeju', '#제주추천맛집', '#제주맛집', '#애월맛집', '#항몽유적지맛집', '#카레맛집', '#제주핫플', '#제주도민맛집', '#제주맛집', '#애월혼밥추천', '#제주도맛집', '#애월점심식사', '#제주애월맛집', '#981파크맛집', '#제주아침식사', '#사이카레', '#제주맛집추천', '#화조원맛집', '#제주맛집추천', '#한림맛집', '#카레짬뽕', '#새별오름맛집', '#제주가볼만한곳', '#제주카레', '#애월아침식사', '#제주도날씨', '#협재맛집', '#애월해안도로맛집', '#맛집탐방', '#제주추천맛집', '#애월아침식사', '#제주공항근처맛집', '#구엄맛집']], ['<제주 5일차-2>#제주한달살기 (5월8일)#1일1트레킹 #1일1운동 #1일1맛집 #1일1카페 #성산일출봉 에  올 때마다 매표소에서 우측으로 전망대까지 오르곤 했었는데, 이번엔 좌측으로 내려가서 일출봉 측면 절벽을 봤다. 무료입장이라서인지 인파로 붐비네~ ㅎ', '2021-05-11', 0, '', ['#제주한달살기', '#1일1트레킹', '#1일1운동', '#1일1맛집', '#1일1카페', '#성산일출봉']], ['제주에서 여유로웠던 그 시간🧚🏻\\u200d♀️', '2021-05-11', 0, 'Umu Pudding , 우무', []], ['카레가 굿굿 😚애월바다 감상도 하고예쁜 카레한그릇!애월해안도로감성 카레집👍🌼 존맛탱~🍛 #애월추천맛집##제주맛집 #애월맛집#한담맛집 #애월카레 #제주카레맛집 #제주도여행 #제주저녁추천 #제주해안도로맛집#제주맛집#추천맛집 #카레맛집 #제주도민맛집 #신상맛집 #애월밥집#사이카레 #카레#제주애월밥집추천 #제주핫플#애월혼밥추천 #제주공항맛집#애월저녁식사 #제주감성밥집 #제주핫플#애월혼밥추천#애월점심식사#국내맛집#제주혼밥추천#애월추천밥집#제주추천맛집', '2021-05-11', 0, '애월해안도로', ['#애월추천맛집', '#제주맛집', '#애월맛집', '#한담맛집', '#애월카레', '#제주카레맛집', '#제주도여행', '#제주저녁추천', '#제주해안도로맛집', '#제주맛집', '#추천맛집', '#카레맛집', '#제주도민맛집', '#신상맛집', '#애월밥집', '#사이카레', '#카레', '#제주애월밥집추천', '#제주핫플', '#애월혼밥추천', '#제주공항맛집', '#애월저녁식사', '#제주감성밥집', '#제주핫플', '#애월혼밥추천', '#애월점심식사', '#국내맛집', '#제주혼밥추천', '#애월추천밥집', '#제주추천맛집']], ['#크랩팟테우제주의 바다 근처에서 킹크랩, 랍스타 등을 맛볼수 있는 신상 맛집!속이 꽉차고 통통한 킹크랩 등을 먹을 수 있다는데 안갈 수 있나요??맛있는 요리도 사랑하는 사람과 함께 먹어야 더 맛있다고!함께 방문하셔서 맛있는 요리를 즐겨보세요 >_<*[위치] 제주 제주시 테우해안로 106*[문의] 010-5691-0019#제주맛집 #제주도맛집 #제주시맛집 #이호테우해변맛집 #이호테우해변 #제주시내맛집 #제주공항맛집 #제주핫플 #제주먹방 #제주맛집추천 #제주킹크랩 #제주대게 #제주해산물 #연동맛집 #노형동맛집 #제주해산물맛집 #크랩팟', '2021-05-11', 0, '', ['#크랩팟테우제주의', '#제주맛집', '#제주도맛집', '#제주시맛집', '#이호테우해변맛집', '#이호테우해변', '#제주시내맛집', '#제주공항맛집', '#제주핫플', '#제주먹방', '#제주맛집추천', '#제주킹크랩', '#제주대게', '#제주해산물', '#연동맛집', '#노형동맛집', '#제주해산물맛집', '#크랩팟']], ['#제주이자카야 #제주맛집 #제주이자카야추천 #이자카야담 #이자카야담제주#제주이자카야 #이자카야담제주#담이자카야#안주맛집 #리뉴얼담이자카야 #제주맛집#연동이자카야 #연동맛집#신제주이자카야#증류주맛집#한국전통증류주맛집#연동안주맛집#고마다래타다끼#제주안주맛있는곳 #제주담이자카야 꾸준한 사랑을 받았던 고마다래소스 타다끼ㆍ이번에도 변함없이 찾아주시길ㆍㆍ🤣신메뉴 아이들한테 치일까봐요ㆍㆍ', '2021-05-11', 0, '담 이자카야', ['#제주이자카야', '#제주맛집', '#제주이자카야추천', '#이자카야담', '#이자카야담제주', '#제주이자카야', '#이자카야담제주', '#담이자카야', '#안주맛집', '#리뉴얼담이자카야', '#제주맛집', '#연동이자카야', '#연동맛집', '#신제주이자카야', '#증류주맛집', '#한국전통증류주맛집', '#연동안주맛집', '#고마다래타다끼', '#제주안주맛있는곳', '#제주담이자카야']], ['#버터모닝 #새벽줄서기성공 #제주빵집 다음에 가면 또 줄 설거다!ㅎ #제주맛집 #제주여행 #먹고싶어서그냥또올려봄ㅋㅋ #추천빵집', '2021-05-11', 0, '', ['#버터모닝', '#새벽줄서기성공', '#제주빵집', '#제주맛집', '#제주여행', '#먹고싶어서그냥또올려봄ㅋㅋ', '#추천빵집']], ['안녕하세요 제주가라오케 겨울실장입니다!제주전체 룸업장정지에따라라운지바에서 방역수칙재정비후 새로이 단장하여 손님분들 모시고 있습니다^^아가씨 상시대기(퍼블릭, 셔츠, 레깅스문의가능)담백하게 문의답변드립니다!편하게 연락주세요:)☆아가씨가 모자라요 빠른연락부탁드려요☆실장 겨울O1O 9333 33O4**함께일하실 아가씨분들도 상시모집합니다 연락주세요! 충분히상담하시고결정가능**_____________________________#제주#제주도#제주여행#제주도여행#제주맛집#제주옷가게#제주주점#제주가라오케#제주도가라오케#제주핫플레이스#제주도핫플#제주핫플#제주골프#제주라운딩#제주골프여행#제주룸#제주골프장#제주경마장#제주호텔#제주클럽#제주나이트#제주술집#제주도호빠#제주도바#제주호빠#제주유흥#제주도유흥#제주룸바#제주카페', '2021-05-11', '', '', ['#제주', '#제주도', '#제주여행', '#제주도여행', '#제주맛집', '#제주옷가게', '#제주주점', '#제주가라오케', '#제주도가라오케', '#제주핫플레이스', '#제주도핫플', '#제주핫플', '#제주골프', '#제주라운딩', '#제주골프여행', '#제주룸', '#제주골프장', '#제주경마장', '#제주호텔', '#제주클럽', '#제주나이트', '#제주술집', '#제주도호빠', '#제주도바', '#제주호빠', '#제주유흥', '#제주도유흥', '#제주룸바', '#제주카페']], ['in제주 레전드#서광보말칼국수#홍보 #성게미역국#옥돔튀김 진짜 환상의 궁합이에요 👍🏼제주해녀가 보말을 직접 잡아서 더 유명한집인데 성게미역국에 성게도 인심좋게 들어가있어요 제주도에서 제일 맛있었던#제주안덕면맛집..#제주신화월드맛집#제주오설록맛집#제주보말칼국수#제주맛집#카멜리아힐맛집#제주오설록근처맛집#카멜리아힐#신화월드#제주도맛집#인정#주차장있음', '2021-05-11', 0, '제주도', ['#서광보말칼국수', '#홍보', '#성게미역국', '#옥돔튀김', '#제주안덕면맛집..', '#제주신화월드맛집', '#제주오설록맛집', '#제주보말칼국수', '#제주맛집', '#카멜리아힐맛집', '#제주오설록근처맛집', '#카멜리아힐', '#신화월드', '#제주도맛집', '#인정', '#주차장있음']], ['안녕하세요 제주가라오케 겨울실장입니다!제주전체 룸업장정지에따라라운지바에서 방역수칙재정비후 새로이 단장하여 손님분들 모시고 있습니다^^아가씨 상시대기(퍼블릭, 셔츠, 레깅스문의가능)담백하게 문의답변드립니다!편하게 연락주세요:)☆아가씨가 모자라요 빠른연락부탁드려요☆실장 겨울O1O 9333 33O4**함께일하실 아가씨분들도 상시모집합니다 연락주세요! 충분히상담하시고결정가능**_____________________________#제주#제주도#제주여행#제주도여행#제주맛집#제주옷가게#제주주점#제주가라오케#제주도가라오케#제주핫플레이스#제주도핫플#제주핫플#제주골프#제주라운딩#제주골프여행#제주룸#제주골프장#제주경마장#제주호텔#제주클럽#제주나이트#제주술집#제주도호빠#제주도바#제주호빠#제주유흥#제주도유흥#제주룸바#제주카페', '2021-05-11', '', '', ['#제주', '#제주도', '#제주여행', '#제주도여행', '#제주맛집', '#제주옷가게', '#제주주점', '#제주가라오케', '#제주도가라오케', '#제주핫플레이스', '#제주도핫플', '#제주핫플', '#제주골프', '#제주라운딩', '#제주골프여행', '#제주룸', '#제주골프장', '#제주경마장', '#제주호텔', '#제주클럽', '#제주나이트', '#제주술집', '#제주도호빠', '#제주도바', '#제주호빠', '#제주유흥', '#제주도유흥', '#제주룸바', '#제주카페']], ['안녕하세요 제주가라오케 겨울실장입니다!제주전체 룸업장정지에따라라운지바에서 방역수칙재정비후 새로이 단장하여 손님분들 모시고 있습니다^^아가씨 상시대기(퍼블릭, 셔츠, 레깅스문의가능)담백하게 문의답변드립니다!편하게 연락주세요:)☆아가씨가 모자라요 빠른연락부탁드려요☆실장 겨울O1O 9333 33O4**함께일하실 아가씨분들도 상시모집합니다 연락주세요! 충분히상담하시고결정가능**_____________________________#제주#제주도#제주여행#제주도여행#제주맛집#제주옷가게#제주주점#제주가라오케#제주도가라오케#제주핫플레이스#제주도핫플#제주핫플#제주골프#제주라운딩#제주골프여행#제주룸#제주골프장#제주경마장#제주호텔#제주클럽#제주나이트#제주술집#제주도호빠#제주도바#제주호빠#제주유흥#제주도유흥#제주룸바#제주카페', '2021-05-11', '', '', ['#제주', '#제주도', '#제주여행', '#제주도여행', '#제주맛집', '#제주옷가게', '#제주주점', '#제주가라오케', '#제주도가라오케', '#제주핫플레이스', '#제주도핫플', '#제주핫플', '#제주골프', '#제주라운딩', '#제주골프여행', '#제주룸', '#제주골프장', '#제주경마장', '#제주호텔', '#제주클럽', '#제주나이트', '#제주술집', '#제주도호빠', '#제주도바', '#제주호빠', '#제주유흥', '#제주도유흥', '#제주룸바', '#제주카페']], ['푸른바다 환상의섬 제주,제주에서 맛 볼수 있는~참치회덮밥 전문점인 마구로하브동 ♥마구로하브동만의 정성스런 한 그릇신선한 참치 한점, 행복까지 한 가득~ ^^특제소스와 참치의 환상적인 궁합정말 기분 좋은 한끼를 대접해 드립니다. ♥♥♥▷ 1주년 기념 할인 이벤트: 도로도로동 20%, 하브동 10% 할인▷ 제주공항 인근위치▷ 혼술, 혼밥하기 딱 좋은 집11시 ~ 15시 / 17시30분 ~ 21시(재료소진시 조기마감)(매주 일요일 휴무)문의 : 064-726-5242위치 : 제주시 이도이동 1063-6.....#하브동 #마구로하브동 #도로도로동 #참치회덮밥 #마구로 #제주도맛집 #제주시청맛집 #제주공항맛집 #마구로동 #데카동 #네기도로동 #하와이안포케동 #육회동 #제주본점 #제주시맛집 #제주맛집 #제주도여행 #이도이동맛집 #제주도핫플 #제주도가볼만한곳 #함덕맛집 #애월맛집 #노형동맛집 #가성비맛집', '2021-05-11', 0, '', ['#하브동', '#마구로하브동', '#도로도로동', '#참치회덮밥', '#마구로', '#제주도맛집', '#제주시청맛집', '#제주공항맛집', '#마구로동', '#데카동', '#네기도로동', '#하와이안포케동', '#육회동', '#제주본점', '#제주시맛집', '#제주맛집', '#제주도여행', '#이도이동맛집', '#제주도핫플', '#제주도가볼만한곳', '#함덕맛집', '#애월맛집', '#노형동맛집', '#가성비맛집']], ['왠일로여유있는시간...카페에있는피아노에앉았습니다.피아노치는사람이그렇게이쁘고멋있던데😁우리엄마는태권도도피아노도안보내주고...레고도사주신적이없었습니다.그래도엄마보고싶다😅카페오셔서 피아노 멋지게 한번쳐주세요^^누구든지환영입니다.#한라수목원#한라수목원카페#제주도여행코스#읍천리#읍천리제주점#제주맛집#제주공항카페#제주시카페#감성카페#딜리버리카페#샌드위치#샐러드#와플#배달커피#배달의민족#아메리카노#간식#제주도감성카페#제주도데이트코스 #제주도브런치카페 #읍천리382 #디저트카페 #제주도운동#제주도맛집#다이어트식단#카페#이쁜카페#제주이쁜카페#데이트코스', '2021-05-11', 0, '환상의 섬 Jeju Island', ['#한라수목원', '#한라수목원카페', '#제주도여행코스', '#읍천리', '#읍천리제주점', '#제주맛집', '#제주공항카페', '#제주시카페', '#감성카페', '#딜리버리카페', '#샌드위치', '#샐러드', '#와플', '#배달커피', '#배달의민족', '#아메리카노', '#간식', '#제주도감성카페', '#제주도데이트코스', '#제주도브런치카페', '#읍천리382', '#디저트카페', '#제주도운동', '#제주도맛집', '#다이어트식단', '#카페', '#이쁜카페', '#제주이쁜카페', '#데이트코스']], ['안녕하세요 제주가라오케 겨울실장입니다!제주전체 룸업장정지에따라라운지바에서 방역수칙재정비후 새로이 단장하여 손님분들 모시고 있습니다^^아가씨 상시대기(퍼블릭, 셔츠, 레깅스문의가능)담백하게 문의답변드립니다!편하게 연락주세요:)☆아가씨가 모자라요 빠른연락부탁드려요☆실장 겨울O1O 9333 33O4**함께일하실 아가씨분들도 상시모집합니다 연락주세요! 충분히상담하시고결정가능**_____________________________#제주#제주도#제주여행#제주도여행#제주맛집#제주옷가게#제주주점#제주가라오케#제주도가라오케#제주핫플레이스#제주도핫플#제주핫플#제주골프#제주라운딩#제주골프여행#제주룸#제주골프장#제주경마장#제주호텔#제주클럽#제주나이트#제주술집#제주도호빠#제주도바#제주호빠#제주유흥#제주도유흥#제주룸바#제주카페', '2021-05-11', '', '', ['#제주', '#제주도', '#제주여행', '#제주도여행', '#제주맛집', '#제주옷가게', '#제주주점', '#제주가라오케', '#제주도가라오케', '#제주핫플레이스', '#제주도핫플', '#제주핫플', '#제주골프', '#제주라운딩', '#제주골프여행', '#제주룸', '#제주골프장', '#제주경마장', '#제주호텔', '#제주클럽', '#제주나이트', '#제주술집', '#제주도호빠', '#제주도바', '#제주호빠', '#제주유흥', '#제주도유흥', '#제주룸바', '#제주카페']], ['-제주도 먹부림🏝🍴😋-1. 생각보다 더 조그마한 딱새우회🦐, 마늘치킨 짱 맛😋2. 우도 흑돼지 수제버거 👍🏻,, 땅콩아이스크림은 반밖에 안먹움,,3. 우리가 애정하는 고등어회🐟4. 제주 다시 가면 도착하자마자 달려갈 효퇴국수 ㅠ🥰56. 인생맛집 등극🐽7. 숙소에서 파는 문어숙회랑 뿔소라회 ,, 한라토닉,, 기절함8. 문어라면 맛있었다🐙9. 맛녀석들 다녀간,,, 보말성게죽>>>>보말성게칼국수10. 한치물회! 비쥬얼은 별로지만 한치 먹어도 먹어도 계속나옴🐬💙', '2021-05-11', 0, '', []], ['안녕하세요 제주가라오케 겨울실장입니다!제주전체 룸업장정지에따라라운지바에서 방역수칙재정비후 새로이 단장하여 손님분들 모시고 있습니다^^아가씨 상시대기(퍼블릭, 셔츠, 레깅스문의가능)담백하게 문의답변드립니다!편하게 연락주세요:)☆아가씨가 모자라요 빠른연락부탁드려요☆실장 겨울O1O 9333 33O4**함께일하실 아가씨분들도 상시모집합니다 연락주세요! 충분히상담하시고결정가능**_____________________________#제주#제주도#제주여행#제주도여행#제주맛집#제주옷가게#제주주점#제주가라오케#제주도가라오케#제주핫플레이스#제주도핫플#제주핫플#제주골프#제주라운딩#제주골프여행#제주룸#제주골프장#제주경마장#제주호텔#제주클럽#제주나이트#제주술집#제주도호빠#제주도바#제주호빠#제주유흥#제주도유흥#제주룸바#제주카페', '2021-05-11', 0, '', ['#제주', '#제주도', '#제주여행', '#제주도여행', '#제주맛집', '#제주옷가게', '#제주주점', '#제주가라오케', '#제주도가라오케', '#제주핫플레이스', '#제주도핫플', '#제주핫플', '#제주골프', '#제주라운딩', '#제주골프여행', '#제주룸', '#제주골프장', '#제주경마장', '#제주호텔', '#제주클럽', '#제주나이트', '#제주술집', '#제주도호빠', '#제주도바', '#제주호빠', '#제주유흥', '#제주도유흥', '#제주룸바', '#제주카페']], ['안녕하세요 제주가라오케 겨울실장입니다!제주전체 룸업장정지에따라라운지바에서 방역수칙재정비후 새로이 단장하여 손님분들 모시고 있습니다^^아가씨 상시대기(퍼블릭, 셔츠, 레깅스문의가능)담백하게 문의답변드립니다!편하게 연락주세요:)☆아가씨가 모자라요 빠른연락부탁드려요☆실장 겨울O1O 9333 33O4**함께일하실 아가씨분들도 상시모집합니다 연락주세요! 충분히상담하시고결정가능**_____________________________#제주#제주도#제주여행#제주도여행#제주맛집#제주옷가게#제주주점#제주가라오케#제주도가라오케#제주핫플레이스#제주도핫플#제주핫플#제주골프#제주라운딩#제주골프여행#제주룸#제주골프장#제주경마장#제주호텔#제주클럽#제주나이트#제주술집#제주도호빠#제주도바#제주호빠#제주유흥#제주도유흥#제주룸바#제주카페', '2021-05-11', 0, '', ['#제주', '#제주도', '#제주여행', '#제주도여행', '#제주맛집', '#제주옷가게', '#제주주점', '#제주가라오케', '#제주도가라오케', '#제주핫플레이스', '#제주도핫플', '#제주핫플', '#제주골프', '#제주라운딩', '#제주골프여행', '#제주룸', '#제주골프장', '#제주경마장', '#제주호텔', '#제주클럽', '#제주나이트', '#제주술집', '#제주도호빠', '#제주도바', '#제주호빠', '#제주유흥', '#제주도유흥', '#제주룸바', '#제주카페']], ['.🥛 완벽한 비율 로얄 밀크티🌱 100% 유기농 제주 말차 우유🍓 우유 속에 퐁당 리얼 딸기 우유🌈 알록달록 무지개빛 수제 뚱카롱⠀⠀⠀⠀⠀⠀⠀⠀⠀⠀제주시 구좌읍 해맞이해안로 406 카페콧수염070-4131-8880⠀⠀⠀⠀⠀예쁜 사진 남겨주셔서 감사합니다 🌷매일 모든 메뉴 sold-out 되므로 선착순 판매합니다. 예약✖️#제주월정리 #월정리콧수염 #제주해안도로 #성산카페 #제주 #월정리카페 #월정리카페거리 #제주도마카롱 #함덕카페 #제주애견동반카페 #제주여행 #제주카페 #제주시카페 #구좌읍카페 #제주월정리카페 #월정리 #제주도민맛집 #월정리맛집 #제주맛집 #월정리해수욕장 #제주도선물 #제주도 #함덕맛집 #제주도카페 #제주카페투어 #성산맛집 #세화카페 #제주도맛집 #월정리카페콧수염 #제주피크닉', '2021-05-11', 0, '', ['#제주월정리', '#월정리콧수염', '#제주해안도로', '#성산카페', '#제주', '#월정리카페', '#월정리카페거리', '#제주도마카롱', '#함덕카페', '#제주애견동반카페', '#제주여행', '#제주카페', '#제주시카페', '#구좌읍카페', '#제주월정리카페', '#월정리', '#제주도민맛집', '#월정리맛집', '#제주맛집', '#월정리해수욕장', '#제주도선물', '#제주도', '#함덕맛집', '#제주도카페', '#제주카페투어', '#성산맛집', '#세화카페', '#제주도맛집', '#월정리카페콧수염', '#제주피크닉']], ['#제주맛집 #해월정 #보말죽 #보말칼국수', '2021-05-11', 0, '', ['#제주맛집', '#해월정', '#보말죽', '#보말칼국수']], ['#repost @gowun.shim・・・넘 잘나온다! #제주맛집 #우도맛집 #소섬전복 -고객님의 소중한 후기는 사랑입니다💛감사합니다.--✔️소섬전복 🚘찾아오시는길제주시 우도면 우도해안길 1158☎️연락처064-782-0062#우도맛집#우도맛집추천#제주맛집#성산맛집#애월맛집#월정리맛집#제주전복맛집#전복맛집#제주여행#제주가족여행#제주여행코스#제주가족여행코스#우도먹방투어#우도먹방#우도카페#우도카페투어#우도여행코스', '2021-05-11', 0, '', ['#repost', '#제주맛집', '#우도맛집', '#소섬전복', '#우도맛집', '#우도맛집추천', '#제주맛집', '#성산맛집', '#애월맛집', '#월정리맛집', '#제주전복맛집', '#전복맛집', '#제주여행', '#제주가족여행', '#제주여행코스', '#제주가족여행코스', '#우도먹방투어', '#우도먹방', '#우도카페', '#우도카페투어', '#우도여행코스']], ['#차돌박이 #차돌박이숙주볶음 .........#일상 #daily #데일리 #인친 #소통그램 #소통해요 #소통환영 #소통 #좋아요 #맞팔 #선팔 #선팔하면맞팔 #맞팔해요 #선팔맞팔 #선팔후맞팔\\xa0 #맞팔댓글 #제주맛집 #제주핫플 #서귀포맛집 #먹스타 #맛스타 #맛스타그램 #먹스타그램 #맛스타그램 #먹팔 #먹소통 #음식계정 #음식소통', '2021-05-11', 0, '', ['#차돌박이', '#차돌박이숙주볶음', '#일상', '#daily', '#데일리', '#인친', '#소통그램', '#소통해요', '#소통환영', '#소통', '#좋아요', '#맞팔', '#선팔', '#선팔하면맞팔', '#맞팔해요', '#선팔맞팔', '#선팔후맞팔', '#맞팔댓글', '#제주맛집', '#제주핫플', '#서귀포맛집', '#먹스타', '#맛스타', '#맛스타그램', '#먹스타그램', '#맛스타그램', '#먹팔', '#먹소통', '#음식계정', '#음식소통']], ['한치두치세치네치 #한치빵 한치빵!한치두치세치네치 한치한치 빵빵!한치빵 사 먹으면서 이 노래 생각 안 하는 사람 없을껄? 유치한데 왜 생각나고 난리;;;;;; 부끄러우니까 속으로만 생각하기.... 우연히 만난 한치빵🦑 망설임 없이 주세요!!! 겨울에 길에서 붕어빵 만나면 고민함? 안 하잖아요 똑같은 거지 뭐ㅎㅎㅎㅎㅎㅎㅎ😝 한치빵은 만들어 놓는 게 아니라 주문하고 조금 기다려야 하지만 기다릴쑤이써!!!!!!!!한치빵이긴 하지만 한치는 새끼손꾸락만큼 있는게 조금 아쉽.. 치즈는 가득해용 ~.~ 빵에 치즈인데 맛이 없을 리가 없자낭 무조건 성공 맛!! 지나가다 보이면 망설이지 마세용!!...#소리푸드 #제주도맛집 #제주맛집 #제주도맛집추천 #제주맛집추천 #제주도 #제주 #제주여행 #제주도여행 #맛집추천 #맛스타그램 #간식추천 #길거리음식 #먹팔', '2021-05-11', 0, '', ['#한치빵', '#소리푸드', '#제주도맛집', '#제주맛집', '#제주도맛집추천', '#제주맛집추천', '#제주도', '#제주', '#제주여행', '#제주도여행', '#맛집추천', '#맛스타그램', '#간식추천', '#길거리음식', '#먹팔']], ['화창했던 오늘 ✨이사는 저번주에 했는데내 정신은 아직 이사를 안왔구 내년엔 또 이사를 어떻게 할 것이며이사 하는 것보다 애들 어린이집 학교 학원 자리잡는게훨 - 씬 힘들다는 것을 깨달았다 ㅎㅎ😅💖..#일하고시퍼요#일이조하#이븐어스❤️', '2021-05-11', 0, '', ['#일하고시퍼요', '#일이조하', '#이븐어스❤️']], ['HBD IN JEJU ❤️.#daily#ootd#wiwt#todaysme#hbd#jeju#trip#travel#shillahotel#fashion#hermes#데일리#일상#소통#여행#힐링#제주#원앤온리#신라호텔#제주맛집#산방산#멋스타그램#맛스타그램#패션#겔랑스파#05102021', '2021-05-11', 0, 'The Shilla Jeju', ['#daily', '#ootd', '#wiwt', '#todaysme', '#hbd', '#jeju', '#trip', '#travel', '#shillahotel', '#fashion', '#hermes', '#데일리', '#일상', '#소통', '#여행', '#힐링', '#제주', '#원앤온리', '#신라호텔', '#제주맛집', '#산방산', '#멋스타그램', '#맛스타그램', '#패션', '#겔랑스파', '#05102021']], ['야밤에 커피 마시기.주문한 스벅원두가 오후 늦게 도착해서내일 맛보려다가 비도 오고 빗소리 들으며 커피 한 잔.조명을 주광색만 쓰다가 집 군데군데를 전구색으로 바꿔줬더니분위기 있고 좋네.#핸드드립#스타벅스원두#제주살이#제주일상#제주도민#맞팔#제주맛집 #한라진칼국수', '2021-05-11', 0, '제주도 애월읍', ['#핸드드립', '#스타벅스원두', '#제주살이', '#제주일상', '#제주도민', '#맞팔', '#제주맛집', '#한라진칼국수']], ['다음에 제주가면 꼭! 다시갈곳 ☺️', '2021-05-11', 0, '하도작은식당', []], ['제주도 여행 계획할 때 숙소 다음으로 예약할 곳이 생겼다! 스시를 먹으면서 감동을 느낀 건 스시조 이후로 처음...🙊신선한 재료와 친절하신 쉐프님. 거기에 맛도 최고🤍 #하찌 #스시오마카세', '2021-05-11', 0, '하찌', ['#하찌', '#스시오마카세']], ['그 넓은 테이블을 꽉 채워서 푸짐함 그 자체!한면을 가득채울 통갈치 비주얼은 진짜..관광지에서 바가지없이 알차게 즐기기에 딱 좋았어요#제주도맛집#색달식당중문본점----#서귀포통갈치조림#제주맛집#서귀포맛집#중문맛집#제주중문맛집#중문맛집색달식당/#제주도여행#제주갈치조림#제주갈치조림맛집', '2021-05-11', 0, 'Seogwipo', ['#제주도맛집', '#색달식당중문본점----', '#서귀포통갈치조림', '#제주맛집', '#서귀포맛집', '#중문맛집', '#제주중문맛집', '#중문맛집색달식당/', '#제주도여행', '#제주갈치조림', '#제주갈치조림맛집']], ['뱃살 재벌되는곳 ㅋㅋ#济州岛 #好吃 #제주도 #먹스타그램 #일상스타그램 #일상 #소통 #follow #traveler #travel #trip #재벌식당 #인생곰탕 #제주맛집', '2021-05-11', 0, '제주 재벌식당', ['#济州岛', '#好吃', '#제주도', '#먹스타그램', '#일상스타그램', '#일상', '#소통', '#follow', '#traveler', '#travel', '#trip', '#재벌식당', '#인생곰탕', '#제주맛집']], ['210428. #제주가족여행 ✈ 셋째날 #항공우주박물관반에반에반도 못보고 온곳그럼에도 신나고 재밌었다는 서우다음에 꼭 다시 가야지!그땐 4시간 일정은 잡고!5D영화가 제일 재밌었다는 서우놀이터도 잘되있고 규모가 어마어마한 박물관!그림카페 정말 가고싶었는데 못감😭#제주도 #힐링여행#제주여행 #효도여행 #가족여행', '2021-05-11', 0, '', ['#제주가족여행', '#항공우주박물관반에반에반도', '#제주도', '#힐링여행', '#제주여행', '#효도여행', '#가족여행']], ['루프탑은 넘 핫해서 내려옴😂...#제주여행#제주호텔#그랜드조선제주#그랜드조선제주수영장#여행스타그램#줌스타그램#소통#좋아요#제주숙소#제주맛집', '2021-05-11', 0, '그랜드조선 제주', ['#제주여행', '#제주호텔', '#그랜드조선제주', '#그랜드조선제주수영장', '#여행스타그램', '#줌스타그램', '#소통', '#좋아요', '#제주숙소', '#제주맛집']], ['오늘 점심은 물회! ~~...#제주맛집#물회맛집#공천포맛집#공천포바다#남원맛집#물회웨이팅#물회대박집추천#제주먹방그램#맛있다#제주살기중#공천포식당', '2021-05-11', 0, '', ['#제주맛집', '#물회맛집', '#공천포맛집', '#공천포바다', '#남원맛집', '#물회웨이팅', '#물회대박집추천', '#제주먹방그램', '#맛있다', '#제주살기중', '#공천포식당']], ['<누가 여행가서 갔던 데를 또 가?>-그사람이 바로 저예요~🤡 믿먹 오드랑♥️ 꼭 꼭 아침에 바로 나온 걸 드시길~무려 반년만에 쓰는 먹스타 피드인데 좀 자연스러웠나요? 전보다 팔로워분들이 떠나셨지만 다시 틈나는대로 올려서 식생활 공유하는 관종 해보겠습니다 다들 행복하세요-아침에 눈뜨면 오드랑에서 마늘빵 사기👉🏻(비닐장갑 필수)👉🏻스벅에서 커피를 사고👉🏻 커피와 만끽하기_#푸딩_제주🍮 #함덕맛집 #제주도맛집 #제주 #제주맛집 #제주빵집 #오드랑베이커리 #마농바게트 #제주도빵집 #1000일 #빵스타그램', '2021-05-11', 0, '제주도 함덕해수욕장', ['#푸딩_제주🍮', '#함덕맛집', '#제주도맛집', '#제주', '#제주맛집', '#제주빵집', '#오드랑베이커리', '#마농바게트', '#제주도빵집', '#1000일', '#빵스타그램']], ['속눈썹 모가 별로 없어도펌 하면 또렷✨벨로디 🅂🄸🄶🄽🄰🅃🅄🅁🄴 펌 𖤐 손상도 ᴅᴏᴡɴ | 수분감 ᴜᴘ 𖤐 〰〰〰〰〰〰〰〰〰〰〰〰〰〰〰〰〰⍤ 글루나 핀셋을 사용하지 않아 큐티클층 손상을 줄여주고 불필요한 자극이나 점막 당김 없이 시술 합니다 .•♥ ⍤ ᴇᴡɢ그린등급 수분밤을 사용해 속눈썹 속에 수분을 가득 채워 큐티클층을 보호 해주는 시술을 합니다 .•♥ 〰〰〰〰〰〰〰〰〰〰〰〰〰〰〰〰〰♡̆̎ 고객님과 상담 후 롯드 선택 ♡̆̎ 콜라겐 아이패치 사용 ♡̆̎ 시술 후 고농축 영양제로 마무리 ♡̆̎ 일회용품 즉각 폐기♡̆̎ 살균기로 시술용품 세척⊳➭ 속눈썹이 처져 눈을 찌르시는 분➭ 〰〰〰〰〰〰〰〰〰〰〰〰〰〰〰〰〰✔️ 𝟷:𝟷 맞춤시술 | 𝟷𝟶𝟶% 예약제 ✔️ 프로필상단에 오픈카카오톡 ᴏʀ ᴅᴍ 문의', '2021-05-11', 0, '', []], ['포니들과 포니테일 🐴🌿', '2021-05-11', 0, 'Jeju Island', []], ['[제주 함덕] 다니쉬여기 빵 너무 맛있잔아아기자기한 소품 인테리어도 너무나 센스있고화장실은 나이트인줄 ㅋ호텔에서 먹을 빵까지 사들고#일상#일상스타그램 #제주여행#제주일상#제주맛집#제주베이커리#함덕맛집#다니쉬#제주다니쉬#함덕다니쉬#맛나요맛나', '2021-05-11', 0, '', ['#일상', '#일상스타그램', '#제주여행', '#제주일상', '#제주맛집', '#제주베이커리', '#함덕맛집', '#다니쉬', '#제주다니쉬', '#함덕다니쉬', '#맛나요맛나']], ['제주 인생밥집⠀⠀⠀⠀⠀⠀⠀⠀⠀⠀⠀⠀⠀⠀⠀⠀⠀🕚 OPEN - 11:00⠀⠀⠀⠀⠀⠀⠀⠀⠀⠀⠀⠀🕕 CLOSED - 17:00⠀⠀⠀⠀⠀⠀⠀⠀⠀⠀⠀⠀⠀⠀⠀⠀⠀브레이크타임 없어요.싱싱한 해물과 신선한 야채로 그날 준비한 재료가 소진되면 조기마감 합니다. ⠀⠀⠀⠀⠀⠀⠀⠀⠀⠀⠀⠀⠀⠀⠀⠀⠀⠀⠀⠀⠀⠀⠀⠀⠀⠀⠀⠀⠀⠀⠀⠀⠀⠀🥣전복해물볶음밥 / 전복물회 / 전복딱새우장 정식⠀⠀⠀⠀⠀⠀⠀⠀⠀⠀⠀⠀⠀⠀⠀⠀⠀사는게니나노 ~ ♬인생밥집문의는 010-6501-5073주소는 제주시 한림읍 문교길6 ..⠀⠀⠀⠀⠀⠀⠀⠀⠀⠀⠀⠀⠀⠀⠀⠀⠀🅿️ 무료 공영 주차장 위치!! .⠀⠀⠀⠀⠀⠀⠀⠀⠀⠀⠀⠀⠀⠀⠀⠀⠀🚗 제주시 한림읍 한림리 1197-4🚘 제주시 한림읍 한림리 1198-3🚙 제주시 한림읍 한림리 943-9.걸어서 2분이내 거리에요~♡♡#제주맛집#제주시맛집#서귀포맛집#한림맛집#협재맛집#애월맛집#금능맛집#성산맛집#월정리맛집#함덕맛집#섭지코지맛집#곽지맛집#곽지과물맛집#세화맛집#제주공항맛집#제주여행#제주도여행#jeju#jejudo', '2021-05-11', 0, '', ['#제주맛집', '#제주시맛집', '#서귀포맛집', '#한림맛집', '#협재맛집', '#애월맛집', '#금능맛집', '#성산맛집', '#월정리맛집', '#함덕맛집', '#섭지코지맛집', '#곽지맛집', '#곽지과물맛집', '#세화맛집', '#제주공항맛집', '#제주여행', '#제주도여행', '#jeju', '#jejudo']], ['#제주#제주맛집', '2021-05-11', 0, 'Jeju Island, South Korea - 제주도', ['#제주', '#제주맛집']], ['𝕀𝕟 𝕛𝕖𝕛𝕦 ♡︎', '2021-05-11', 0, '뷰스트 Viewst', []], ['#별비치가든 #네이버예약 #출시 오늘은 🌧 으로 하루 쉬겠습니다.#제주맛집 #서귀포맛집 #표선맛집 #해비치 #해비치호텔 #해비치리조트 #해비치호텔앤드리조트 #프렌치 #프렌치레스토랑 #양식 #코스요리 #프로포즈 #신혼여행 #제주신혼여행 #제주신행 #신행 #milieu #99바 #bar99 #칵테일 #분위기깡패 #제주가볼만한곳', '2021-05-11', 0, '해비치호텔&리조트 - Haevichi hotel & resort', ['#별비치가든', '#네이버예약', '#출시', '#제주맛집', '#서귀포맛집', '#표선맛집', '#해비치', '#해비치호텔', '#해비치리조트', '#해비치호텔앤드리조트', '#프렌치', '#프렌치레스토랑', '#양식', '#코스요리', '#프로포즈', '#신혼여행', '#제주신혼여행', '#제주신행', '#신행', '#milieu', '#99바', '#bar99', '#칵테일', '#분위기깡패', '#제주가볼만한곳']], ['비바람엔 국물👍날씨 좋은날 야외테이블에서 먹으러 다시 가자!!!!아마 베트남음식점 중 뷰 1등일텐데 날씨가 안좋아 야외테이블은 구경도 못했어요😭...#새별하노이 #제주도 #제주댁 #제주도민 #제주일상 #제주살이 #제주생활 #제주부부 #제주라이프 #제주사는즐거움 #제주여행 #제주맛집 #제주서쪽 #새별오름 #새별오름맛집 #평화로맛집 #애월맛집 #봉성맛집 #베트남음식점 #쌀국수맛집 #베트남음식 #똠양꿍쌀국수 #분짜 #월남쌈 #제주도가볼만한곳', '2021-05-11', 0, '새별하노이', ['#새별하노이', '#제주도', '#제주댁', '#제주도민', '#제주일상', '#제주살이', '#제주생활', '#제주부부', '#제주라이프', '#제주사는즐거움', '#제주여행', '#제주맛집', '#제주서쪽', '#새별오름', '#새별오름맛집', '#평화로맛집', '#애월맛집', '#봉성맛집', '#베트남음식점', '#쌀국수맛집', '#베트남음식', '#똠양꿍쌀국수', '#분짜', '#월남쌈', '#제주도가볼만한곳']], ['💛', '2021-05-11', 0, '금악오름', []], ['2년만에 또 오신 재고객뉨 ♥️.♥️✨100% 예약제, 𝟙:𝟙 𝕡𝕣𝕚𝕧𝕒𝕥𝕖 시술✨개개인 얼굴형, 눈매에 맞는 맞춤형 디자인 시술✨철저한 위생관리. 일회용제품 사용 후 폐기✨안정성 인증받은 자가번호획득 색소사용반영구 시술 추천 ᴘɪᴄᴋ▫️눈썹 비대칭이 심하신분▫️눈썹이 매일매일 다르게 그려지는분▫️쌩얼미인이 되고싶은분▫️출근 전 아침잠을 좀 더 자고싶은 분▫️화장이 잘 지워지는분반영구 시술 전 🗣▪️ 최대한 대칭을 맞춰 시술 해드리지만,  평소에 자주 쓰는 근육이나 얼굴 골격에 따라  100% 맞추기는 힘들어요. 한치의 오차도 용납할수 없다 ! 는 분들은 권하지않습니다 ▪️시술 중에는 시술받는 고객님께 집중하기위해전화나 카톡을 보지못해요 ! 끝나자마자 연락드릴테니, 답이 조금 느리더라도 기다려주세요 ❦ ▪️ 예약은 고객님과 저의 약속입니다.감사하게도 잘 지켜주시는 고객님들이 대부분이지만 당연한듯 노쇼, 당일취소 하시는 분들은 🙅🏻\\u200d♀️', '2021-05-11', 0, '윤네일&김뷰티', []], ['2021.05.11우럭조림★★★★★코다리탕(미쳤),계란찜,톳밥★★★★★혜자구성#제주몰래물밥상 #몰래물밥상 #우럭조림 #코다리조림 #낙지볶음 #도두봉 #도두해안도로 #제주공항 #제주공항맛집 #제주공항근처맛집 #제주 #제주도 #제주맛집 #제주시맛집 #찐맛집', '2021-05-11', 0, 'Jeju', ['#제주몰래물밥상', '#몰래물밥상', '#우럭조림', '#코다리조림', '#낙지볶음', '#도두봉', '#도두해안도로', '#제주공항', '#제주공항맛집', '#제주공항근처맛집', '#제주', '#제주도', '#제주맛집', '#제주시맛집', '#찐맛집']]]\n",
      "500\n"
     ]
    }
   ],
   "source": [
    "\n",
    "\n",
    "target = 500     \n",
    "for i in range(target):\n",
    "    print(i)\n",
    "    data = get_content_before(driver)    \n",
    "    results3.append(data)\n",
    "    move_next(driver)\n",
    "print(results3)\n",
    "print(len(results3))"
   ]
  },
  {
   "cell_type": "code",
   "execution_count": 133,
   "metadata": {},
   "outputs": [
    {
     "output_type": "stream",
     "name": "stdout",
     "text": [
      "500\n500\n500\n500\n"
     ]
    }
   ],
   "source": [
    "# result: 제주관광\n",
    "# result1: 제주여행\n",
    "# result2: 제주도맛집\n",
    "# result3: 제주맛집\n",
    "\n",
    "print(len(results))\n",
    "print(len(results1))\n",
    "print(len(results2))\n",
    "print(len(results3))"
   ]
  },
  {
   "cell_type": "code",
   "execution_count": 135,
   "metadata": {},
   "outputs": [],
   "source": [
    "import pandas as pd\n",
    "\n",
    "#-------------------------\n",
    "results_df = pd.DataFrame(results3)\n",
    "results_df.columns = ['content','data','like','place','tags']\n",
    "results_df.to_excel('./files/1_crawling_jejuMatJip.xlsx')\n",
    "\n",
    "##############\n"
   ]
  },
  {
   "cell_type": "code",
   "execution_count": 141,
   "metadata": {},
   "outputs": [
    {
     "output_type": "stream",
     "name": "stdout",
     "text": [
      "./files/1_crawling_jejudoGwanGwang.xlsx\n./files/1_crawling_jejudoMatJip.xlsx\n./files/1_crawling_jejuMatJip.xlsx\n./files/1_crawling_jejuYeoHang.xlsx\nIndex(['content', 'data', 'like', 'place', 'tags'], dtype='object')\n"
     ]
    }
   ],
   "source": [
    "jeju_insta_df = pd.DataFrame( [ ] )\n",
    "\n",
    "folder = './files/'\n",
    "f_list = ['1_crawling_jejudoGwanGwang.xlsx', '1_crawling_jejudoMatJip.xlsx', '1_crawling_jejuMatJip.xlsx', '1_crawling_jejuYeoHang.xlsx']\n",
    "for fname in f_list:\n",
    "    fpath = folder + fname\n",
    "    print(fpath)\n",
    "    temp = pd.read_excel(fpath)\n",
    "    jeju_insta_df = jeju_insta_df.append(temp)\n",
    "\n",
    "print(jeju_insta_df.columns)\n",
    "jeju_insta_df.columns =['content','data','like','place','tags']\n",
    "\n",
    "jeju_insta_df.drop_duplicates(subset = [ \"content\"] , inplace = True)\n",
    "jeju_insta_df.to_excel('./files/1_crawling_raw.xlsx', index = False)"
   ]
  }
 ]
}