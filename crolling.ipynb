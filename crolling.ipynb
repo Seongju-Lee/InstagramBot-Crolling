{
 "metadata": {
  "language_info": {
   "codemirror_mode": {
    "name": "ipython",
    "version": 3
   },
   "file_extension": ".py",
   "mimetype": "text/x-python",
   "name": "python",
   "nbconvert_exporter": "python",
   "pygments_lexer": "ipython3",
   "version": "3.6.4"
  },
  "orig_nbformat": 2,
  "kernelspec": {
   "name": "python364jvsc74a57bd0bd7f98a86e31bd961d084db4d5ffc682d91a41ca1cbb569e798decea5fdae0ba",
   "display_name": "Python 3.6.4 64-bit ('eunhaengdong': virtualenv)"
  },
  "metadata": {
   "interpreter": {
    "hash": "5e8274657cc6e213aa501dbf3b19575a0cd02f8a5f94262b218f70147ad917b3"
   }
  }
 },
 "nbformat": 4,
 "nbformat_minor": 2,
 "cells": [
  {
   "cell_type": "code",
   "execution_count": 1,
   "metadata": {},
   "outputs": [],
   "source": [
    "# selenium 임포트\n",
    "\n",
    "from selenium import webdriver"
   ]
  },
  {
   "cell_type": "code",
   "execution_count": 4,
   "metadata": {},
   "outputs": [],
   "source": [
    "driver = webdriver.Chrome(\"./chromedriver89.exe\")\n",
    "driver.implicitly_wait(200)\n",
    "url = 'https://www.youtube.com/watch?v=waRLFDHPGew&list=PL4fGSI1pDJn6jXS_Tv_N9B8Z0HTRVJE0m&index=1'\n",
    "driver.get(url)"
   ]
  },
  {
   "cell_type": "code",
   "execution_count": 36,
   "metadata": {},
   "outputs": [
    {
     "output_type": "stream",
     "name": "stdout",
     "text": [
      "1위: 제목-> [ENG SUB] [놀면 뭐하니? 후공개] SG 워너비 - '내 사람' 풀영상 (Hangout with Yoo - MSG Wannabe YooYaHo)\n      가수-> 놀면 뭐하니?\n2위: 제목-> [ENG SUB] [놀면 뭐하니? 후공개] SG워너비 - '살다가' 풀영상 (Hangout with Yoo - MSG Wannabe YooYaHo)\n      가수-> 놀면 뭐하니?\n3위: 제목-> 롤린 (Rollin')\n      가수-> 브레이브걸스 - Topic\n4위: 제목-> Peaches\n      가수-> Justin Bieber\n5위: 제목-> LILAC (라일락)\n      가수-> 이지금 [IU Official]\n6위: 제목-> We Ride (운전만해 (We Ride))\n      가수-> 브레이브걸스 - Topic\n7위: 제목-> Dynamite\n      가수-> BANGTANTV\n8위: 제목-> My Starry Love (별빛 같은 나의 사랑아)\n      가수-> 임영웅\n9위: 제목-> Celebrity (Celebrity)\n      가수-> 이지금 [IU Official]\n10위: 제목-> 사이렌\n      가수-> Homies - Topic\n11위: 제목-> ASAP (ASAP)\n      가수-> STAYC\n12위: 제목-> Coin (Coin)\n      가수-> 이지금 [IU Official]\n13위: 제목-> LOVE DAY (2021) (Romance 101 X Yang Yoseop, Jeong Eun Ji) (LOVE DAY (2021) (바른연애...\n      가수-> Yang Yoseop - Topic\n14위: 제목-> Lovesick Girls\n      가수-> BLACKPINK\n15위: 제목-> On The Ground\n      가수-> ROSÉ - Topic\n16위: 제목-> MELODY\n      가수-> ASH ISLAND - Topic\n17위: 제목-> [ENG] [고등래퍼4/8회 풀버전] Cold (Feat. 수퍼비) (Prod. Way Ched) - 김우림 @세미파이널 full ver.\n      가수-> Mnet Official\n18위: 제목-> Leave The Door Open\n      가수-> Bruno Mars\n19위: 제목-> Panorama\n      가수-> official IZ*ONE\n20위: 제목-> Ah puh (어푸 (Ah puh))\n      가수-> 이지금 [IU Official]\n21위: 제목-> Atlantis\n      가수-> SHINee\n22위: 제목-> Just hug me\n      가수-> 다비치 DAVICHI\n23위: 제목-> My sea (아이와 나의 바다)\n      가수-> 이지금 [IU Official]\n24위: 제목-> 하이힐\n      가수-> 브레이브걸스 - Topic\n25위: 제목-> Kiss Me More\n      가수-> Doja Cat\n26위: 제목-> Timeless\n      가수-> SG Wannabe - Topic\n27위: 제목-> TAIL (꼬리 (TAIL))\n      가수-> 선미\n28위: 제목-> [MV] OH MY GIRL(오마이걸) _ Nonstop(살짝 설렜어)\n      가수-> 1theK (원더케이)\n29위: 제목-> Why Not? (Why Not?)\n      가수-> loonatheworld\n30위: 제목-> How You Like That\n      가수-> BLACKPINK\n31위: 제목-> Epilogue (에필로그)\n      가수-> 이지금 [IU Official]\n32위: 제목-> eight (Prod. & Feat. SUGA of BTS) (에잇(Prod. & Feat. SUGA of BTS))\n      가수-> 이지금 [IU Official]\n33위: 제목-> Black Mamba\n      가수-> aespa\n34위: 제목-> Gone\n      가수-> ROSÉ - Topic\n35위: 제목-> Don't Call Me\n      가수-> SHINee\n36위: 제목-> water color (water color)\n      가수-> Whee In - Topic\n37위: 제목-> I CAN'T STOP ME\n      가수-> TWICE\n38위: 제목-> Ashes\n      가수-> Stellar\n39위: 제목-> Burn the House Down\n      가수-> AJR\n40위: 제목-> Hi spring Bye (봄 안녕 봄)\n      가수-> 이지금 [IU Official]\n41위: 제목-> Antidote\n      가수-> Kang Daniel - Topic\n42위: 제목-> 상상더하기\n      가수-> LABOUM - Topic\n43위: 제목-> At My Worst\n      가수-> Pink Sweats\n44위: 제목-> UNNATURAL (UNNATURAL)\n      가수-> 우주소녀 WJSN\n45위: 제목-> Slightly Tipsy (She is My Type♡ X SANDEUL) (취기를 빌려 (취향저격 그녀 X 산들))\n      가수-> Sandeul - Topic\n46위: 제목-> Everything Black (feat. Mike Taylor)\n      가수-> Unlike Pluto\n47위: 제목-> can't sleep (잠이 오질 않네요)\n      가수-> 장범준\n48위: 제목-> Flu (Flu)\n      가수-> 이지금 [IU Official]\n49위: 제목-> You make Me\n      가수-> DAY6\n50위: 제목-> 붐바야 (Boombayah)\n      가수-> BLACKPINK\n51위: 제목-> Up\n      가수-> Cardi B\n52위: 제목-> 라라라 메달\n      가수-> SG Wannabe - Topic\n53위: 제목-> 어떤X (What Type of X)\n      가수-> Jessi\n54위: 제목-> INSIDE OUT\n      가수-> NU'EST\n55위: 제목-> Daisy (feat. pH-1)\n      가수-> Mirani - Topic\n56위: 제목-> I will be your shining star (밝게 빛나는 별이 되어 비춰줄게)\n      가수-> Song I Han - Topic\n57위: 제목-> VVS (Feat. JUSTHIS) (Prod. GroovyRoom)\n      가수-> Miranni - Topic\n58위: 제목-> After School (After School)\n      가수-> Weeekly - Topic\n59위: 제목-> Coffee With Me (커피한잔할래요)\n      가수-> 폴킴 - Paul Kim Official\n60위: 제목-> Happy Face\n      가수-> Jagwar Twin\n61위: 제목-> Levitating (feat. DaBaby)\n      가수-> Dua Lipa\n62위: 제목-> 이렇게 좋아해 본 적이 없어요\n      가수-> 치즈 / CHEEZE\n63위: 제목-> MAGO\n      가수-> 여자친구 GFRIEND OFFICIAL\n64위: 제목-> HWAA (화(火花))\n      가수-> (G)I-DLE (여자)아이들 (Official YouTube Channel)\n65위: 제목-> Troll (Feat. DEAN) (돌림노래 (Feat. DEAN))\n      가수-> 이지금 [IU Official]\n66위: 제목-> I’m Not Cool\n      가수-> HyunA\n67위: 제목-> View\n      가수-> SHINee\n68위: 제목-> On That Day (그날에 나는 맘이 편했을까)\n      가수-> Lee Ye Joon - Topic\n69위: 제목-> John Cena (feat. Northfacegawd, JUSTHIS, Layone)\n      가수-> 염따\n70위: 제목-> Bambi\n      가수-> BAEKHYUN - Topic\n71위: 제목-> I Still Love You (추억은 만남보다 이별에 남아)\n      가수-> Jung Dong Ha - Topic\n72위: 제목-> In Dreams (너의 흔적)\n      가수-> M.C the MAX Official\n73위: 제목-> Mood\n      가수-> 24kGoldn\n74위: 제목-> Follow Me (Prod. by Young Tak) (따라따라와 (Prod. by 영탁))\n      가수-> Kim Hee Jae - Topic\n75위: 제목-> pov\n      가수-> Ariana Grande\n76위: 제목-> Like Water\n      가수-> WENDY - Topic\n77위: 제목-> 임영웅 [자랑] 뽕숭아학당 (ENG)\n      가수-> 임영웅\n78위: 제목-> Borrow your night (Romance 101 X 10CM) (이 밤을 빌려 말해요 (바른연애 길잡이 X...\n      가수-> 10CM_Official\n79위: 제목-> 07 Britney\n      가수-> Chelsea Collins\n80위: 제목-> 한잔해\n      가수-> 박군 - Topic\n81위: 제목-> Killer\n      가수-> Valerie Broussard\n82위: 제목-> Sequence\n      가수-> official IZ*ONE\n83위: 제목-> Film out\n      가수-> BANGTANTV\n84위: 제목-> 축가 Serenade\n      가수-> Jeon Woo Sung - Topic\n85위: 제목-> STEP BY STEP\n      가수-> OH MY GIRL\n86위: 제목-> Savage Love (Laxed - Siren Beat)\n      가수-> Jawsh 685 [ L A S ]\n87위: 제목-> Racks On Racks (사임쌓임)\n      가수-> SUPERBEE - Topic\n88위: 제목-> Dial Your Number\n      가수-> #An Nyeong - Topic\n89위: 제목-> 예뻤어 You Were Beautiful\n      가수-> DAY6\n90위: 제목-> PARTY\n      가수-> GIRLS' GENERATION\n91위: 제목-> Warning (Feat. lIlBOI) (Warning (Feat. lIlBOI))\n      가수-> SEJEONG - Topic\n92위: 제목-> Bicycle\n      가수-> CHUNG HA_Official\n93위: 제목-> Every End of the Day (하루 끝)\n      가수-> 이지금 [IU Official]\n94위: 제목-> 어른 Grown Ups\n      가수-> Sondia - Topic\n95위: 제목-> Sailing\n      가수-> AHN YE EUN - Topic\n96위: 제목-> Hold On\n      가수-> Justin Bieber\n97위: 제목-> Beautiful Mistakes\n      가수-> Maroon 5\n98위: 제목-> We Were (Prod. by Lee Chanhyuk of AKMU) (우린 (Prod. by 이찬혁 of AKMU))\n      가수-> Lee Seung-chul - Topic\n99위: 제목-> 너 때문에 미쳐\n      가수-> ONE LOVE ASIA\n100위: 제목-> dlwlrma (이 지금)\n      가수-> 이지금 [IU Official]\n"
     ]
    }
   ],
   "source": [
    "from bs4 import BeautifulSoup\n",
    "from selenium import webdriver\n",
    "\n",
    "options = webdriver.ChromeOptions()\n",
    "options.add_experimental_option('excludeSwitches', ['enable-logging'])\n",
    "# 드라이버 bluetooth 자동종료 제거 option\n",
    "driver = webdriver.Chrome(\"./chromedriver89.exe\", options = options)\n",
    "driver.implicitly_wait(200)\n",
    "\n",
    "\n",
    "def youtube_croll(url):\n",
    "\n",
    "    driver.get(url)\n",
    "    # driver 통해 받아온 소스 html 변수에 저장\n",
    "    html = driver.page_source\n",
    "    # bs통해 parse\n",
    "    soup = BeautifulSoup(html, 'html.parser')\n",
    "\n",
    "    # 가수 뽑아오는 태그\n",
    "    songs = soup.select('#video-title')  \n",
    "    # 등록자 뽑아오는 태그\n",
    "    author = soup.select('div > #byline')  \n",
    "\n",
    "    for i in range(len(songs)):\n",
    "        print(str(i + 1) + \"위: 제목-> \" + songs[i].getText().strip())\n",
    "        print(\"      가수-> \" + author[i].getText())\n",
    "\n",
    "# youtube url\n",
    "url = 'https://www.youtube.com/watch?v=waRLFDHPGew&list=PL4fGSI1pDJn6jXS_Tv_N9B8Z0HTRVJE0m&index=1'\n",
    "youtube_croll(url)"
   ]
  },
  {
   "cell_type": "code",
   "execution_count": 5,
   "metadata": {
    "tags": [
     "outputPrepend"
    ]
   },
   "outputs": [
    {
     "output_type": "stream",
     "name": "stdout",
     "text": [
      "KHcuRB1Q=\",\"commandMetadata\":{\"webCommandMetadata\":{\"url\":\"https://tv.youtube.com/?utm_source=youtube_web\\u0026utm_medium=ep\\u0026utm_campaign=home\\u0026ve=34273\",\"webPageType\":\"WEB_PAGE_TYPE_UNKNOWN\",\"rootVe\":83769}},\"urlEndpoint\":{\"url\":\"https://tv.youtube.com/?utm_source=youtube_web\\u0026utm_medium=ep\\u0026utm_campaign=home\\u0026ve=34273\",\"target\":\"TARGET_NEW_WINDOW\"}},\"trackingParams\":\"CBYQ4MUCGAAiEwiwsePypqrwAhVKUoUKHcuRB1Q=\"}}],\"trackingParams\":\"CBUQ968BGAAiEwiwsePypqrwAhVKUoUKHcuRB1Q=\"}},{\"multiPageMenuSectionRenderer\":{\"items\":[{\"compactLinkRenderer\":{\"icon\":{\"iconType\":\"YOUTUBE_MUSIC\"},\"title\":{\"runs\":[{\"text\":\"YouTube Music\"}]},\"navigationEndpoint\":{\"clickTrackingParams\":\"CBQQ4sUCGAAiEwiwsePypqrwAhVKUoUKHcuRB1Q=\",\"commandMetadata\":{\"webCommandMetadata\":{\"url\":\"https://music.youtube.com/\",\"webPageType\":\"WEB_PAGE_TYPE_UNKNOWN\",\"rootVe\":83769}},\"urlEndpoint\":{\"url\":\"https://music.youtube.com\",\"target\":\"TARGET_NEW_WINDOW\"}},\"trackingParams\":\"CBQQ4sUCGAAiEwiwsePypqrwAhVKUoUKHcuRB1Q=\"}},{\"compactLinkRenderer\":{\"icon\":{\"iconType\":\"YOUTUBE_KIDS_ROUND\"},\"title\":{\"runs\":[{\"text\":\"YouTube Kids\"}]},\"navigationEndpoint\":{\"clickTrackingParams\":\"CBMQ48UCGAEiEwiwsePypqrwAhVKUoUKHcuRB1Q=\",\"commandMetadata\":{\"webCommandMetadata\":{\"url\":\"https://www.youtubekids.com/?source=youtube_web\",\"webPageType\":\"WEB_PAGE_TYPE_UNKNOWN\",\"rootVe\":83769}},\"urlEndpoint\":{\"url\":\"https://www.youtubekids.com?source=youtube_web\",\"target\":\"TARGET_NEW_WINDOW\"}},\"trackingParams\":\"CBMQ48UCGAEiEwiwsePypqrwAhVKUoUKHcuRB1Q=\"}}],\"trackingParams\":\"CBIQ968BGAEiEwiwsePypqrwAhVKUoUKHcuRB1Q=\"}},{\"multiPageMenuSectionRenderer\":{\"items\":[{\"compactLinkRenderer\":{\"icon\":{\"iconType\":\"YOUTUBE_ROUND\"},\"title\":{\"runs\":[{\"text\":\"크리에이터 아카데미\"}]},\"navigationEndpoint\":{\"clickTrackingParams\":\"CBEQ5MUCGAAiEwiwsePypqrwAhVKUoUKHcuRB1Q=\",\"commandMetadata\":{\"webCommandMetadata\":{\"url\":\"https://creatoracademy.youtube.com/page/education?utm_source=YouTube\\u0026utm_medium=YT%20Main\\u0026utm_campaign=YT%20Appsn\",\"webPageType\":\"WEB_PAGE_TYPE_UNKNOWN\",\"rootVe\":83769}},\"urlEndpoint\":{\"url\":\"https://creatoracademy.youtube.com/page/education?utm_source=YouTube\\u0026utm_medium=YT%20Main\\u0026utm_campaign=YT%20Appsn\",\"target\":\"TARGET_NEW_WINDOW\"}},\"trackingParams\":\"CBEQ5MUCGAAiEwiwsePypqrwAhVKUoUKHcuRB1Q=\"}},{\"compactLinkRenderer\":{\"icon\":{\"iconType\":\"YOUTUBE_ROUND\"},\"title\":{\"runs\":[{\"text\":\"YouTube for Artists\"}]},\"navigationEndpoint\":{\"clickTrackingParams\":\"CBAQ5cUCGAEiEwiwsePypqrwAhVKUoUKHcuRB1Q=\",\"commandMetadata\":{\"webCommandMetadata\":{\"url\":\"https://artists.youtube.com/\",\"webPageType\":\"WEB_PAGE_TYPE_UNKNOWN\",\"rootVe\":83769}},\"urlEndpoint\":{\"url\":\"https://artists.youtube.com/\",\"target\":\"TARGET_NEW_WINDOW\"}},\"trackingParams\":\"CBAQ5cUCGAEiEwiwsePypqrwAhVKUoUKHcuRB1Q=\"}}],\"trackingParams\":\"CA8Q968BGAIiEwiwsePypqrwAhVKUoUKHcuRB1Q=\"}}],\"trackingParams\":\"CA4Q_6sBIhMIsLHj8qaq8AIVSlKFCh3LkQdU\"}},\"trackingParams\":\"CA0Q_qsBGAAiEwiwsePypqrwAhVKUoUKHcuRB1Q=\",\"accessibility\":{\"accessibilityData\":{\"label\":\"YouTube 앱\"}},\"tooltip\":\"YouTube 앱\",\"style\":\"STYLE_DEFAULT\",\"targetId\":\"topbar-apps\"}},{\"topbarMenuButtonRenderer\":{\"icon\":{\"iconType\":\"MORE_VERT\"},\"menuRequest\":{\"clickTrackingParams\":\"CAsQ_qsBGAEiEwiwsePypqrwAhVKUoUKHcuRB1Q=\",\"commandMetadata\":{\"webCommandMetadata\":{\"sendPost\":true,\"apiUrl\":\"/youtubei/v1/account/account_menu\"}},\"signalServiceEndpoint\":{\"signal\":\"GET_ACCOUNT_MENU\",\"actions\":[{\"clickTrackingParams\":\"CAsQ_qsBGAEiEwiwsePypqrwAhVKUoUKHcuRB1Q=\",\"openPopupAction\":{\"popup\":{\"multiPageMenuRenderer\":{\"trackingParams\":\"CAwQ_6sBIhMIsLHj8qaq8AIVSlKFCh3LkQdU\",\"style\":\"MULTI_PAGE_MENU_STYLE_TYPE_SYSTEM\",\"showLoadingSpinner\":true}},\"popupType\":\"DROPDOWN\",\"beReused\":true}}]}},\"trackingParams\":\"CAsQ_qsBGAEiEwiwsePypqrwAhVKUoUKHcuRB1Q=\",\"accessibility\":{\"accessibilityData\":{\"label\":\"설정\"}},\"tooltip\":\"설정\",\"style\":\"STYLE_DEFAULT\"}},{\"buttonRenderer\":{\"style\":\"STYLE_SUGGESTIVE\",\"size\":\"SIZE_SMALL\",\"text\":{\"runs\":[{\"text\":\"로그인\"}]},\"icon\":{\"iconType\":\"AVATAR_LOGGED_OUT\"},\"navigationEndpoint\":{\"clickTrackingParams\":\"CAoQ1IAEGAIiEwiwsePypqrwAhVKUoUKHcuRB1Q=\",\"commandMetadata\":{\"webCommandMetadata\":{\"url\":\"https://accounts.google.com/ServiceLogin?service=youtube\\u0026uilel=3\\u0026passive=true\\u0026continue=https%3A%2F%2Fwww.youtube.com%2Fsignin%3Faction_handle_signin%3Dtrue%26app%3Ddesktop%26hl%3Dko%26next%3Dhttps%253A%252F%252Fwww.youtube.com%252Fwatch%253Fv%253DwaRLFDHPGew%2526list%253DPL4fGSI1pDJn6jXS_Tv_N9B8Z0HTRVJE0m%2526index%253D1\\u0026hl=ko\\u0026ec=65620\",\"webPageType\":\"WEB_PAGE_TYPE_UNKNOWN\",\"rootVe\":83769}},\"signInEndpoint\":{\"idamTag\":\"65620\"}},\"trackingParams\":\"CAoQ1IAEGAIiEwiwsePypqrwAhVKUoUKHcuRB1Q=\",\"targetId\":\"topbar-signin\"}}],\"hotkeyDialog\":{\"hotkeyDialogRenderer\":{\"title\":{\"runs\":[{\"text\":\"단축키\"}]},\"sections\":[{\"hotkeyDialogSectionRenderer\":{\"title\":{\"runs\":[{\"text\":\"재생\"}]},\"options\":[{\"hotkeyDialogSectionOptionRenderer\":{\"label\":{\"runs\":[{\"text\":\"재생/일시중지 전환\"}]},\"hotkey\":\"k\"}},{\"hotkeyDialogSectionOptionRenderer\":{\"label\":{\"runs\":[{\"text\":\"10초 되감기\"}]},\"hotkey\":\"j\"}},{\"hotkeyDialogSectionOptionRenderer\":{\"label\":{\"runs\":[{\"text\":\"10초 앞으로 건너뛰기\"}]},\"hotkey\":\"l\"}},{\"hotkeyDialogSectionOptionRenderer\":{\"label\":{\"runs\":[{\"text\":\"이전 동영상\"}]},\"hotkey\":\"P(SHIFT+p)\"}},{\"hotkeyDialogSectionOptionRenderer\":{\"label\":{\"runs\":[{\"text\":\"다음 동영상\"}]},\"hotkey\":\"N(SHIFT+n)\"}},{\"hotkeyDialogSectionOptionRenderer\":{\"label\":{\"runs\":[{\"text\":\"이전 프레임(일시중지 상태)\"}]},\"hotkey\":\",\",\"hotkeyAccessibilityLabel\":{\"accessibilityData\":{\"label\":\"쉼표\"}}}},{\"hotkeyDialogSectionOptionRenderer\":{\"label\":{\"runs\":[{\"text\":\"다음 프레임(일시중지 상태)\"}]},\"hotkey\":\".\",\"hotkeyAccessibilityLabel\":{\"accessibilityData\":{\"label\":\"기간\"}}}},{\"hotkeyDialogSectionOptionRenderer\":{\"label\":{\"runs\":[{\"text\":\"재생 속도 느리게\"}]},\"hotkey\":\"\\u003c (SHIFT+,)\",\"hotkeyAccessibilityLabel\":{\"accessibilityData\":{\"label\":\"왼쪽 부등호 또는 SHIFT + 쉼표\"}}}},{\"hotkeyDialogSectionOptionRenderer\":{\"label\":{\"runs\":[{\"text\":\"재생 속도 빠르게\"}]},\"hotkey\":\"\\u003e (SHIFT+.)\",\"hotkeyAccessibilityLabel\":{\"accessibilityData\":{\"label\":\"오른쪽 부등호 또는 SHIFT + 마침표\"}}}},{\"hotkeyDialogSectionOptionRenderer\":{\"label\":{\"runs\":[{\"text\":\"동영상의 특정 지점 탐색(7을 누르면 재생 시간의 70% 지점으로 이동)\"}]},\"hotkey\":\"0..9\"}}]}},{\"hotkeyDialogSectionRenderer\":{\"title\":{\"runs\":[{\"text\":\"일반\"}]},\"options\":[{\"hotkeyDialogSectionOptionRenderer\":{\"label\":{\"runs\":[{\"text\":\"전체화면 전환\"}]},\"hotkey\":\"f\"}},{\"hotkeyDialogSectionOptionRenderer\":{\"label\":{\"runs\":[{\"text\":\"영화관 모드 전환\"}]},\"hotkey\":\"t\"}},{\"hotkeyDialogSectionOptionRenderer\":{\"label\":{\"runs\":[{\"text\":\"소형 플레이어 전환\"}]},\"hotkey\":\"i\"}},{\"hotkeyDialogSectionOptionRenderer\":{\"label\":{\"runs\":[{\"text\":\"소형 플레이어 또는 현재 대화상자 닫기\"}]},\"hotkey\":\"Esc\"}},{\"hotkeyDialogSectionOptionRenderer\":{\"label\":{\"runs\":[{\"text\":\"음소거 전환\"}]},\"hotkey\":\"m\"}}]}},{\"hotkeyDialogSectionRenderer\":{\"title\":{\"runs\":[{\"text\":\"자막\"}]},\"options\":[{\"hotkeyDialogSectionOptionRenderer\":{\"label\":{\"runs\":[{\"text\":\"동영상이 자막을 지원하는 경우 자막 사용/사용 중지 전환\"}]},\"hotkey\":\"c\"}},{\"hotkeyDialogSectionOptionRenderer\":{\"label\":{\"runs\":[{\"text\":\"텍스트 불투명도 수준 조정\"}]},\"hotkey\":\"o\"}},{\"hotkeyDialogSectionOptionRenderer\":{\"label\":{\"runs\":[{\"text\":\"창 불투명도 수준 조정\"}]},\"hotkey\":\"w\"}},{\"hotkeyDialogSectionOptionRenderer\":{\"label\":{\"runs\":[{\"text\":\"글꼴 크기 늘리기\"}]},\"hotkey\":\"+\"}},{\"hotkeyDialogSectionOptionRenderer\":{\"label\":{\"runs\":[{\"text\":\"글꼴 크기 줄이기\"}]},\"hotkey\":\"-\",\"hotkeyAccessibilityLabel\":{\"accessibilityData\":{\"label\":\"빼기\"}}}}]}},{\"hotkeyDialogSectionRenderer\":{\"title\":{\"runs\":[{\"text\":\"360도 동영상\"}]},\"options\":[{\"hotkeyDialogSectionOptionRenderer\":{\"label\":{\"runs\":[{\"text\":\"위로 이동\"}]},\"hotkey\":\"w\"}},{\"hotkeyDialogSectionOptionRenderer\":{\"label\":{\"runs\":[{\"text\":\"왼쪽으로 이동\"}]},\"hotkey\":\"a\"}},{\"hotkeyDialogSectionOptionRenderer\":{\"label\":{\"runs\":[{\"text\":\"아래로 이동\"}]},\"hotkey\":\"s\"}},{\"hotkeyDialogSectionOptionRenderer\":{\"label\":{\"runs\":[{\"text\":\"오른쪽으로 이동\"}]},\"hotkey\":\"d\"}},{\"hotkeyDialogSectionOptionRenderer\":{\"label\":{\"runs\":[{\"text\":\"확대\"}]},\"hotkey\":\"숫자 패드의 + 또는 ]\",\"hotkeyAccessibilityLabel\":{\"accessibilityData\":{\"label\":\"숫자 패드의 더하기 또는 오른쪽 대괄호\"}}}},{\"hotkeyDialogSectionOptionRenderer\":{\"label\":{\"runs\":[{\"text\":\"축소\"}]},\"hotkey\":\"숫자 패드의 - 또는 [\",\"hotkeyAccessibilityLabel\":{\"accessibilityData\":{\"label\":\"숫자 패드의 빼기 또는 왼쪽 대괄호\"}}}}]}}],\"dismissButton\":{\"buttonRenderer\":{\"style\":\"STYLE_BLUE_TEXT\",\"size\":\"SIZE_DEFAULT\",\"isDisabled\":false,\"text\":{\"runs\":[{\"text\":\"닫기\"}]},\"trackingParams\":\"CAkQ8FsiEwiwsePypqrwAhVKUoUKHcuRB1Q=\"}},\"trackingParams\":\"CAgQteYDIhMIsLHj8qaq8AIVSlKFCh3LkQdU\"}},\"backButton\":{\"buttonRenderer\":{\"trackingParams\":\"CAcQvIYDIhMIsLHj8qaq8AIVSlKFCh3LkQdU\",\"command\":{\"clickTrackingParams\":\"CAcQvIYDIhMIsLHj8qaq8AIVSlKFCh3LkQdU\",\"commandMetadata\":{\"webCommandMetadata\":{\"sendPost\":true}},\"signalServiceEndpoint\":{\"signal\":\"CLIENT_SIGNAL\",\"actions\":[{\"clickTrackingParams\":\"CAcQvIYDIhMIsLHj8qaq8AIVSlKFCh3LkQdU\",\"signalAction\":{\"signal\":\"HISTORY_BACK\"}}]}}}},\"forwardButton\":{\"buttonRenderer\":{\"trackingParams\":\"CAYQvYYDIhMIsLHj8qaq8AIVSlKFCh3LkQdU\",\"command\":{\"clickTrackingParams\":\"CAYQvYYDIhMIsLHj8qaq8AIVSlKFCh3LkQdU\",\"commandMetadata\":{\"webCommandMetadata\":{\"sendPost\":true}},\"signalServiceEndpoint\":{\"signal\":\"CLIENT_SIGNAL\",\"actions\":[{\"clickTrackingParams\":\"CAYQvYYDIhMIsLHj8qaq8AIVSlKFCh3LkQdU\",\"signalAction\":{\"signal\":\"HISTORY_FORWARD\"}}]}}}},\"a11ySkipNavigationButton\":{\"buttonRenderer\":{\"style\":\"STYLE_DEFAULT\",\"size\":\"SIZE_DEFAULT\",\"isDisabled\":false,\"text\":{\"runs\":[{\"text\":\"탐색 건너뛰기\"}]},\"trackingParams\":\"CAUQ8FsiEwiwsePypqrwAhVKUoUKHcuRB1Q=\",\"command\":{\"clickTrackingParams\":\"CAUQ8FsiEwiwsePypqrwAhVKUoUKHcuRB1Q=\",\"commandMetadata\":{\"webCommandMetadata\":{\"sendPost\":true}},\"signalServiceEndpoint\":{\"signal\":\"CLIENT_SIGNAL\",\"actions\":[{\"clickTrackingParams\":\"CAUQ8FsiEwiwsePypqrwAhVKUoUKHcuRB1Q=\",\"signalAction\":{\"signal\":\"SKIP_NAVIGATION\"}}]}}}},\"voiceSearchButton\":{\"buttonRenderer\":{\"style\":\"STYLE_DEFAULT\",\"size\":\"SIZE_DEFAULT\",\"isDisabled\":false,\"serviceEndpoint\":{\"clickTrackingParams\":\"CAIQ8FsiEwiwsePypqrwAhVKUoUKHcuRB1Q=\",\"commandMetadata\":{\"webCommandMetadata\":{\"sendPost\":true}},\"signalServiceEndpoint\":{\"signal\":\"CLIENT_SIGNAL\",\"actions\":[{\"clickTrackingParams\":\"CAIQ8FsiEwiwsePypqrwAhVKUoUKHcuRB1Q=\",\"openPopupAction\":{\"popup\":{\"voiceSearchDialogRenderer\":{\"placeholderHeader\":{\"runs\":[{\"text\":\"듣는 중...\"}]},\"promptHeader\":{\"runs\":[{\"text\":\"음성을 인식할 수 없습니다. 다시 시도해 주세요\"}]},\"exampleQuery1\":{\"runs\":[{\"text\":\"\\\"두아 리파 노래를 재생해줘\\\"\"}]},\"exampleQuery2\":{\"runs\":[{\"text\":\"\\\"내 구독정보를 보여줘\\\"\"}]},\"promptMicrophoneLabel\":{\"runs\":[{\"text\":\"다시 시도하려면 마이크를 탭하세요.\"}]},\"loadingHeader\":{\"runs\":[{\"text\":\"진행 중...\"}]},\"connectionErrorHeader\":{\"runs\":[{\"text\":\"연결되지 않음\"}]},\"connectionErrorMicrophoneLabel\":{\"runs\":[{\"text\":\"연결 상태를 확인한 후 다시 시도하세요.\"}]},\"permissionsHeader\":{\"runs\":[{\"text\":\"승인 대기 중\"}]},\"permissionsSubtext\":{\"runs\":[{\"text\":\"음성 입력을 사용 설정하려면 마이크에 대한 액세스를 허용하세요.\"}]},\"disabledHeader\":{\"runs\":[{\"text\":\"음성으로 검색\"}]},\"disabledSubtext\":{\"runs\":[{\"text\":\"음성으로 검색하려면 브라우저 설정으로 이동해 마이크에 대한 액세스를 허용하세요.\"}]},\"exitButton\":{\"buttonRenderer\":{\"style\":\"STYLE_DEFAULT\",\"size\":\"SIZE_DEFAULT\",\"isDisabled\":false,\"icon\":{\"iconType\":\"CLOSE\"},\"trackingParams\":\"CAQQ8FsiEwiwsePypqrwAhVKUoUKHcuRB1Q=\",\"accessibilityData\":{\"accessibilityData\":{\"label\":\"취소\"}}}},\"trackingParams\":\"CAMQ7q8FIhMIsLHj8qaq8AIVSlKFCh3LkQdU\",\"microphoneOffPromptHeader\":{\"runs\":[{\"text\":\"마이크가 꺼져 있습니다. 다시 시도해 주세요\"}]}}},\"popupType\":\"TOP_ALIGNED_DIALOG\"}}]}},\"icon\":{\"iconType\":\"MICROPHONE_ON\"},\"tooltip\":\"음성으로 검색\",\"trackingParams\":\"CAIQ8FsiEwiwsePypqrwAhVKUoUKHcuRB1Q=\",\"accessibilityData\":{\"accessibilityData\":{\"label\":\"음성으로 검색\"}}}}}}};</script><script nonce=\"RYPlmz3HeI8DQ1OqMGXIqQ\">if (window.ytcsi) {window.ytcsi.tick('pdr', null, '');}</script><script nonce=\"RYPlmz3HeI8DQ1OqMGXIqQ\">(function() {var setFiller = function() { var fillerData={browse:{filler:true,page:\"browse\"},home:{filler:true,page:\"home\",endpoint:{commandMetadata:{webCommandMetadata:{url:\"/\",webPageType:\"WEB_PAGE_TYPE_BROWSE\"}},urlEndpoint:{url:\"/\"}},response:{contents:{twoColumnBrowseResultsRenderer:{tabs:[{tabRenderer:{selected:true,content:{richGridRenderer:{contents:[],continuations:[{nextContinuationData:{continuation:\"\"}}]}}}}]}}}},search:{filler:true,page:\"search\",endpoint:{commandMetadata:{webCommandMetadata:{url:\"/results\",webPageType:\"WEB_PAGE_TYPE_SEARCH\"}},\nurlEndpoint:{url:\"/results\"}},response:{contents:{twoColumnSearchResultsRenderer:{primaryContents:{sectionListRenderer:{contents:[],subMenu:{searchSubMenuRenderer:{}}}},secondaryContents:{secondarySearchContainerRenderer:{contents:[]}}}}}},watch:{filler:true,page:\"watch\",endpoint:{commandMetadata:{webCommandMetadata:{url:\"/watch\",webPageType:\"WEB_PAGE_TYPE_WATCH\"}},urlEndpoint:{url:\"/watch\"}},playerResponse:{playabilityStatus:{status:\"OK\"}},response:{contents:{twoColumnWatchNextResults:{results:{results:{contents:[{videoPrimaryInfoRenderer:{},\nvideoSecondaryInfoRenderer:{}}]}},secondaryResults:{secondaryResults:{}}}}}}};window.ytcfg.set(\"FILLER_DATA\",fillerData);\n };window.getPageData = function() {if (window.ytcsi) {window.ytcsi.tick('pr', null, '');}var endpoint = null;endpoint = {\"clickTrackingParams\":\"IhMIx7Di8qaq8AIVAkGFCh10awvUMghleHRlcm5hbA==\",\"commandMetadata\":{\"webCommandMetadata\":{\"url\":\"/watch?v=waRLFDHPGew\\u0026list=PL4fGSI1pDJn6jXS_Tv_N9B8Z0HTRVJE0m\\u0026index=2\",\"webPageType\":\"WEB_PAGE_TYPE_WATCH\",\"rootVe\":3832}},\"watchEndpoint\":{\"videoId\":\"waRLFDHPGew\",\"playlistId\":\"PL4fGSI1pDJn6jXS_Tv_N9B8Z0HTRVJE0m\",\"index\":1}};var data = {page: 'watch', player: window.ytplayer.config, playerResponse: window.ytInitialPlayerResponse,url: '\\/watch?v\\x3dwaRLFDHPGew\\x26list\\x3dPL4fGSI1pDJn6jXS_Tv_N9B8Z0HTRVJE0m\\x26index\\x3d1',response: window.ytInitialData, endpoint: endpoint,}; return {data: data, endpoint: endpoint};}; if (window.loadDataHook) {var pageData = window.getPageData(); window.loadDataHook(pageData.endpoint, pageData.data); window.loadDataHook = null;}setFiller();})();</script><script nonce=\"RYPlmz3HeI8DQ1OqMGXIqQ\">ytcfg.set({\"CSI_SERVICE_NAME\": 'youtube', \"TIMING_INFO\": {\"c\": 'WEB',\"GetPlayer_rid\": '0xdc0ce907e73f86eb',\"yt_ad\": '1',\"GetWatchNext_rid\": '0xdc0ce907e73f86eb',\"cver\": '2.20210429.07.00',\"yt_li\": '0',}})</script><script nonce=\"RYPlmz3HeI8DQ1OqMGXIqQ\">if (window.ytcsi) {window.ytcsi.info('st',  436.0 , '');}</script><iframe src=\"about:blank\" style=\"display: none;\"></iframe><iron-iconset-svg style=\"display: none;\"><svg><defs><g id=\"yt-logo\" viewBox=\"0 0 200 60\" preserveAspectRatio=\"xMidYMid meet\"><g><path fill=\"#FF0000\" d=\"M63,14.87c-0.72-2.7-2.85-4.83-5.56-5.56C52.54,8,32.88,8,32.88,8S13.23,8,8.32,9.31 c-2.7,0.72-4.83,2.85-5.56,5.56C1.45,19.77,1.45,30,1.45,30s0,10.23,1.31,15.13c0.72,2.7,2.85,4.83,5.56,5.56 C13.23,52,32.88,52,32.88,52s19.66,0,24.56-1.31c2.7-0.72,4.83-2.85,5.56-5.56C64.31,40.23,64.31,30,64.31,30 S64.31,19.77,63,14.87z\"></path><polygon fill=\"#FFFFFF\" points=\"26.6,39.43 42.93,30 26.6,20.57\"></polygon></g><g><g id=\"youtube-paths\"><path d=\"M92.69,48.03c-1.24-0.84-2.13-2.14-2.65-3.91c-0.52-1.77-0.79-4.12-0.79-7.06v-4 c0-2.97,0.3-5.35,0.9-7.15c0.6-1.8,1.54-3.11,2.81-3.93c1.27-0.82,2.94-1.24,5.01-1.24c2.04,0,3.67,0.42,4.9,1.26 c1.23,0.84,2.13,2.15,2.7,3.93c0.57,1.78,0.85,4.16,0.85,7.12v4c0,2.94-0.28,5.3-0.83,7.08c-0.55,1.78-1.45,3.09-2.7,3.91 c-1.24,0.82-2.93,1.24-5.06,1.24C95.65,49.29,93.93,48.87,92.69,48.03z M99.66,43.71c0.34-0.9,0.52-2.37,0.52-4.4v-8.59 c0-1.98-0.17-3.42-0.52-4.34c-0.34-0.91-0.95-1.37-1.82-1.37c-0.84,0-1.43,0.46-1.78,1.37c-0.34,0.91-0.52,2.36-0.52,4.34v8.59 c0,2.04,0.16,3.51,0.49,4.4c0.33,0.9,0.93,1.35,1.8,1.35C98.71,45.06,99.31,44.61,99.66,43.71z\"></path><path d=\"M188.16,37.13v1.39c0,1.77,0.05,3.09,0.16,3.98c0.1,0.88,0.32,1.53,0.65,1.93 c0.33,0.4,0.84,0.61,1.53,0.61c0.93,0,1.57-0.36,1.91-1.08c0.34-0.72,0.53-1.92,0.56-3.6l5.35,0.31 c0.03,0.24,0.04,0.57,0.04,0.99c0,2.55-0.7,4.45-2.09,5.71c-1.39,1.26-3.36,1.89-5.91,1.89c-3.06,0-5.2-0.96-6.43-2.88 c-1.23-1.92-1.84-4.88-1.84-8.9v-4.81c0-4.14,0.64-7.15,1.91-9.06c1.27-1.9,3.45-2.85,6.54-2.85c2.13,0,3.76,0.39,4.9,1.17 c1.14,0.78,1.94,1.99,2.41,3.64c0.46,1.65,0.7,3.93,0.7,6.83v4.72H188.16z M188.95,25.53c-0.31,0.39-0.52,1.03-0.63,1.91 c-0.11,0.88-0.16,2.23-0.16,4.02v1.98h4.54v-1.98c0-1.77-0.06-3.11-0.18-4.02c-0.12-0.91-0.34-1.56-0.65-1.93 c-0.31-0.37-0.8-0.56-1.46-0.56C189.75,24.94,189.26,25.14,188.95,25.53z\"></path><path d=\"M77.59,36.61l-7.06-25.49h6.16l2.47,11.55c0.63,2.85,1.09,5.27,1.39,7.28h0.18 c0.21-1.44,0.67-3.85,1.39-7.24l2.56-11.6h6.16L83.7,36.61v12.23h-6.11V36.61z\"></path><path d=\"M126.45,21.28v27.55h-4.85l-0.54-3.37h-0.13c-1.32,2.55-3.3,3.82-5.93,3.82c-1.83,0-3.18-0.6-4.05-1.8 c-0.87-1.2-1.3-3.07-1.3-5.62V21.28h6.2v20.23c0,1.23,0.13,2.11,0.4,2.63c0.27,0.52,0.72,0.79,1.35,0.79 c0.54,0,1.06-0.16,1.55-0.49c0.49-0.33,0.86-0.75,1.1-1.26V21.28H126.45z\"></path><path d=\"M158.27,21.28v27.55h-4.85l-0.54-3.37h-0.13c-1.32,2.55-3.3,3.82-5.93,3.82c-1.83,0-3.18-0.6-4.05-1.8 c-0.87-1.2-1.3-3.07-1.3-5.62V21.28h6.2v20.23c0,1.23,0.13,2.11,0.4,2.63c0.27,0.52,0.72,0.79,1.35,0.79 c0.54,0,1.06-0.16,1.55-0.49c0.49-0.33,0.86-0.75,1.1-1.26V21.28H158.27z\"></path><path d=\"M143.31,16.11h-6.16v32.72h-6.07V16.11h-6.16v-4.99h18.38V16.11z\"></path><path d=\"M178.8,25.69c-0.38-1.74-0.98-3-1.82-3.78c-0.84-0.78-1.99-1.17-3.46-1.17c-1.14,0-2.2,0.32-3.19,0.97 c-0.99,0.64-1.75,1.49-2.29,2.54h-0.05l0-14.52h-5.98v39.11h5.12l0.63-2.61h0.13c0.48,0.93,1.2,1.66,2.16,2.2 c0.96,0.54,2.02,0.81,3.19,0.81c2.1,0,3.64-0.97,4.63-2.9c0.99-1.93,1.48-4.95,1.48-9.06v-4.36 C179.36,29.84,179.17,27.43,178.8,25.69z M173.11,36.93c0,2.01-0.08,3.58-0.25,4.72c-0.16,1.14-0.44,1.95-0.83,2.43 c-0.39,0.48-0.91,0.72-1.57,0.72c-0.51,0-0.98-0.12-1.42-0.36c-0.43-0.24-0.79-0.6-1.06-1.08V27.71 c0.21-0.75,0.57-1.36,1.08-1.84c0.51-0.48,1.06-0.72,1.66-0.72c0.63,0,1.12,0.25,1.46,0.74c0.34,0.49,0.58,1.33,0.72,2.49 c0.13,1.17,0.2,2.83,0.2,4.99V36.93z\"></path></g></g></g><g id=\"yt-logo-red\" viewBox=\"0 0 98 24\" preserveAspectRatio=\"xMidYMid meet\"><g><path fill=\"#FF0000\" d=\"M28.4,5.12c-0.34-1.24-1.31-2.2-2.55-2.52C23.62,2,14.68,2,14.68,2S5.75,2,3.52,2.6 C2.29,2.93,1.33,3.89,1,5.12C0.59,7.39,0.39,9.69,0.4,12c-0.01,2.31,0.19,4.61,0.6,6.88c0.33,1.23,1.29,2.19,2.52,2.52 C5.75,22,14.68,22,14.68,22s8.93,0,11.16-0.6c1.24-0.32,2.22-1.28,2.56-2.52c0.41-2.27,0.61-4.57,0.6-6.88 C29.01,9.69,28.81,7.39,28.4,5.12z\"></path><polygon fill=\"#FFFFFF\" points=\"11.83,16.29 19.25,12 11.83,7.71\"></polygon></g><g id=\"youtube-red-paths\"><path d=\"M41.67,8.35V9c0,3.45-1.53,5.48-4.88,5.48h-0.51v6h-2.74V3.42h3.49C40.22,3.42,41.67,4.77,41.67,8.35z M38.79,8.6c0-2.49-0.45-3.09-2-3.09h-0.51v7h0.47c1.47,0,2-1.06,2-3.37L38.79,8.6z\"></path><path d=\"M48.14,7.83L48,11.08c-1.17-0.24-2.13-0.08-2.6,0.69v8.78h-2.67V8h2.17l0.24,2.71h0.1c0.28-2,1.2-3,2.39-3 C47.8,7.73,47.98,7.77,48.14,7.83z\"></path><path d=\"M51.27,15.25v0.63c0,2.21,0.12,3,1.06,3s1.1-0.69,1.12-2.12l2.43,0.14c0.18,2.7-1.23,3.9-3.61,3.9 c-2.9,0-3.76-1.9-3.76-5.35v-2.23c0-3.64,1-5.41,3.84-5.41s3.64,1.51,3.64,5.29v2.15H51.27z M51.27,12.67v0.9h2.06v-0.89 c0-2.3-0.16-3-1-3s-1,0.67-1,3L51.27,12.67z\"></path><path d=\"M70.02,11.1v9.46H67.2v-9.25c0-1-0.27-1.53-0.88-1.53c-0.54,0.02-1.02,0.34-1.25,0.82 c0.01,0.17,0.01,0.34,0,0.51v9.46h-2.79v-9.26c0-1-0.27-1.53-0.88-1.53c-0.53,0.02-1,0.33-1.23,0.8v10H57.4V8h2.23l0.25,1.59l0,0 c0.51-1.12,1.63-1.85,2.86-1.86c1.05-0.07,1.98,0.67,2.16,1.7c0.55-1.01,1.61-1.65,2.76-1.66C69.4,7.78,70.02,9,70.02,11.1z\"></path><path d=\"M71.4,4.83c0-1.35,0.49-1.74,1.53-1.74s1.53,0.45,1.53,1.74s-0.47,1.74-1.53,1.74S71.4,6.22,71.4,4.83z M71.59,8h2.7v12.56h-2.7V8z\"></path><path d=\"M83.5,8v12.56h-2.2L81.05,19h-0.06c-0.46,1.08-1.53,1.77-2.7,1.74c-1.67,0-2.43-1.06-2.43-3.37V8h2.82 v9.19c0,1.1,0.23,1.55,0.8,1.55c0.52-0.02,0.98-0.33,1.2-0.8V8H83.5z\"></path><path d=\"M97.8,11.1v9.46h-2.82v-9.25c0-1-0.27-1.53-0.88-1.53c-0.54,0.02-1.02,0.34-1.25,0.82 c0.01,0.17,0.01,0.34,0,0.51v9.46h-2.79v-9.26c0-1-0.27-1.53-0.88-1.53c-0.53,0.02-1,0.33-1.23,0.8v10h-2.81V8h2.26l0.24,1.59l0,0 c0.51-1.12,1.63-1.85,2.86-1.86c1.04-0.07,1.97,0.64,2.17,1.66c0.55-0.99,1.6-1.61,2.73-1.62C97.15,7.78,97.8,9,97.8,11.1z\"></path></g></g></defs></svg></iron-iconset-svg><iron-a11y-announcer><!--css-build:shady-->\n    \n    <div class=\"style-scope iron-a11y-announcer\" aria-live=\"polite\"></div>\n</iron-a11y-announcer></body></html>\n"
     ]
    }
   ],
   "source": [
    "# 웹페이지 \n",
    "html = driver.page_source\n",
    "print(html)"
   ]
  },
  {
   "cell_type": "code",
   "execution_count": 6,
   "metadata": {},
   "outputs": [
    {
     "output_type": "error",
     "ename": "SyntaxError",
     "evalue": "invalid syntax (<ipython-input-6-45d45e5448ee>, line 24)",
     "traceback": [
      "\u001b[1;36m  File \u001b[1;32m\"<ipython-input-6-45d45e5448ee>\"\u001b[1;36m, line \u001b[1;32m24\u001b[0m\n\u001b[1;33m    print(html)|\u001b[0m\n\u001b[1;37m                ^\u001b[0m\n\u001b[1;31mSyntaxError\u001b[0m\u001b[1;31m:\u001b[0m invalid syntax\n"
     ]
    }
   ],
   "source": [
    "html = '''\n",
    "<html>\n",
    "    <head>\n",
    "    </head>\n",
    "    <body>\n",
    "        <h1> 우리동네시장</h1>\n",
    "            <div class = 'sale'>\n",
    "                <p id='fruits1' class='fruits'>\n",
    "                    <span class = 'name'> 바나나 </span>\n",
    "                    <span class = 'price'> 3000원 </span>\n",
    "                    <span class = 'inventory'> 500개 </span>\n",
    "                    <span class = 'store'> 가나다상회 </span>\n",
    "                    <a href = 'http://bit.ly/forPlaywithData' > 홈페이지 </a>\n",
    "                </p>\n",
    "            </div>\n",
    "            <div class = 'prepare'>\n",
    "                <p id='fruits2' class='fruits'>\n",
    "                    <span class ='name'> 파인애플 </span>\n",
    "                </p>\n",
    "            </div>\n",
    "    </body>\n",
    "</html>\n",
    "'''\n",
    "print(html)"
   ]
  },
  {
   "cell_type": "code",
   "execution_count": 10,
   "metadata": {},
   "outputs": [],
   "source": [
    "from bs4 import BeautifulSoup\n",
    "\n",
    "#-------------------------\n",
    "soup = BeautifulSoup(html, 'html.parser')"
   ]
  },
  {
   "cell_type": "code",
   "execution_count": 11,
   "metadata": {},
   "outputs": [
    {
     "output_type": "stream",
     "name": "stdout",
     "text": [
      "[<span class=\"name\"> 바나나 </span>, <span class=\"price\"> 3000원 </span>, <span class=\"inventory\"> 500개 </span>, <span class=\"store\"> 가나다상회 </span>, <span class=\"name\"> 파인애플 </span>]\n"
     ]
    }
   ],
   "source": [
    "# soup으로 해서, 파이썬에서 html로 인식하여 태그를 찾도록 해줌\n",
    "# html은 그냥 텍스트로 인식\n",
    "\n",
    "tags_span = soup.select('span')\n",
    "print(tags_span)"
   ]
  },
  {
   "cell_type": "code",
   "execution_count": 12,
   "metadata": {},
   "outputs": [
    {
     "output_type": "stream",
     "name": "stdout",
     "text": [
      "[<p class=\"fruits\" id=\"fruits1\">\n<span class=\"name\"> 바나나 </span>\n<span class=\"price\"> 3000원 </span>\n<span class=\"inventory\"> 500개 </span>\n<span class=\"store\"> 가나다상회 </span>\n<a href=\"http://bit.ly/forPlaywithData\"> 홈페이지 </a>\n</p>, <p class=\"fruits\" id=\"fruits2\">\n<span class=\"name\"> 파인애플 </span>\n</p>]\n"
     ]
    }
   ],
   "source": [
    "tags_p = soup.select('p')\n",
    "print(tags_p)"
   ]
  },
  {
   "cell_type": "code",
   "execution_count": 14,
   "metadata": {},
   "outputs": [
    {
     "output_type": "stream",
     "name": "stdout",
     "text": [
      "[<p class=\"fruits\" id=\"fruits1\">\n<span class=\"name\"> 바나나 </span>\n<span class=\"price\"> 3000원 </span>\n<span class=\"inventory\"> 500개 </span>\n<span class=\"store\"> 가나다상회 </span>\n<a href=\"http://bit.ly/forPlaywithData\"> 홈페이지 </a>\n</p>]\n"
     ]
    }
   ],
   "source": [
    "ids_fruits1 = soup.select('#fruits1')\n",
    "print(ids_fruits1)"
   ]
  },
  {
   "cell_type": "code",
   "execution_count": 15,
   "metadata": {},
   "outputs": [
    {
     "output_type": "stream",
     "name": "stdout",
     "text": [
      "[<span class=\"price\"> 3000원 </span>]\n"
     ]
    }
   ],
   "source": [
    "class_price = soup.select('.price')\n",
    "print(class_price)"
   ]
  },
  {
   "cell_type": "code",
   "execution_count": 16,
   "metadata": {},
   "outputs": [
    {
     "output_type": "stream",
     "name": "stdout",
     "text": [
      "[<span class=\"price\"> 3000원 </span>]\n"
     ]
    }
   ],
   "source": [
    "tags_span_class_price = soup.select('span.price')\n",
    "print(tags_span_class_price)"
   ]
  },
  {
   "cell_type": "code",
   "execution_count": 18,
   "metadata": {},
   "outputs": [
    {
     "output_type": "stream",
     "name": "stdout",
     "text": [
      "[<span class=\"name\"> 바나나 </span>, <span class=\"name\"> 파인애플 </span>]\n"
     ]
    }
   ],
   "source": [
    "tags_name = soup.select('span.name')\n",
    "print(tags_name)"
   ]
  },
  {
   "cell_type": "code",
   "execution_count": 19,
   "metadata": {},
   "outputs": [
    {
     "output_type": "stream",
     "name": "stdout",
     "text": [
      "[<span class=\"name\"> 바나나 </span>]\n"
     ]
    }
   ],
   "source": [
    "tags_banana1 = soup.select('#fruits1 > span.name')\n",
    "print(tags_banana1)"
   ]
  },
  {
   "cell_type": "code",
   "execution_count": 20,
   "metadata": {},
   "outputs": [
    {
     "output_type": "stream",
     "name": "stdout",
     "text": [
      "[<span class=\"name\"> 바나나 </span>]\n[<span class=\"name\"> 바나나 </span>]\n"
     ]
    }
   ],
   "source": [
    "tags_banana2 = soup.select('div.sale > #fruits1 > span.name')\n",
    "tags_banana3 = soup.select('div.sale span.name')\n",
    "print(tags_banana2)\n",
    "print(tags_banana3)"
   ]
  },
  {
   "cell_type": "code",
   "execution_count": 21,
   "metadata": {},
   "outputs": [
    {
     "output_type": "stream",
     "name": "stdout",
     "text": [
      "<span class=\"name\"> 바나나 </span>\n"
     ]
    }
   ],
   "source": [
    "tags = soup.select('span.name')\n",
    "tag_1 = tags[0]    #인덱스 번호로 하나의 태그 지정하기\n",
    "print(tag_1)\n"
   ]
  },
  {
   "cell_type": "code",
   "execution_count": 22,
   "metadata": {},
   "outputs": [
    {
     "output_type": "stream",
     "name": "stdout",
     "text": [
      "<span class=\"name\"> 바나나 </span>\n<span class=\"name\"> 파인애플 </span>\n"
     ]
    }
   ],
   "source": [
    "#tags = soup.select('span.name')\n",
    "for tag in tags:      # 반복문으로 태그 그룹에서 각각의 태그 선택하여 활용하기\n",
    "    print(tag)"
   ]
  },
  {
   "cell_type": "code",
   "execution_count": 23,
   "metadata": {},
   "outputs": [
    {
     "output_type": "stream",
     "name": "stdout",
     "text": [
      " 홈페이지 \nhttp://bit.ly/forPlaywithData\n"
     ]
    }
   ],
   "source": [
    "tags = soup.select('a')\n",
    "tag = tags[0]\n",
    "content = tag.text\n",
    "print(content)\n",
    "link = tag['href']\n",
    "print(link)"
   ]
  },
  {
   "cell_type": "code",
   "execution_count": 25,
   "metadata": {},
   "outputs": [],
   "source": [
    "from selenium import webdriver\n",
    "driver = webdriver.Chrome(\"./chromedriver88.exe\")\n",
    "driver.implicitly_wait(200)\n",
    "url = 'http://www.melon.com/chart/index.htm'\n",
    "driver.get(url)"
   ]
  },
  {
   "cell_type": "code",
   "execution_count": 26,
   "metadata": {},
   "outputs": [],
   "source": [
    "html = driver.page_source\n",
    "soup = BeautifulSoup(html, 'html.parser')"
   ]
  },
  {
   "cell_type": "code",
   "execution_count": 27,
   "metadata": {},
   "outputs": [
    {
     "output_type": "stream",
     "name": "stdout",
     "text": [
      "100\n<tr data-song-no=\"33372781\">\n<td><div class=\"wrap t_right\"><input class=\"input_check\" name=\"input_check\" title=\"라일락 곡 선택\" type=\"checkbox\" value=\"33372781\"/></div></td>\n<td><div class=\"wrap\">\n<a class=\"image_typeAll\" href=\"javascript:melon.link.goAlbumDetail('10554246');\" title=\"IU 5th Album 'LILAC'\">\n<img alt=\"IU 5th Album 'LILAC' - 페이지 이동\" height=\"60\" onerror=\"WEBPOCIMG.defaultAlbumImg(this);\" src=\"https://cdnimg.melon.co.kr/cm2/album/images/105/54/246/10554246_20210325161233_500.jpg/melon/resize/120/quality/80/optimize\" width=\"60\"/>\n<span class=\"bg_album_frame\"></span>\n</a>\n</div></td>\n<td><div class=\"wrap\">\n<a class=\"btn button_icons type03 song_info\" href=\"javascript:melon.link.goSongDetail('33372781');\" title=\"라일락 곡정보\"><span class=\"none\">곡정보</span></a>\n</div></td>\n<td><div class=\"wrap\">\n<div class=\"wrap_song_info\">\n<div class=\"ellipsis rank01\"><span>\n<a href=\"javascript:melon.play.playSong('19030101',33372781);\" title=\"라일락 재생\">라일락</a>\n</span></div>\n<br/>\n<div class=\"ellipsis rank02\">\n<a href=\"javascript:melon.link.goArtistDetail('261143');\" title=\"아이유 - 페이지 이동\">아이유</a><span class=\"checkEllipsis\" style=\"display: none;\"><a href=\"javascript:melon.link.goArtistDetail('261143');\" title=\"아이유 - 페이지 이동\">아이유</a></span>\n</div>\n</div>\n</div></td>\n<td><div class=\"wrap\">\n<div class=\"wrap_song_info\">\n<div class=\"ellipsis rank03\">\n<a href=\"javascript:melon.link.goAlbumDetail('10554246');\" title=\"IU 5th Album 'LILAC' - 페이지 이동\">IU 5th Album 'LILAC'</a>\n</div>\n</div>\n</div></td>\n<td><div class=\"wrap\">\n<button class=\"button_etc like\" data-song-menuid=\"19030101\" data-song-no=\"33372781\" title=\"라일락 좋아요\" type=\"button\"><span class=\"odd_span\">좋아요</span>\n<span class=\"cnt\">\n<span class=\"none\">총건수</span>\n154,761</span></button>\n</div></td>\n<td><div class=\"wrap t_center\">\n<button class=\"button_icons play\" onclick=\"melon.play.playSong('19030101',33372781);\" title=\"듣기\" type=\"button\"><span class=\"none\">듣기</span></button>\n</div></td>\n<td><div class=\"wrap t_center\">\n<button class=\"button_icons scrap\" onclick=\"melon.play.addPlayList('33372781');\" title=\"담기\" type=\"button\"><span class=\"none\">담기</span></button>\n</div></td>\n<td><div class=\"wrap t_center\">\n<button class=\"button_icons download\" onclick=\"melon.buy.goBuyProduct('frm', '33372781', '3C0001', '','0', '19030101');\" title=\"다운로드\" type=\"button\"><span class=\"none\">다운로드</span></button>\n</div></td>\n<td><div class=\"wrap t_center\">\n<button class=\"button_icons video\" onclick=\"melon.link.goMvDetail('19030101', '33372781','song');\" title=\"뮤직비디오\" type=\"button\"><span class=\"none\">뮤직비디오</span></button>\n</div></td>\n</tr>\n"
     ]
    }
   ],
   "source": [
    "songs = soup.select('table > tbody > tr')  \n",
    "print(len(songs))\n",
    "print(songs[0])\n"
   ]
  },
  {
   "cell_type": "code",
   "execution_count": 30,
   "metadata": {},
   "outputs": [
    {
     "output_type": "execute_result",
     "data": {
      "text/plain": [
       "1"
      ]
     },
     "metadata": {},
     "execution_count": 30
    }
   ],
   "source": [
    "song = songs[0]\n",
    "\n",
    "#-------------------------\n",
    "title = song.select('a')\n",
    "len(title)\n",
    "\n",
    "singer = song.select('div.ellipsis.rank02 > a')\n",
    "len(singer)\n"
   ]
  },
  {
   "cell_type": "code",
   "execution_count": 31,
   "metadata": {},
   "outputs": [
    {
     "output_type": "stream",
     "name": "stdout",
     "text": [
      "라일락  |  아이유\n롤린 (Rollin')  |  브레이브걸스\nCelebrity  |  아이유\nPeaches (Feat. Daniel Caesar & Giveon)  |  Justin Bieber\n운전만해 (We Ride)  |  브레이브걸스\nCoin  |  아이유\nOn The Ground  |  로제 (ROSÉ)\n내 손을 잡아  |  아이유\n그냥 안아달란 말야  |  다비치\nLOVE DAY (2021) (바른연애 길잡이 X 양요섭, 정은지)  |  양요섭\nDynamite  |  방탄소년단\n밝게 빛나는 별이 되어 비춰줄게  |  송이한\n밤하늘의 별을(2020)  |  경서\n봄 안녕 봄  |  아이유\n잠이 오질 않네요  |  장범준\n에잇(Prod.&Feat. SUGA of BTS)  |  아이유\nBlueming  |  아이유\n취기를 빌려 (취향저격 그녀 X 산들)  |  산들\nFlu  |  아이유\nVVS (Feat. JUSTHIS) (Prod. GroovyRoom)  |  미란이 (Mirani)\nLovesick Girls  |  BLACKPINK\n나랑 같이 걸을래 (바른연애 길잡이 X 적재)  |  적재\n아이와 나의 바다  |  아이유\n어푸 (Ah puh)  |  아이유\n흔들리는 꽃들 속에서 네 샴푸향이 느껴진거야  |  장범준\n이 밤을 빌려 말해요 (바른연애 길잡이 X 10CM)  |  10CM\n그날에 나는 맘이 편했을까  |  이예준\n돌림노래 (Feat. DEAN)  |  아이유\n오래된 노래  |  스탠딩 에그\n어떻게 이별까지 사랑하겠어, 널 사랑하는 거지  |  AKMU (악동뮤지션)\n12:45 (Stripped)  |  Etham\n힘든 건 사랑이 아니다  |  임창정\nSavage Love (Laxed - Siren Beat) (BTS Remix)  |  Jawsh 685\n추억은 만남보다 이별에 남아  |  정동하\nMETEOR  |  창모 (CHANGMO)\n봄날  |  방탄소년단\n모든 날, 모든 순간 (Every day, Every Moment)  |  폴킴\n사실 나는 (Feat.전건호)  |  경서예지\nDolphin  |  오마이걸 (OH MY GIRL)\nLife Goes On  |  방탄소년단\n2002  |  Anne-Marie\nGone  |  로제 (ROSÉ)\n어떻게 지내 (Prod. By VAN.C)  |  오반 (OVAN)\n아로하  |  조정석\n에필로그  |  아이유\n고백 (바른연애 길잡이 X 허각)  |  허각\n작은 것들을 위한 시 (Boy With Luv) (Feat. Halsey)  |  방탄소년단\n늦은 밤 너의 집 앞 골목길에서  |  노을\n너의 번호를 누르고 (Prod. 영화처럼)  |  #안녕\n오늘도 빛나는 너에게 (To You My Light) (Feat.이라온)  |  마크툽 (MAKTUB)\n내 마음이 움찔했던 순간 (취향저격 그녀 X 규현)  |  규현 (KYUHYUN)\n마음을 드려요  |  아이유\n멜로디  |  ASH ISLAND\nHow You Like That  |  BLACKPINK\n되풀이  |  임창정\n함께 했는데 이별은 나 혼자인 거야  |  소정 (레이디스 코드)\nLove poem  |  아이유\nMemories  |  Maroon 5\n이제 나만 믿어요  |  임영웅\n살짝 설렜어 (Nonstop)  |  오마이걸 (OH MY GIRL)\nWhen We Disco (Duet with 선미)  |  박진영\n빈 컵 (Empty Cup)  |  아이유\nDance Monkey  |  Tones And I\n혼술하고 싶은 밤  |  벤\n너를 만나  |  폴킴\nwater color  |  휘인 (Whee In)\n내일이 오면 (Feat. 기리보이, BIG Naughty (서동현))  |  릴보이 (lIlBOI)\n이렇게 좋아해 본 적이 없어요  |  CHEEZE (치즈)\n시작  |  가호 (Gaho)\n서면역에서  |  순순희\n우린 어쩌다 헤어진 걸까  |  허각\nI'm Not Cool  |  현아\n우리 왜 헤어져야 해  |  신예영\n어떤X (What Type of X)  |  제시 (Jessi)\n그 한마디 (바른연애 길잡이 X 이하이)  |  이하이\n술 한잔 해요  |  경서 (경서예지)\n안녕  |  폴킴\nParis In The Rain  |  Lauv\n거짓말이라도 해서 널 보고싶어  |  백지영\nDowntown Baby  |  블루 (BLOO)\nDon't Call Me  |  SHINee (샤이니)\nDon't Start Now  |  Dua Lipa\n안녕이란 (Two Letters)  |  황치열\n봄 사랑 벚꽃 말고  |  HIGH4 (하이포)\n마리아 (Maria)  |  화사 (Hwa Sa)\n꼬리 (TAIL)  |  선미\n딩가딩가 (Dingga)  |  마마무 (Mamamoo)\n사랑은 지날수록 더욱 선명하게 남아  |  전상근\n서른 밤째 (바른연애 길잡이 X 윤하 (YOUNHA))  |  윤하 (YOUNHA)\n봄 내음보다 너를  |  김나영\nManiac  |  Conan Gray\n다시 만날까 봐 (Prod.V.O.S)  |  이예준\nI CAN’T STOP ME  |  TWICE (트와이스)\n커피 (Coffee)  |  규현 (KYUHYUN)\nPanorama  |  IZ*ONE (아이즈원)\n홀로  |  이하이\n소확행  |  임창정\n비로소 너에게 도착했다 (Full Bloom)  |  마크툽 (MAKTUB)\nAtlantis  |  SHINee (샤이니)\n별빛 같은 나의 사랑아  |  임영웅\n"
     ]
    }
   ],
   "source": [
    "for song in songs: \n",
    "    title = song.select('div.ellipsis.rank01 > span > a')[0].text\n",
    "    singer = song.select ('div.ellipsis.rank02 > a')[0].text  \n",
    "    print(title, singer, sep = '  |  ')"
   ]
  },
  {
   "cell_type": "code",
   "execution_count": 35,
   "metadata": {},
   "outputs": [
    {
     "output_type": "stream",
     "name": "stdout",
     "text": [
      "라일락 | 아이유\n",
      "롤린 (Rollin') | 브레이브걸스\n",
      "Celebrity | 아이유\n",
      "Peaches (Feat. Daniel Caesar & Giveon) | Justin Bieber\n",
      "운전만해 (We Ride) | 브레이브걸스\n",
      "Coin | 아이유\n",
      "On The Ground | 로제 (ROSÉ)\n",
      "내 손을 잡아 | 아이유\n",
      "그냥 안아달란 말야 | 다비치\n",
      "LOVE DAY (2021) (바른연애 길잡이 X 양요섭, 정은지) | 양요섭\n",
      "Dynamite | 방탄소년단\n",
      "밝게 빛나는 별이 되어 비춰줄게 | 송이한\n",
      "밤하늘의 별을(2020) | 경서\n",
      "봄 안녕 봄 | 아이유\n",
      "잠이 오질 않네요 | 장범준\n",
      "에잇(Prod.&Feat. SUGA of BTS) | 아이유\n",
      "Blueming | 아이유\n",
      "취기를 빌려 (취향저격 그녀 X 산들) | 산들\n",
      "Flu | 아이유\n",
      "VVS (Feat. JUSTHIS) (Prod. GroovyRoom) | 미란이 (Mirani)\n",
      "Lovesick Girls | BLACKPINK\n",
      "나랑 같이 걸을래 (바른연애 길잡이 X 적재) | 적재\n",
      "아이와 나의 바다 | 아이유\n",
      "어푸 (Ah puh) | 아이유\n",
      "흔들리는 꽃들 속에서 네 샴푸향이 느껴진거야 | 장범준\n",
      "이 밤을 빌려 말해요 (바른연애 길잡이 X 10CM) | 10CM\n",
      "그날에 나는 맘이 편했을까 | 이예준\n",
      "돌림노래 (Feat. DEAN) | 아이유\n",
      "오래된 노래 | 스탠딩 에그\n",
      "어떻게 이별까지 사랑하겠어, 널 사랑하는 거지 | AKMU (악동뮤지션)\n",
      "12:45 (Stripped) | Etham\n",
      "힘든 건 사랑이 아니다 | 임창정\n",
      "Savage Love (Laxed - Siren Beat) (BTS Remix) | Jawsh 685\n",
      "추억은 만남보다 이별에 남아 | 정동하\n",
      "METEOR | 창모 (CHANGMO)\n",
      "봄날 | 방탄소년단\n",
      "모든 날, 모든 순간 (Every day, Every Moment) | 폴킴\n",
      "사실 나는 (Feat.전건호) | 경서예지\n",
      "Dolphin | 오마이걸 (OH MY GIRL)\n",
      "Life Goes On | 방탄소년단\n",
      "2002 | Anne-Marie\n",
      "Gone | 로제 (ROSÉ)\n",
      "어떻게 지내 (Prod. By VAN.C) | 오반 (OVAN)\n",
      "아로하 | 조정석\n",
      "에필로그 | 아이유\n",
      "고백 (바른연애 길잡이 X 허각) | 허각\n",
      "작은 것들을 위한 시 (Boy With Luv) (Feat. Halsey) | 방탄소년단\n",
      "늦은 밤 너의 집 앞 골목길에서 | 노을\n",
      "너의 번호를 누르고 (Prod. 영화처럼) | #안녕\n",
      "오늘도 빛나는 너에게 (To You My Light) (Feat.이라온) | 마크툽 (MAKTUB)\n",
      "내 마음이 움찔했던 순간 (취향저격 그녀 X 규현) | 규현 (KYUHYUN)\n",
      "마음을 드려요 | 아이유\n",
      "멜로디 | ASH ISLAND\n",
      "How You Like That | BLACKPINK\n",
      "되풀이 | 임창정\n",
      "함께 했는데 이별은 나 혼자인 거야 | 소정 (레이디스 코드)\n",
      "Love poem | 아이유\n",
      "Memories | Maroon 5\n",
      "이제 나만 믿어요 | 임영웅\n",
      "살짝 설렜어 (Nonstop) | 오마이걸 (OH MY GIRL)\n",
      "When We Disco (Duet with 선미) | 박진영\n",
      "빈 컵 (Empty Cup) | 아이유\n",
      "Dance Monkey | Tones And I\n",
      "혼술하고 싶은 밤 | 벤\n",
      "너를 만나 | 폴킴\n",
      "water color | 휘인 (Whee In)\n",
      "내일이 오면 (Feat. 기리보이, BIG Naughty (서동현)) | 릴보이 (lIlBOI)\n",
      "이렇게 좋아해 본 적이 없어요 | CHEEZE (치즈)\n",
      "시작 | 가호 (Gaho)\n",
      "서면역에서 | 순순희\n",
      "우린 어쩌다 헤어진 걸까 | 허각\n",
      "I'm Not Cool | 현아\n",
      "우리 왜 헤어져야 해 | 신예영\n",
      "어떤X (What Type of X) | 제시 (Jessi)\n",
      "그 한마디 (바른연애 길잡이 X 이하이) | 이하이\n",
      "술 한잔 해요 | 경서 (경서예지)\n",
      "안녕 | 폴킴\n",
      "Paris In The Rain | Lauv\n",
      "거짓말이라도 해서 널 보고싶어 | 백지영\n",
      "Downtown Baby | 블루 (BLOO)\n",
      "Don't Call Me | SHINee (샤이니)\n",
      "Don't Start Now | Dua Lipa\n",
      "안녕이란 (Two Letters) | 황치열\n",
      "봄 사랑 벚꽃 말고 | HIGH4 (하이포)\n",
      "마리아 (Maria) | 화사 (Hwa Sa)\n",
      "꼬리 (TAIL) | 선미\n",
      "딩가딩가 (Dingga) | 마마무 (Mamamoo)\n",
      "사랑은 지날수록 더욱 선명하게 남아 | 전상근\n",
      "서른 밤째 (바른연애 길잡이 X 윤하 (YOUNHA)) | 윤하 (YOUNHA)\n",
      "봄 내음보다 너를 | 김나영\n",
      "Maniac | Conan Gray\n",
      "다시 만날까 봐 (Prod.V.O.S) | 이예준\n",
      "I CAN’T STOP ME | TWICE (트와이스)\n",
      "커피 (Coffee) | 규현 (KYUHYUN)\n",
      "Panorama | IZ*ONE (아이즈원)\n",
      "홀로 | 이하이\n",
      "소확행 | 임창정\n",
      "비로소 너에게 도착했다 (Full Bloom) | 마크툽 (MAKTUB)\n",
      "Atlantis | SHINee (샤이니)\n",
      "별빛 같은 나의 사랑아 | 임영웅\n"
     ]
    }
   ],
   "source": [
    "url = 'http://www.melon.com/chart/index.htm'\n",
    "driver.get(url)\n",
    "songs = driver.find_elements_by_css_selector('tbody > tr')\n",
    "for song in songs: \n",
    "    title = song.find_elements_by_css_selector('div.ellipsis.rank01 > span > a')[0].text\n",
    "    singer = song.find_elements_by_css_selector('div.ellipsis.rank02 > a')[0].text  \n",
    "    print(title, singer, sep = ' | ')"
   ]
  },
  {
   "cell_type": "code",
   "execution_count": 52,
   "metadata": {},
   "outputs": [
    {
     "output_type": "stream",
     "name": "stdout",
     "text": [
      "라일락 | 아이유\n롤린 (Rollin') | 브레이브걸스\nCelebrity | 아이유\nPeaches (Feat. Daniel Caesar & Giveon) | Justin Bieber\n운전만해 (We Ride) | 브레이브걸스\nCoin | 아이유\nOn The Ground | 로제 (ROSÉ)\n내 손을 잡아 | 아이유\n그냥 안아달란 말야 | 다비치\nLOVE DAY (2021) (바른연애 길잡이 X 양요섭, 정은지) | 양요섭\nDynamite | 방탄소년단\n밝게 빛나는 별이 되어 비춰줄게 | 송이한\n밤하늘의 별을(2020) | 경서\n봄 안녕 봄 | 아이유\n잠이 오질 않네요 | 장범준\n에잇(Prod.&Feat. SUGA of BTS) | 아이유\nBlueming | 아이유\n취기를 빌려 (취향저격 그녀 X 산들) | 산들\nFlu | 아이유\nVVS (Feat. JUSTHIS) (Prod. GroovyRoom) | 미란이 (Mirani)\nLovesick Girls | BLACKPINK\n나랑 같이 걸을래 (바른연애 길잡이 X 적재) | 적재\n아이와 나의 바다 | 아이유\n어푸 (Ah puh) | 아이유\n흔들리는 꽃들 속에서 네 샴푸향이 느껴진거야 | 장범준\n이 밤을 빌려 말해요 (바른연애 길잡이 X 10CM) | 10CM\n그날에 나는 맘이 편했을까 | 이예준\n돌림노래 (Feat. DEAN) | 아이유\n오래된 노래 | 스탠딩 에그\n어떻게 이별까지 사랑하겠어, 널 사랑하는 거지 | AKMU (악동뮤지션)\n12:45 (Stripped) | Etham\n힘든 건 사랑이 아니다 | 임창정\nSavage Love (Laxed - Siren Beat) (BTS Remix) | Jawsh 685\n추억은 만남보다 이별에 남아 | 정동하\nMETEOR | 창모 (CHANGMO)\n봄날 | 방탄소년단\n모든 날, 모든 순간 (Every day, Every Moment) | 폴킴\n사실 나는 (Feat.전건호) | 경서예지\nDolphin | 오마이걸 (OH MY GIRL)\nLife Goes On | 방탄소년단\n2002 | Anne-Marie\nGone | 로제 (ROSÉ)\n어떻게 지내 (Prod. By VAN.C) | 오반 (OVAN)\n아로하 | 조정석\n에필로그 | 아이유\n고백 (바른연애 길잡이 X 허각) | 허각\n작은 것들을 위한 시 (Boy With Luv) (Feat. Halsey) | 방탄소년단\n늦은 밤 너의 집 앞 골목길에서 | 노을\n너의 번호를 누르고 (Prod. 영화처럼) | #안녕\n오늘도 빛나는 너에게 (To You My Light) (Feat.이라온) | 마크툽 (MAKTUB)\n내 마음이 움찔했던 순간 (취향저격 그녀 X 규현) | 규현 (KYUHYUN)\n마음을 드려요 | 아이유\n멜로디 | ASH ISLAND\nHow You Like That | BLACKPINK\n되풀이 | 임창정\n함께 했는데 이별은 나 혼자인 거야 | 소정 (레이디스 코드)\nLove poem | 아이유\nMemories | Maroon 5\n이제 나만 믿어요 | 임영웅\n살짝 설렜어 (Nonstop) | 오마이걸 (OH MY GIRL)\nWhen We Disco (Duet with 선미) | 박진영\n빈 컵 (Empty Cup) | 아이유\nDance Monkey | Tones And I\n혼술하고 싶은 밤 | 벤\n너를 만나 | 폴킴\nwater color | 휘인 (Whee In)\n내일이 오면 (Feat. 기리보이, BIG Naughty (서동현)) | 릴보이 (lIlBOI)\n이렇게 좋아해 본 적이 없어요 | CHEEZE (치즈)\n시작 | 가호 (Gaho)\n서면역에서 | 순순희\n우린 어쩌다 헤어진 걸까 | 허각\nI'm Not Cool | 현아\n우리 왜 헤어져야 해 | 신예영\n어떤X (What Type of X) | 제시 (Jessi)\n그 한마디 (바른연애 길잡이 X 이하이) | 이하이\n술 한잔 해요 | 경서 (경서예지)\n안녕 | 폴킴\nParis In The Rain | Lauv\n거짓말이라도 해서 널 보고싶어 | 백지영\nDowntown Baby | 블루 (BLOO)\nDon't Call Me | SHINee (샤이니)\nDon't Start Now | Dua Lipa\n안녕이란 (Two Letters) | 황치열\n봄 사랑 벚꽃 말고 | HIGH4 (하이포)\n마리아 (Maria) | 화사 (Hwa Sa)\n꼬리 (TAIL) | 선미\n딩가딩가 (Dingga) | 마마무 (Mamamoo)\n사랑은 지날수록 더욱 선명하게 남아 | 전상근\n서른 밤째 (바른연애 길잡이 X 윤하 (YOUNHA)) | 윤하 (YOUNHA)\n봄 내음보다 너를 | 김나영\nManiac | Conan Gray\n다시 만날까 봐 (Prod.V.O.S) | 이예준\nI CAN’T STOP ME | TWICE (트와이스)\n커피 (Coffee) | 규현 (KYUHYUN)\nPanorama | IZ*ONE (아이즈원)\n홀로 | 이하이\n소확행 | 임창정\n비로소 너에게 도착했다 (Full Bloom) | 마크툽 (MAKTUB)\nAtlantis | SHINee (샤이니)\n별빛 같은 나의 사랑아 | 임영웅\n"
     ]
    }
   ],
   "source": [
    "from selenium import webdriver \n",
    "driver = webdriver.Chrome(\"./chromedriver88.exe\")\n",
    "\n",
    "url =  'http://www.melon.com/chart/index.htm'\n",
    "driver.get(url)\n",
    "\n",
    "#from bs4 import BeautifulSoup\n",
    "html = driver.page_source\n",
    "soup = BeautifulSoup(html, 'html.parser')\n",
    "\n",
    "songs = soup.select('tbody > tr')  \n",
    "\n",
    "for song in songs: \n",
    "    title = song.select('div.ellipsis.rank01 > span > a')[0].text\n",
    "    singer = song.select ('div.ellipsis.rank02 > a')[0].text  \n",
    "    print(title, singer, sep = ' | ')"
   ]
  },
  {
   "cell_type": "code",
   "execution_count": 53,
   "metadata": {},
   "outputs": [],
   "source": [
    "song_data = []\n",
    "rank = 1\n",
    "songs = soup.select('tbody > tr')  \n",
    "for song in songs: \n",
    "    title = song.select('div.ellipsis.rank01 > span > a')[0].text\n",
    "    singer = song.select ('div.ellipsis.rank02 > a')[0].text\n",
    "    song_data.append(['Melon', rank, title, singer])\n",
    "    rank = rank + 1"
   ]
  },
  {
   "cell_type": "code",
   "execution_count": 37,
   "metadata": {},
   "outputs": [
    {
     "output_type": "execute_result",
     "data": {
      "text/plain": [
       "[['Melon', 1, '라일락', '아이유'],\n",
       " ['Melon', 2, \"롤린 (Rollin')\", '브레이브걸스'],\n",
       " ['Melon', 3, 'Celebrity', '아이유'],\n",
       " ['Melon', 4, 'Peaches (Feat. Daniel Caesar & Giveon)', 'Justin Bieber'],\n",
       " ['Melon', 5, '운전만해 (We Ride)', '브레이브걸스'],\n",
       " ['Melon', 6, 'Coin', '아이유'],\n",
       " ['Melon', 7, 'On The Ground', '로제 (ROSÉ)'],\n",
       " ['Melon', 8, '내 손을 잡아', '아이유'],\n",
       " ['Melon', 9, '그냥 안아달란 말야', '다비치'],\n",
       " ['Melon', 10, 'LOVE DAY (2021) (바른연애 길잡이 X 양요섭, 정은지)', '양요섭'],\n",
       " ['Melon', 11, 'Dynamite', '방탄소년단'],\n",
       " ['Melon', 12, '밝게 빛나는 별이 되어 비춰줄게', '송이한'],\n",
       " ['Melon', 13, '밤하늘의 별을(2020)', '경서'],\n",
       " ['Melon', 14, '봄 안녕 봄', '아이유'],\n",
       " ['Melon', 15, '잠이 오질 않네요', '장범준'],\n",
       " ['Melon', 16, '에잇(Prod.&Feat. SUGA of BTS)', '아이유'],\n",
       " ['Melon', 17, 'Blueming', '아이유'],\n",
       " ['Melon', 18, '취기를 빌려 (취향저격 그녀 X 산들)', '산들'],\n",
       " ['Melon', 19, 'Flu', '아이유'],\n",
       " ['Melon', 20, 'VVS (Feat. JUSTHIS) (Prod. GroovyRoom)', '미란이 (Mirani)'],\n",
       " ['Melon', 21, 'Lovesick Girls', 'BLACKPINK'],\n",
       " ['Melon', 22, '나랑 같이 걸을래 (바른연애 길잡이 X 적재)', '적재'],\n",
       " ['Melon', 23, '아이와 나의 바다', '아이유'],\n",
       " ['Melon', 24, '어푸 (Ah puh)', '아이유'],\n",
       " ['Melon', 25, '흔들리는 꽃들 속에서 네 샴푸향이 느껴진거야', '장범준'],\n",
       " ['Melon', 26, '이 밤을 빌려 말해요 (바른연애 길잡이 X 10CM)', '10CM'],\n",
       " ['Melon', 27, '그날에 나는 맘이 편했을까', '이예준'],\n",
       " ['Melon', 28, '돌림노래 (Feat. DEAN)', '아이유'],\n",
       " ['Melon', 29, '오래된 노래', '스탠딩 에그'],\n",
       " ['Melon', 30, '어떻게 이별까지 사랑하겠어, 널 사랑하는 거지', 'AKMU (악동뮤지션)'],\n",
       " ['Melon', 31, '12:45 (Stripped)', 'Etham'],\n",
       " ['Melon', 32, '힘든 건 사랑이 아니다', '임창정'],\n",
       " ['Melon', 33, 'Savage Love (Laxed - Siren Beat) (BTS Remix)', 'Jawsh 685'],\n",
       " ['Melon', 34, '추억은 만남보다 이별에 남아', '정동하'],\n",
       " ['Melon', 35, 'METEOR', '창모 (CHANGMO)'],\n",
       " ['Melon', 36, '봄날', '방탄소년단'],\n",
       " ['Melon', 37, '모든 날, 모든 순간 (Every day, Every Moment)', '폴킴'],\n",
       " ['Melon', 38, '사실 나는 (Feat.전건호)', '경서예지'],\n",
       " ['Melon', 39, 'Dolphin', '오마이걸 (OH MY GIRL)'],\n",
       " ['Melon', 40, 'Life Goes On', '방탄소년단'],\n",
       " ['Melon', 41, '2002', 'Anne-Marie'],\n",
       " ['Melon', 42, 'Gone', '로제 (ROSÉ)'],\n",
       " ['Melon', 43, '어떻게 지내 (Prod. By VAN.C)', '오반 (OVAN)'],\n",
       " ['Melon', 44, '아로하', '조정석'],\n",
       " ['Melon', 45, '에필로그', '아이유'],\n",
       " ['Melon', 46, '고백 (바른연애 길잡이 X 허각)', '허각'],\n",
       " ['Melon', 47, '작은 것들을 위한 시 (Boy With Luv) (Feat. Halsey)', '방탄소년단'],\n",
       " ['Melon', 48, '늦은 밤 너의 집 앞 골목길에서', '노을'],\n",
       " ['Melon', 49, '너의 번호를 누르고 (Prod. 영화처럼)', '#안녕'],\n",
       " ['Melon', 50, '오늘도 빛나는 너에게 (To You My Light) (Feat.이라온)', '마크툽 (MAKTUB)'],\n",
       " ['Melon', 51, '내 마음이 움찔했던 순간 (취향저격 그녀 X 규현)', '규현 (KYUHYUN)'],\n",
       " ['Melon', 52, '마음을 드려요', '아이유'],\n",
       " ['Melon', 53, '멜로디', 'ASH ISLAND'],\n",
       " ['Melon', 54, 'How You Like That', 'BLACKPINK'],\n",
       " ['Melon', 55, '되풀이', '임창정'],\n",
       " ['Melon', 56, '함께 했는데 이별은 나 혼자인 거야', '소정 (레이디스 코드)'],\n",
       " ['Melon', 57, 'Love poem', '아이유'],\n",
       " ['Melon', 58, 'Memories', 'Maroon 5'],\n",
       " ['Melon', 59, '이제 나만 믿어요', '임영웅'],\n",
       " ['Melon', 60, '살짝 설렜어 (Nonstop)', '오마이걸 (OH MY GIRL)'],\n",
       " ['Melon', 61, 'When We Disco (Duet with 선미)', '박진영'],\n",
       " ['Melon', 62, '빈 컵 (Empty Cup)', '아이유'],\n",
       " ['Melon', 63, 'Dance Monkey', 'Tones And I'],\n",
       " ['Melon', 64, '혼술하고 싶은 밤', '벤'],\n",
       " ['Melon', 65, '너를 만나', '폴킴'],\n",
       " ['Melon', 66, 'water color', '휘인 (Whee In)'],\n",
       " ['Melon', 67, '내일이 오면 (Feat. 기리보이, BIG Naughty (서동현))', '릴보이 (lIlBOI)'],\n",
       " ['Melon', 68, '이렇게 좋아해 본 적이 없어요', 'CHEEZE (치즈)'],\n",
       " ['Melon', 69, '시작', '가호 (Gaho)'],\n",
       " ['Melon', 70, '서면역에서', '순순희'],\n",
       " ['Melon', 71, '우린 어쩌다 헤어진 걸까', '허각'],\n",
       " ['Melon', 72, \"I'm Not Cool\", '현아'],\n",
       " ['Melon', 73, '우리 왜 헤어져야 해', '신예영'],\n",
       " ['Melon', 74, '어떤X (What Type of X)', '제시 (Jessi)'],\n",
       " ['Melon', 75, '그 한마디 (바른연애 길잡이 X 이하이)', '이하이'],\n",
       " ['Melon', 76, '술 한잔 해요', '경서 (경서예지)'],\n",
       " ['Melon', 77, '안녕', '폴킴'],\n",
       " ['Melon', 78, 'Paris In The Rain', 'Lauv'],\n",
       " ['Melon', 79, '거짓말이라도 해서 널 보고싶어', '백지영'],\n",
       " ['Melon', 80, 'Downtown Baby', '블루 (BLOO)'],\n",
       " ['Melon', 81, \"Don't Call Me\", 'SHINee (샤이니)'],\n",
       " ['Melon', 82, \"Don't Start Now\", 'Dua Lipa'],\n",
       " ['Melon', 83, '안녕이란 (Two Letters)', '황치열'],\n",
       " ['Melon', 84, '봄 사랑 벚꽃 말고', 'HIGH4 (하이포)'],\n",
       " ['Melon', 85, '마리아 (Maria)', '화사 (Hwa Sa)'],\n",
       " ['Melon', 86, '꼬리 (TAIL)', '선미'],\n",
       " ['Melon', 87, '딩가딩가 (Dingga)', '마마무 (Mamamoo)'],\n",
       " ['Melon', 88, '사랑은 지날수록 더욱 선명하게 남아', '전상근'],\n",
       " ['Melon', 89, '서른 밤째 (바른연애 길잡이 X 윤하 (YOUNHA))', '윤하 (YOUNHA)'],\n",
       " ['Melon', 90, '봄 내음보다 너를', '김나영'],\n",
       " ['Melon', 91, 'Maniac', 'Conan Gray'],\n",
       " ['Melon', 92, '다시 만날까 봐 (Prod.V.O.S)', '이예준'],\n",
       " ['Melon', 93, 'I CAN’T STOP ME', 'TWICE (트와이스)'],\n",
       " ['Melon', 94, '커피 (Coffee)', '규현 (KYUHYUN)'],\n",
       " ['Melon', 95, 'Panorama', 'IZ*ONE (아이즈원)'],\n",
       " ['Melon', 96, '홀로', '이하이'],\n",
       " ['Melon', 97, '소확행', '임창정'],\n",
       " ['Melon', 98, '비로소 너에게 도착했다 (Full Bloom)', '마크툽 (MAKTUB)'],\n",
       " ['Melon', 99, 'Atlantis', 'SHINee (샤이니)'],\n",
       " ['Melon', 100, '별빛 같은 나의 사랑아', '임영웅']]"
      ]
     },
     "metadata": {},
     "execution_count": 37
    }
   ],
   "source": [
    "song_data"
   ]
  },
  {
   "cell_type": "code",
   "execution_count": 54,
   "metadata": {},
   "outputs": [],
   "source": [
    "import pandas as pd\n",
    "\n",
    "columns = ['서비스', '순위', '타이틀', '가수']"
   ]
  },
  {
   "cell_type": "code",
   "execution_count": 40,
   "metadata": {},
   "outputs": [
    {
     "output_type": "execute_result",
     "data": {
      "text/plain": [
       "     서비스  순위                                     타이틀             가수\n",
       "0  Melon   1                                     라일락            아이유\n",
       "1  Melon   2                            롤린 (Rollin')         브레이브걸스\n",
       "2  Melon   3                               Celebrity            아이유\n",
       "3  Melon   4  Peaches (Feat. Daniel Caesar & Giveon)  Justin Bieber\n",
       "4  Melon   5                          운전만해 (We Ride)         브레이브걸스"
      ],
      "text/html": "<div>\n<style scoped>\n    .dataframe tbody tr th:only-of-type {\n        vertical-align: middle;\n    }\n\n    .dataframe tbody tr th {\n        vertical-align: top;\n    }\n\n    .dataframe thead th {\n        text-align: right;\n    }\n</style>\n<table border=\"1\" class=\"dataframe\">\n  <thead>\n    <tr style=\"text-align: right;\">\n      <th></th>\n      <th>서비스</th>\n      <th>순위</th>\n      <th>타이틀</th>\n      <th>가수</th>\n    </tr>\n  </thead>\n  <tbody>\n    <tr>\n      <th>0</th>\n      <td>Melon</td>\n      <td>1</td>\n      <td>라일락</td>\n      <td>아이유</td>\n    </tr>\n    <tr>\n      <th>1</th>\n      <td>Melon</td>\n      <td>2</td>\n      <td>롤린 (Rollin')</td>\n      <td>브레이브걸스</td>\n    </tr>\n    <tr>\n      <th>2</th>\n      <td>Melon</td>\n      <td>3</td>\n      <td>Celebrity</td>\n      <td>아이유</td>\n    </tr>\n    <tr>\n      <th>3</th>\n      <td>Melon</td>\n      <td>4</td>\n      <td>Peaches (Feat. Daniel Caesar &amp; Giveon)</td>\n      <td>Justin Bieber</td>\n    </tr>\n    <tr>\n      <th>4</th>\n      <td>Melon</td>\n      <td>5</td>\n      <td>운전만해 (We Ride)</td>\n      <td>브레이브걸스</td>\n    </tr>\n  </tbody>\n</table>\n</div>"
     },
     "metadata": {},
     "execution_count": 40
    }
   ],
   "source": [
    "pd_data = pd.DataFrame(song_data, columns=columns)\n",
    "pd_data.head()"
   ]
  },
  {
   "cell_type": "code",
   "execution_count": 45,
   "metadata": {},
   "outputs": [],
   "source": [
    "pd_data.to_excel('./music_files_crolling/melon20210413.xlsx', index=False)"
   ]
  },
  {
   "cell_type": "code",
   "execution_count": 55,
   "metadata": {},
   "outputs": [
    {
     "output_type": "stream",
     "name": "stdout",
     "text": [
      "100\n"
     ]
    }
   ],
   "source": [
    "url = 'https://music.bugs.co.kr/chart'\n",
    "driver.get(url)\n",
    "html = driver.page_source \n",
    "soup = BeautifulSoup(html, 'html.parser')\n",
    "songs = soup.select('table.byChart > tbody > tr') # 필요할때마다 가져오는 방식이라 시간이 걸림 -> 특정 위치를 선택한 뒤, 브라우저 조작 가능 \n",
    "print(len(songs))"
   ]
  },
  {
   "cell_type": "code",
   "execution_count": 57,
   "metadata": {},
   "outputs": [
    {
     "output_type": "execute_result",
     "data": {
      "text/plain": [
       "11"
      ]
     },
     "metadata": {},
     "execution_count": 57
    }
   ],
   "source": [
    "song = songs[0]\n",
    "title = song.select('a')\n",
    "len(title)"
   ]
  },
  {
   "cell_type": "code",
   "execution_count": 58,
   "metadata": {},
   "outputs": [
    {
     "output_type": "execute_result",
     "data": {
      "text/plain": [
       "'그냥 안아달란 말야'"
      ]
     },
     "metadata": {},
     "execution_count": 58
    }
   ],
   "source": [
    "title = song.select('p.title > a')[0].text\n",
    "title\n"
   ]
  },
  {
   "cell_type": "code",
   "execution_count": 59,
   "metadata": {},
   "outputs": [
    {
     "output_type": "execute_result",
     "data": {
      "text/plain": [
       "'다비치'"
      ]
     },
     "metadata": {},
     "execution_count": 59
    }
   ],
   "source": [
    "singer = song.select('p.artist > a')[0].text\n",
    "singer"
   ]
  },
  {
   "cell_type": "code",
   "execution_count": 60,
   "metadata": {},
   "outputs": [
    {
     "output_type": "stream",
     "name": "stdout",
     "text": [
      "그냥 안아달란 말야 | 다비치\n라일락 | 아이유(IU)\n롤린 (Rollin') | 브레이브걸스(Brave Girls)\nPeaches (feat. Daniel Caesar, Giveon) | Justin Bieber(저스틴 비버)\n운전만해 (We Ride) | 브레이브걸스(Brave Girls)\n안녕이란 (Two Letters) | 황치열\nCoin | 아이유(IU)\nCelebrity | 아이유(IU)\nwater color | 휘인(Whee In)\n어푸 (Ah puh) | 아이유(IU)\nAtlantis | SHINee (샤이니)\n아이와 나의 바다 | 아이유(IU)\n우린 아직 헤어지기 전 | 포맨\n봄 내음보다 너를 | 김나영\nOn The Ground | 로제(ROSÉ)\nASAP | STAYC(스테이씨)\n돌림노래 (Feat. DEAN) | 아이유(IU)\nFlu | 아이유(IU)\n내 손을 잡아 | 아이유(IU)\nBeautiful Mistakes | Maroon 5(마룬 파이브)\n에필로그 | 아이유(IU)\nLike Water | 웬디(WENDY)\n봄 안녕 봄 | 아이유(IU)\nKiss Me More (feat. SZA) | Doja Cat(도자 캣)\n그대가 사라진다 (She's Gone) | 황치열\nDynamite | 방탄소년단\nLeave The Door Open | Bruno Mars(브루노 마스)\nLOVE DAY (2021) (바른연애 길잡이 X 양요섭, 정은지) | 양요섭\nAt My Worst | Pink Sweat$\n빈 컵 (Empty Cup) | 아이유(IU)\nDaisy (Feat. pH-1) | 미란이\nLike 1999 | Valley\n에잇(Prod.&Feat. SUGA of BTS) | 아이유(IU)\nUNNATURAL | 우주소녀\n커피 (Coffee) | 규현 (KYUHYUN)\n멜로디 | ASH ISLAND\nparachute | John K\nBlueming | 아이유(IU)\n어떻게 이별까지 사랑하겠어, 널 사랑하는 거지 | AKMU (악동뮤지션)\n헤어진 너에게 | 주호\n상상더하기 | 라붐(LABOUM)\n밤편지 | 아이유(IU)\n하이힐 | 브레이브걸스(Brave Girls)\n같은 자리 (Area) | SHINee (샤이니)\nLife Goes On | 방탄소년단\n나랑 같이 걸을래 (바른연애 길잡이 X 적재) | 적재\n따라따라와 (Prod. by 영탁) | 김희재\n어떤X (What Type of X) | 제시(Jessi)\nLovesick Girls | BLACKPINK\nDolphin | 오마이걸(OH MY GIRL)\n밤하늘의 별을(2020) | 경서\nDon't Call Me | SHINee (샤이니)\n이제 나만 믿어요 | 임영웅\n봄 사랑 벚꽃 말고 | 하이포(HIGH4)\n이 밤을 빌려 말해요 (바른연애 길잡이 X 10CM) | 10CM\n흔들리는 꽃들 속에서 네 샴푸향이 느껴진거야 | 장범준\nBambi | 백현(BAEKHYUN)\n잠이 오질 않네요 | 장범준\n되풀이 | 임창정\n12:45 (Stripped) | Etham\nSavage Love (Laxed - Siren Beat) (BTS Remix) | Jawsh 685\nMETEOR | 창모(CHANGMO)\nWarning (Feat. lIlBOI) | 김세정\n취기를 빌려 (취향저격 그녀 X 산들) | 산들\n사이렌 Remix (Feat. UNEDUCATED KID, Paul Blanco) | 호미들\nTRASH (Feat. pH-1) | 휘인(Whee In)\n아로하 | 조정석\nWhen This Rain Stops | 웬디(WENDY)\nGone | 로제(ROSÉ)\nOff My Face | Justin Bieber(저스틴 비버)\n모든 날, 모든 순간 (Every day, Every Moment) | 폴킴(Paul Kim)\n그 한마디 (바른연애 길잡이 X 이하이) | 이하이\nLove poem | 아이유(IU)\nSUMMERIDE | 박재범\n오늘도 난 봄을 기다려 | 케이시\n밝게 빛나는 별이 되어 비춰줄게 | 송이한\nBang! | AJR\n2002 | Anne-Marie(앤 마리)\n사랑하는 당신께 | 폴킴(Paul Kim)\n꼬리 (TAIL) | 선미\n작은 것들을 위한 시 (Boy With Luv) (Feat. Halsey) | 방탄소년단\n이렇게 좋아해 본 적이 없어요 | CHEEZE(치즈)\n별빛 같은 나의 사랑아 | 임영웅\n서른 밤째 (바른연애 길잡이 X 윤하 (YOUNHA)) | 윤하(Younha/ユンナ)\n살짝 설렜어 (Nonstop) | 오마이걸(OH MY GIRL)\n오래된 노래 | 스탠딩 에그(Standing Egg)\nDays and Years | SHINee (샤이니)\nVVS (Feat. JUSTHIS) (Prod. GroovyRoom) | 미란이\n봄날 | 방탄소년단\nHow You Like That | BLACKPINK\n소우주 (Mikrokosmos) | 방탄소년단\n우린 어쩌다 헤어진 걸까 | 허각\n마음을 드려요 | 아이유(IU)\n어떤 날은 | 김필(Kim Feel)\n함께 했는데 이별은 나 혼자인 거야 | 소정(레이디스 코드)\nWhat Do I Call You | 태연 (TAEYEON)\nInner Universe | 포레스텔라\n주저하는 연인들을 위해 | 잔나비\nSquare (2017) | 백예린 (Yerin Baek)\n밤새 (취향저격 그녀 X 카더가든) | 카더가든\n"
     ]
    }
   ],
   "source": [
    "songs = soup.select('table.byChart > tbody > tr')\n",
    "for song in songs :\n",
    "    title = song.select('p.title > a')[0].text\n",
    "    singer = song.select('p.artist > a')[0].text\n",
    "    print(title, singer, sep= ' | ')"
   ]
  },
  {
   "cell_type": "code",
   "execution_count": 61,
   "metadata": {},
   "outputs": [],
   "source": [
    "song_data = []\n",
    "rank = 1\n",
    "songs = soup.select('table.byChart > tbody > tr')\n",
    "for song in songs :\n",
    "    title = song.select('p.title > a')[0].text\n",
    "    singer = song.select('p.artist > a')[0].text\n",
    "    song_data.append(['Bugs', rank, title, singer])\n",
    "    #print(title, singer, sep= ' | ')\n",
    "    rank = rank + 1"
   ]
  },
  {
   "cell_type": "code",
   "execution_count": 62,
   "metadata": {},
   "outputs": [
    {
     "output_type": "execute_result",
     "data": {
      "text/plain": [
       "[['Bugs', 1, '그냥 안아달란 말야', '다비치'],\n",
       " ['Bugs', 2, '라일락', '아이유(IU)'],\n",
       " ['Bugs', 3, \"롤린 (Rollin')\", '브레이브걸스(Brave Girls)'],\n",
       " ['Bugs', 4, 'Peaches (feat. Daniel Caesar, Giveon)', 'Justin Bieber(저스틴 비버)'],\n",
       " ['Bugs', 5, '운전만해 (We Ride)', '브레이브걸스(Brave Girls)'],\n",
       " ['Bugs', 6, '안녕이란 (Two Letters)', '황치열'],\n",
       " ['Bugs', 7, 'Coin', '아이유(IU)'],\n",
       " ['Bugs', 8, 'Celebrity', '아이유(IU)'],\n",
       " ['Bugs', 9, 'water color', '휘인(Whee In)'],\n",
       " ['Bugs', 10, '어푸 (Ah puh)', '아이유(IU)'],\n",
       " ['Bugs', 11, 'Atlantis', 'SHINee (샤이니)'],\n",
       " ['Bugs', 12, '아이와 나의 바다', '아이유(IU)'],\n",
       " ['Bugs', 13, '우린 아직 헤어지기 전', '포맨'],\n",
       " ['Bugs', 14, '봄 내음보다 너를', '김나영'],\n",
       " ['Bugs', 15, 'On The Ground', '로제(ROSÉ)'],\n",
       " ['Bugs', 16, 'ASAP', 'STAYC(스테이씨)'],\n",
       " ['Bugs', 17, '돌림노래 (Feat. DEAN)', '아이유(IU)'],\n",
       " ['Bugs', 18, 'Flu', '아이유(IU)'],\n",
       " ['Bugs', 19, '내 손을 잡아', '아이유(IU)'],\n",
       " ['Bugs', 20, 'Beautiful Mistakes', 'Maroon 5(마룬 파이브)'],\n",
       " ['Bugs', 21, '에필로그', '아이유(IU)'],\n",
       " ['Bugs', 22, 'Like Water', '웬디(WENDY)'],\n",
       " ['Bugs', 23, '봄 안녕 봄', '아이유(IU)'],\n",
       " ['Bugs', 24, 'Kiss Me More (feat. SZA)', 'Doja Cat(도자 캣)'],\n",
       " ['Bugs', 25, \"그대가 사라진다 (She's Gone)\", '황치열'],\n",
       " ['Bugs', 26, 'Dynamite', '방탄소년단'],\n",
       " ['Bugs', 27, 'Leave The Door Open', 'Bruno Mars(브루노 마스)'],\n",
       " ['Bugs', 28, 'LOVE DAY (2021) (바른연애 길잡이 X 양요섭, 정은지)', '양요섭'],\n",
       " ['Bugs', 29, 'At My Worst', 'Pink Sweat$'],\n",
       " ['Bugs', 30, '빈 컵 (Empty Cup)', '아이유(IU)'],\n",
       " ['Bugs', 31, 'Daisy (Feat. pH-1)', '미란이'],\n",
       " ['Bugs', 32, 'Like 1999', 'Valley'],\n",
       " ['Bugs', 33, '에잇(Prod.&Feat. SUGA of BTS)', '아이유(IU)'],\n",
       " ['Bugs', 34, 'UNNATURAL', '우주소녀'],\n",
       " ['Bugs', 35, '커피 (Coffee)', '규현 (KYUHYUN)'],\n",
       " ['Bugs', 36, '멜로디', 'ASH ISLAND'],\n",
       " ['Bugs', 37, 'parachute', 'John K'],\n",
       " ['Bugs', 38, 'Blueming', '아이유(IU)'],\n",
       " ['Bugs', 39, '어떻게 이별까지 사랑하겠어, 널 사랑하는 거지', 'AKMU (악동뮤지션)'],\n",
       " ['Bugs', 40, '헤어진 너에게', '주호'],\n",
       " ['Bugs', 41, '상상더하기', '라붐(LABOUM)'],\n",
       " ['Bugs', 42, '밤편지', '아이유(IU)'],\n",
       " ['Bugs', 43, '하이힐', '브레이브걸스(Brave Girls)'],\n",
       " ['Bugs', 44, '같은 자리 (Area)', 'SHINee (샤이니)'],\n",
       " ['Bugs', 45, 'Life Goes On', '방탄소년단'],\n",
       " ['Bugs', 46, '나랑 같이 걸을래 (바른연애 길잡이 X 적재)', '적재'],\n",
       " ['Bugs', 47, '따라따라와 (Prod. by 영탁)', '김희재'],\n",
       " ['Bugs', 48, '어떤X (What Type of X)', '제시(Jessi)'],\n",
       " ['Bugs', 49, 'Lovesick Girls', 'BLACKPINK'],\n",
       " ['Bugs', 50, 'Dolphin', '오마이걸(OH MY GIRL)'],\n",
       " ['Bugs', 51, '밤하늘의 별을(2020)', '경서'],\n",
       " ['Bugs', 52, \"Don't Call Me\", 'SHINee (샤이니)'],\n",
       " ['Bugs', 53, '이제 나만 믿어요', '임영웅'],\n",
       " ['Bugs', 54, '봄 사랑 벚꽃 말고', '하이포(HIGH4)'],\n",
       " ['Bugs', 55, '이 밤을 빌려 말해요 (바른연애 길잡이 X 10CM)', '10CM'],\n",
       " ['Bugs', 56, '흔들리는 꽃들 속에서 네 샴푸향이 느껴진거야', '장범준'],\n",
       " ['Bugs', 57, 'Bambi', '백현(BAEKHYUN)'],\n",
       " ['Bugs', 58, '잠이 오질 않네요', '장범준'],\n",
       " ['Bugs', 59, '되풀이', '임창정'],\n",
       " ['Bugs', 60, '12:45 (Stripped)', 'Etham'],\n",
       " ['Bugs', 61, 'Savage Love (Laxed - Siren Beat) (BTS Remix)', 'Jawsh 685'],\n",
       " ['Bugs', 62, 'METEOR', '창모(CHANGMO)'],\n",
       " ['Bugs', 63, 'Warning (Feat. lIlBOI)', '김세정'],\n",
       " ['Bugs', 64, '취기를 빌려 (취향저격 그녀 X 산들)', '산들'],\n",
       " ['Bugs', 65, '사이렌 Remix (Feat. UNEDUCATED KID, Paul Blanco)', '호미들'],\n",
       " ['Bugs', 66, 'TRASH (Feat. pH-1)', '휘인(Whee In)'],\n",
       " ['Bugs', 67, '아로하', '조정석'],\n",
       " ['Bugs', 68, 'When This Rain Stops', '웬디(WENDY)'],\n",
       " ['Bugs', 69, 'Gone', '로제(ROSÉ)'],\n",
       " ['Bugs', 70, 'Off My Face', 'Justin Bieber(저스틴 비버)'],\n",
       " ['Bugs', 71, '모든 날, 모든 순간 (Every day, Every Moment)', '폴킴(Paul Kim)'],\n",
       " ['Bugs', 72, '그 한마디 (바른연애 길잡이 X 이하이)', '이하이'],\n",
       " ['Bugs', 73, 'Love poem', '아이유(IU)'],\n",
       " ['Bugs', 74, 'SUMMERIDE', '박재범'],\n",
       " ['Bugs', 75, '오늘도 난 봄을 기다려', '케이시'],\n",
       " ['Bugs', 76, '밝게 빛나는 별이 되어 비춰줄게', '송이한'],\n",
       " ['Bugs', 77, 'Bang!', 'AJR'],\n",
       " ['Bugs', 78, '2002', 'Anne-Marie(앤 마리)'],\n",
       " ['Bugs', 79, '사랑하는 당신께', '폴킴(Paul Kim)'],\n",
       " ['Bugs', 80, '꼬리 (TAIL)', '선미'],\n",
       " ['Bugs', 81, '작은 것들을 위한 시 (Boy With Luv) (Feat. Halsey)', '방탄소년단'],\n",
       " ['Bugs', 82, '이렇게 좋아해 본 적이 없어요', 'CHEEZE(치즈)'],\n",
       " ['Bugs', 83, '별빛 같은 나의 사랑아', '임영웅'],\n",
       " ['Bugs', 84, '서른 밤째 (바른연애 길잡이 X 윤하 (YOUNHA))', '윤하(Younha/ユンナ)'],\n",
       " ['Bugs', 85, '살짝 설렜어 (Nonstop)', '오마이걸(OH MY GIRL)'],\n",
       " ['Bugs', 86, '오래된 노래', '스탠딩 에그(Standing Egg)'],\n",
       " ['Bugs', 87, 'Days and Years', 'SHINee (샤이니)'],\n",
       " ['Bugs', 88, 'VVS (Feat. JUSTHIS) (Prod. GroovyRoom)', '미란이'],\n",
       " ['Bugs', 89, '봄날', '방탄소년단'],\n",
       " ['Bugs', 90, 'How You Like That', 'BLACKPINK'],\n",
       " ['Bugs', 91, '소우주 (Mikrokosmos)', '방탄소년단'],\n",
       " ['Bugs', 92, '우린 어쩌다 헤어진 걸까', '허각'],\n",
       " ['Bugs', 93, '마음을 드려요', '아이유(IU)'],\n",
       " ['Bugs', 94, '어떤 날은', '김필(Kim Feel)'],\n",
       " ['Bugs', 95, '함께 했는데 이별은 나 혼자인 거야', '소정(레이디스 코드)'],\n",
       " ['Bugs', 96, 'What Do I Call You', '태연 (TAEYEON)'],\n",
       " ['Bugs', 97, 'Inner Universe', '포레스텔라'],\n",
       " ['Bugs', 98, '주저하는 연인들을 위해', '잔나비'],\n",
       " ['Bugs', 99, 'Square (2017)', '백예린 (Yerin Baek)'],\n",
       " ['Bugs', 100, '밤새 (취향저격 그녀 X 카더가든)', '카더가든']]"
      ]
     },
     "metadata": {},
     "execution_count": 62
    }
   ],
   "source": [
    "song_data"
   ]
  },
  {
   "cell_type": "code",
   "execution_count": 63,
   "metadata": {},
   "outputs": [
    {
     "output_type": "execute_result",
     "data": {
      "text/plain": [
       "    서비스  순위                                    타이틀                     가수\n",
       "0  Bugs   1                             그냥 안아달란 말야                    다비치\n",
       "1  Bugs   2                                    라일락                아이유(IU)\n",
       "2  Bugs   3                           롤린 (Rollin')    브레이브걸스(Brave Girls)\n",
       "3  Bugs   4  Peaches (feat. Daniel Caesar, Giveon)  Justin Bieber(저스틴 비버)\n",
       "4  Bugs   5                         운전만해 (We Ride)    브레이브걸스(Brave Girls)"
      ],
      "text/html": "<div>\n<style scoped>\n    .dataframe tbody tr th:only-of-type {\n        vertical-align: middle;\n    }\n\n    .dataframe tbody tr th {\n        vertical-align: top;\n    }\n\n    .dataframe thead th {\n        text-align: right;\n    }\n</style>\n<table border=\"1\" class=\"dataframe\">\n  <thead>\n    <tr style=\"text-align: right;\">\n      <th></th>\n      <th>서비스</th>\n      <th>순위</th>\n      <th>타이틀</th>\n      <th>가수</th>\n    </tr>\n  </thead>\n  <tbody>\n    <tr>\n      <th>0</th>\n      <td>Bugs</td>\n      <td>1</td>\n      <td>그냥 안아달란 말야</td>\n      <td>다비치</td>\n    </tr>\n    <tr>\n      <th>1</th>\n      <td>Bugs</td>\n      <td>2</td>\n      <td>라일락</td>\n      <td>아이유(IU)</td>\n    </tr>\n    <tr>\n      <th>2</th>\n      <td>Bugs</td>\n      <td>3</td>\n      <td>롤린 (Rollin')</td>\n      <td>브레이브걸스(Brave Girls)</td>\n    </tr>\n    <tr>\n      <th>3</th>\n      <td>Bugs</td>\n      <td>4</td>\n      <td>Peaches (feat. Daniel Caesar, Giveon)</td>\n      <td>Justin Bieber(저스틴 비버)</td>\n    </tr>\n    <tr>\n      <th>4</th>\n      <td>Bugs</td>\n      <td>5</td>\n      <td>운전만해 (We Ride)</td>\n      <td>브레이브걸스(Brave Girls)</td>\n    </tr>\n  </tbody>\n</table>\n</div>"
     },
     "metadata": {},
     "execution_count": 63
    }
   ],
   "source": [
    "pd_data = pd.DataFrame(song_data, columns=columns)\n",
    "pd_data.head()"
   ]
  },
  {
   "cell_type": "code",
   "execution_count": 65,
   "metadata": {},
   "outputs": [],
   "source": [
    "pd_data.to_excel('./music_files_crolling/bugs.xlsx', index=False)"
   ]
  },
  {
   "cell_type": "code",
   "execution_count": 66,
   "metadata": {},
   "outputs": [],
   "source": [
    "def music_crolling(url_, soup_select, song_select, append_data, save_filename, site_name):\n",
    "    url = url_\n",
    "    driver.get(url)\n",
    "    html = driver.page_source \n",
    "    soup = BeautifulSoup(html, 'html.parser')\n",
    "    songs = soup.select(soup_select) # 필요할때마다 가져오는 방식이라 시간이 걸림 -> 특정 위치를 선택한 뒤, 브라우저 조작 가능 \n",
    "    print(len(songs))\n",
    "\n",
    "    songs = soup.select(soup_select)\n",
    "    for song in songs :\n",
    "        title = song.select(song_select)[0].text\n",
    "        singer = song.select(song_select)[0].text\n",
    "        print(title, singer, sep= ' | ')\n",
    "\n",
    "    song_data = []\n",
    "    rank = 1\n",
    "    songs = soup.select(soup_select)\n",
    "    for song in songs :\n",
    "        title = song.select(song_select)[0].text\n",
    "        singer = song.select(song_select)[0].text\n",
    "        song_data.append([site_name, rank, title, singer])\n",
    "        #print(title, singer, sep= ' | ')\n",
    "        rank = rank + 1\n",
    "\n",
    "    pd_data = pd.DataFrame(song_data, columns=columns)\n",
    "    pd_data.head()\n",
    "\n",
    "    pd_data.to_excel('./music_files_crolling/'+save_filename+'.xlsx', index=False)\n",
    "\n",
    "\n",
    "\n"
   ]
  },
  {
   "cell_type": "code",
   "execution_count": 67,
   "metadata": {},
   "outputs": [],
   "source": [
    "url = 'https://www.youtube.com/playlist?list=PLQQ6HYmZhe5m75S9zJn4u645NNtB03MqF'\n",
    "driver.get(url)\n",
    "html = driver.page_source \n",
    "soup = BeautifulSoup(html, 'html.parser')\n",
    "songs = soup.select('div > ytd-page-manager > ytd-two-column-browse-results-renderer > primary > ytd-section-list-renderer ') # 필요할때마다 가져오는 방식이라 시간이 걸린다\n",
    "print(len(songs))\n",
    "\n",
    "songs = soup.select(' primary > ytd-section-list-renderer')\n",
    "for song in songs :\n",
    "    title = song.select('p.title > a')[0].text\n",
    "    singer = song.select('p.artist > a')[0].text\n",
    "    print(title, singer, sep= ' | ')"
   ]
  }
 ]
}