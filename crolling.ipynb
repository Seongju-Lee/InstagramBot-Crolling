{
 "metadata": {
  "language_info": {
   "codemirror_mode": {
    "name": "ipython",
    "version": 3
   },
   "file_extension": ".py",
   "mimetype": "text/x-python",
   "name": "python",
   "nbconvert_exporter": "python",
   "pygments_lexer": "ipython3",
   "version": "3.9.2"
  },
  "orig_nbformat": 2,
  "kernelspec": {
   "name": "python392jvsc74a57bd05e8274657cc6e213aa501dbf3b19575a0cd02f8a5f94262b218f70147ad917b3",
   "display_name": "Python 3.9.2 64-bit"
  },
  "metadata": {
   "interpreter": {
    "hash": "5e8274657cc6e213aa501dbf3b19575a0cd02f8a5f94262b218f70147ad917b3"
   }
  }
 },
 "nbformat": 4,
 "nbformat_minor": 2,
 "cells": [
  {
   "cell_type": "code",
   "execution_count": 1,
   "metadata": {},
   "outputs": [],
   "source": [
    "# selenium 임포트\n",
    "\n",
    "from selenium import webdriver"
   ]
  },
  {
   "cell_type": "code",
   "execution_count": 2,
   "metadata": {},
   "outputs": [],
   "source": [
    "driver = webdriver.Chrome(\"./chromedriver88.exe\")\n",
    "driver.implicitly_wait(200)\n",
    "driver.get(\"https://www.daum.net\")"
   ]
  },
  {
   "cell_type": "code",
   "execution_count": 4,
   "metadata": {
    "tags": []
   },
   "outputs": [
    {
     "output_type": "error",
     "ename": "WebDriverException",
     "evalue": "Message: chrome not reachable\n  (Session info: chrome=89.0.4389.114)\n",
     "traceback": [
      "\u001b[1;31m---------------------------------------------------------------------------\u001b[0m",
      "\u001b[1;31mWebDriverException\u001b[0m                        Traceback (most recent call last)",
      "\u001b[1;32m<ipython-input-4-9729df4496ac>\u001b[0m in \u001b[0;36m<module>\u001b[1;34m\u001b[0m\n\u001b[0;32m      1\u001b[0m \u001b[1;31m# 웹페이지\u001b[0m\u001b[1;33m\u001b[0m\u001b[1;33m\u001b[0m\u001b[1;33m\u001b[0m\u001b[0m\n\u001b[1;32m----> 2\u001b[1;33m \u001b[0mhtml\u001b[0m \u001b[1;33m=\u001b[0m \u001b[0mdriver\u001b[0m\u001b[1;33m.\u001b[0m\u001b[0mpage_source\u001b[0m\u001b[1;33m\u001b[0m\u001b[1;33m\u001b[0m\u001b[0m\n\u001b[0m\u001b[0;32m      3\u001b[0m \u001b[0mprint\u001b[0m\u001b[1;33m(\u001b[0m\u001b[0mhtml\u001b[0m\u001b[1;33m)\u001b[0m\u001b[1;33m\u001b[0m\u001b[1;33m\u001b[0m\u001b[0m\n",
      "\u001b[1;32m~\\AppData\\Local\\Programs\\Python\\Python39\\lib\\site-packages\\selenium\\webdriver\\remote\\webdriver.py\u001b[0m in \u001b[0;36mpage_source\u001b[1;34m(self)\u001b[0m\n\u001b[0;32m    677\u001b[0m             \u001b[0mdriver\u001b[0m\u001b[1;33m.\u001b[0m\u001b[0mpage_source\u001b[0m\u001b[1;33m\u001b[0m\u001b[1;33m\u001b[0m\u001b[0m\n\u001b[0;32m    678\u001b[0m         \"\"\"\n\u001b[1;32m--> 679\u001b[1;33m         \u001b[1;32mreturn\u001b[0m \u001b[0mself\u001b[0m\u001b[1;33m.\u001b[0m\u001b[0mexecute\u001b[0m\u001b[1;33m(\u001b[0m\u001b[0mCommand\u001b[0m\u001b[1;33m.\u001b[0m\u001b[0mGET_PAGE_SOURCE\u001b[0m\u001b[1;33m)\u001b[0m\u001b[1;33m[\u001b[0m\u001b[1;34m'value'\u001b[0m\u001b[1;33m]\u001b[0m\u001b[1;33m\u001b[0m\u001b[1;33m\u001b[0m\u001b[0m\n\u001b[0m\u001b[0;32m    680\u001b[0m \u001b[1;33m\u001b[0m\u001b[0m\n\u001b[0;32m    681\u001b[0m     \u001b[1;32mdef\u001b[0m \u001b[0mclose\u001b[0m\u001b[1;33m(\u001b[0m\u001b[0mself\u001b[0m\u001b[1;33m)\u001b[0m\u001b[1;33m:\u001b[0m\u001b[1;33m\u001b[0m\u001b[1;33m\u001b[0m\u001b[0m\n",
      "\u001b[1;32m~\\AppData\\Local\\Programs\\Python\\Python39\\lib\\site-packages\\selenium\\webdriver\\remote\\webdriver.py\u001b[0m in \u001b[0;36mexecute\u001b[1;34m(self, driver_command, params)\u001b[0m\n\u001b[0;32m    319\u001b[0m         \u001b[0mresponse\u001b[0m \u001b[1;33m=\u001b[0m \u001b[0mself\u001b[0m\u001b[1;33m.\u001b[0m\u001b[0mcommand_executor\u001b[0m\u001b[1;33m.\u001b[0m\u001b[0mexecute\u001b[0m\u001b[1;33m(\u001b[0m\u001b[0mdriver_command\u001b[0m\u001b[1;33m,\u001b[0m \u001b[0mparams\u001b[0m\u001b[1;33m)\u001b[0m\u001b[1;33m\u001b[0m\u001b[1;33m\u001b[0m\u001b[0m\n\u001b[0;32m    320\u001b[0m         \u001b[1;32mif\u001b[0m \u001b[0mresponse\u001b[0m\u001b[1;33m:\u001b[0m\u001b[1;33m\u001b[0m\u001b[1;33m\u001b[0m\u001b[0m\n\u001b[1;32m--> 321\u001b[1;33m             \u001b[0mself\u001b[0m\u001b[1;33m.\u001b[0m\u001b[0merror_handler\u001b[0m\u001b[1;33m.\u001b[0m\u001b[0mcheck_response\u001b[0m\u001b[1;33m(\u001b[0m\u001b[0mresponse\u001b[0m\u001b[1;33m)\u001b[0m\u001b[1;33m\u001b[0m\u001b[1;33m\u001b[0m\u001b[0m\n\u001b[0m\u001b[0;32m    322\u001b[0m             response['value'] = self._unwrap_value(\n\u001b[0;32m    323\u001b[0m                 response.get('value', None))\n",
      "\u001b[1;32m~\\AppData\\Local\\Programs\\Python\\Python39\\lib\\site-packages\\selenium\\webdriver\\remote\\errorhandler.py\u001b[0m in \u001b[0;36mcheck_response\u001b[1;34m(self, response)\u001b[0m\n\u001b[0;32m    240\u001b[0m                 \u001b[0malert_text\u001b[0m \u001b[1;33m=\u001b[0m \u001b[0mvalue\u001b[0m\u001b[1;33m[\u001b[0m\u001b[1;34m'alert'\u001b[0m\u001b[1;33m]\u001b[0m\u001b[1;33m.\u001b[0m\u001b[0mget\u001b[0m\u001b[1;33m(\u001b[0m\u001b[1;34m'text'\u001b[0m\u001b[1;33m)\u001b[0m\u001b[1;33m\u001b[0m\u001b[1;33m\u001b[0m\u001b[0m\n\u001b[0;32m    241\u001b[0m             \u001b[1;32mraise\u001b[0m \u001b[0mexception_class\u001b[0m\u001b[1;33m(\u001b[0m\u001b[0mmessage\u001b[0m\u001b[1;33m,\u001b[0m \u001b[0mscreen\u001b[0m\u001b[1;33m,\u001b[0m \u001b[0mstacktrace\u001b[0m\u001b[1;33m,\u001b[0m \u001b[0malert_text\u001b[0m\u001b[1;33m)\u001b[0m\u001b[1;33m\u001b[0m\u001b[1;33m\u001b[0m\u001b[0m\n\u001b[1;32m--> 242\u001b[1;33m         \u001b[1;32mraise\u001b[0m \u001b[0mexception_class\u001b[0m\u001b[1;33m(\u001b[0m\u001b[0mmessage\u001b[0m\u001b[1;33m,\u001b[0m \u001b[0mscreen\u001b[0m\u001b[1;33m,\u001b[0m \u001b[0mstacktrace\u001b[0m\u001b[1;33m)\u001b[0m\u001b[1;33m\u001b[0m\u001b[1;33m\u001b[0m\u001b[0m\n\u001b[0m\u001b[0;32m    243\u001b[0m \u001b[1;33m\u001b[0m\u001b[0m\n\u001b[0;32m    244\u001b[0m     \u001b[1;32mdef\u001b[0m \u001b[0m_value_or_default\u001b[0m\u001b[1;33m(\u001b[0m\u001b[0mself\u001b[0m\u001b[1;33m,\u001b[0m \u001b[0mobj\u001b[0m\u001b[1;33m,\u001b[0m \u001b[0mkey\u001b[0m\u001b[1;33m,\u001b[0m \u001b[0mdefault\u001b[0m\u001b[1;33m)\u001b[0m\u001b[1;33m:\u001b[0m\u001b[1;33m\u001b[0m\u001b[1;33m\u001b[0m\u001b[0m\n",
      "\u001b[1;31mWebDriverException\u001b[0m: Message: chrome not reachable\n  (Session info: chrome=89.0.4389.114)\n"
     ]
    }
   ],
   "source": [
    "# 웹페이지 \n",
    "html = driver.page_source\n",
    "print(html)"
   ]
  },
  {
   "cell_type": "code",
   "execution_count": 6,
   "metadata": {},
   "outputs": [
    {
     "output_type": "error",
     "ename": "SyntaxError",
     "evalue": "invalid syntax (<ipython-input-6-45d45e5448ee>, line 24)",
     "traceback": [
      "\u001b[1;36m  File \u001b[1;32m\"<ipython-input-6-45d45e5448ee>\"\u001b[1;36m, line \u001b[1;32m24\u001b[0m\n\u001b[1;33m    print(html)|\u001b[0m\n\u001b[1;37m                ^\u001b[0m\n\u001b[1;31mSyntaxError\u001b[0m\u001b[1;31m:\u001b[0m invalid syntax\n"
     ]
    }
   ],
   "source": [
    "html = '''\n",
    "<html>\n",
    "    <head>\n",
    "    </head>\n",
    "    <body>\n",
    "        <h1> 우리동네시장</h1>\n",
    "            <div class = 'sale'>\n",
    "                <p id='fruits1' class='fruits'>\n",
    "                    <span class = 'name'> 바나나 </span>\n",
    "                    <span class = 'price'> 3000원 </span>\n",
    "                    <span class = 'inventory'> 500개 </span>\n",
    "                    <span class = 'store'> 가나다상회 </span>\n",
    "                    <a href = 'http://bit.ly/forPlaywithData' > 홈페이지 </a>\n",
    "                </p>\n",
    "            </div>\n",
    "            <div class = 'prepare'>\n",
    "                <p id='fruits2' class='fruits'>\n",
    "                    <span class ='name'> 파인애플 </span>\n",
    "                </p>\n",
    "            </div>\n",
    "    </body>\n",
    "</html>\n",
    "'''\n",
    "print(html)"
   ]
  },
  {
   "cell_type": "code",
   "execution_count": 10,
   "metadata": {},
   "outputs": [],
   "source": [
    "from bs4 import BeautifulSoup\n",
    "\n",
    "#-------------------------\n",
    "soup = BeautifulSoup(html, 'html.parser')"
   ]
  },
  {
   "cell_type": "code",
   "execution_count": 11,
   "metadata": {},
   "outputs": [
    {
     "output_type": "stream",
     "name": "stdout",
     "text": [
      "[<span class=\"name\"> 바나나 </span>, <span class=\"price\"> 3000원 </span>, <span class=\"inventory\"> 500개 </span>, <span class=\"store\"> 가나다상회 </span>, <span class=\"name\"> 파인애플 </span>]\n"
     ]
    }
   ],
   "source": [
    "# soup으로 해서, 파이썬에서 html로 인식하여 태그를 찾도록 해줌\n",
    "# html은 그냥 텍스트로 인식\n",
    "\n",
    "tags_span = soup.select('span')\n",
    "print(tags_span)"
   ]
  },
  {
   "cell_type": "code",
   "execution_count": 12,
   "metadata": {},
   "outputs": [
    {
     "output_type": "stream",
     "name": "stdout",
     "text": [
      "[<p class=\"fruits\" id=\"fruits1\">\n<span class=\"name\"> 바나나 </span>\n<span class=\"price\"> 3000원 </span>\n<span class=\"inventory\"> 500개 </span>\n<span class=\"store\"> 가나다상회 </span>\n<a href=\"http://bit.ly/forPlaywithData\"> 홈페이지 </a>\n</p>, <p class=\"fruits\" id=\"fruits2\">\n<span class=\"name\"> 파인애플 </span>\n</p>]\n"
     ]
    }
   ],
   "source": [
    "tags_p = soup.select('p')\n",
    "print(tags_p)"
   ]
  },
  {
   "cell_type": "code",
   "execution_count": 14,
   "metadata": {},
   "outputs": [
    {
     "output_type": "stream",
     "name": "stdout",
     "text": [
      "[<p class=\"fruits\" id=\"fruits1\">\n<span class=\"name\"> 바나나 </span>\n<span class=\"price\"> 3000원 </span>\n<span class=\"inventory\"> 500개 </span>\n<span class=\"store\"> 가나다상회 </span>\n<a href=\"http://bit.ly/forPlaywithData\"> 홈페이지 </a>\n</p>]\n"
     ]
    }
   ],
   "source": [
    "ids_fruits1 = soup.select('#fruits1')\n",
    "print(ids_fruits1)"
   ]
  },
  {
   "cell_type": "code",
   "execution_count": 15,
   "metadata": {},
   "outputs": [
    {
     "output_type": "stream",
     "name": "stdout",
     "text": [
      "[<span class=\"price\"> 3000원 </span>]\n"
     ]
    }
   ],
   "source": [
    "class_price = soup.select('.price')\n",
    "print(class_price)"
   ]
  },
  {
   "cell_type": "code",
   "execution_count": 16,
   "metadata": {},
   "outputs": [
    {
     "output_type": "stream",
     "name": "stdout",
     "text": [
      "[<span class=\"price\"> 3000원 </span>]\n"
     ]
    }
   ],
   "source": [
    "tags_span_class_price = soup.select('span.price')\n",
    "print(tags_span_class_price)"
   ]
  },
  {
   "cell_type": "code",
   "execution_count": 18,
   "metadata": {},
   "outputs": [
    {
     "output_type": "stream",
     "name": "stdout",
     "text": [
      "[<span class=\"name\"> 바나나 </span>, <span class=\"name\"> 파인애플 </span>]\n"
     ]
    }
   ],
   "source": [
    "tags_name = soup.select('span.name')\n",
    "print(tags_name)"
   ]
  },
  {
   "cell_type": "code",
   "execution_count": 19,
   "metadata": {},
   "outputs": [
    {
     "output_type": "stream",
     "name": "stdout",
     "text": [
      "[<span class=\"name\"> 바나나 </span>]\n"
     ]
    }
   ],
   "source": [
    "tags_banana1 = soup.select('#fruits1 > span.name')\n",
    "print(tags_banana1)"
   ]
  },
  {
   "cell_type": "code",
   "execution_count": 20,
   "metadata": {},
   "outputs": [
    {
     "output_type": "stream",
     "name": "stdout",
     "text": [
      "[<span class=\"name\"> 바나나 </span>]\n[<span class=\"name\"> 바나나 </span>]\n"
     ]
    }
   ],
   "source": [
    "tags_banana2 = soup.select('div.sale > #fruits1 > span.name')\n",
    "tags_banana3 = soup.select('div.sale span.name')\n",
    "print(tags_banana2)\n",
    "print(tags_banana3)"
   ]
  },
  {
   "cell_type": "code",
   "execution_count": 21,
   "metadata": {},
   "outputs": [
    {
     "output_type": "stream",
     "name": "stdout",
     "text": [
      "<span class=\"name\"> 바나나 </span>\n"
     ]
    }
   ],
   "source": [
    "tags = soup.select('span.name')\n",
    "tag_1 = tags[0]    #인덱스 번호로 하나의 태그 지정하기\n",
    "print(tag_1)\n"
   ]
  },
  {
   "cell_type": "code",
   "execution_count": 22,
   "metadata": {},
   "outputs": [
    {
     "output_type": "stream",
     "name": "stdout",
     "text": [
      "<span class=\"name\"> 바나나 </span>\n<span class=\"name\"> 파인애플 </span>\n"
     ]
    }
   ],
   "source": [
    "#tags = soup.select('span.name')\n",
    "for tag in tags:      # 반복문으로 태그 그룹에서 각각의 태그 선택하여 활용하기\n",
    "    print(tag)"
   ]
  },
  {
   "cell_type": "code",
   "execution_count": 23,
   "metadata": {},
   "outputs": [
    {
     "output_type": "stream",
     "name": "stdout",
     "text": [
      " 홈페이지 \nhttp://bit.ly/forPlaywithData\n"
     ]
    }
   ],
   "source": [
    "tags = soup.select('a')\n",
    "tag = tags[0]\n",
    "content = tag.text\n",
    "print(content)\n",
    "link = tag['href']\n",
    "print(link)"
   ]
  },
  {
   "cell_type": "code",
   "execution_count": 25,
   "metadata": {},
   "outputs": [],
   "source": [
    "from selenium import webdriver\n",
    "driver = webdriver.Chrome(\"./chromedriver88.exe\")\n",
    "driver.implicitly_wait(200)\n",
    "url = 'http://www.melon.com/chart/index.htm'\n",
    "driver.get(url)"
   ]
  },
  {
   "cell_type": "code",
   "execution_count": 26,
   "metadata": {},
   "outputs": [],
   "source": [
    "html = driver.page_source\n",
    "soup = BeautifulSoup(html, 'html.parser')"
   ]
  },
  {
   "cell_type": "code",
   "execution_count": 27,
   "metadata": {},
   "outputs": [
    {
     "output_type": "stream",
     "name": "stdout",
     "text": [
      "100\n<tr data-song-no=\"33372781\">\n<td><div class=\"wrap t_right\"><input class=\"input_check\" name=\"input_check\" title=\"라일락 곡 선택\" type=\"checkbox\" value=\"33372781\"/></div></td>\n<td><div class=\"wrap\">\n<a class=\"image_typeAll\" href=\"javascript:melon.link.goAlbumDetail('10554246');\" title=\"IU 5th Album 'LILAC'\">\n<img alt=\"IU 5th Album 'LILAC' - 페이지 이동\" height=\"60\" onerror=\"WEBPOCIMG.defaultAlbumImg(this);\" src=\"https://cdnimg.melon.co.kr/cm2/album/images/105/54/246/10554246_20210325161233_500.jpg/melon/resize/120/quality/80/optimize\" width=\"60\"/>\n<span class=\"bg_album_frame\"></span>\n</a>\n</div></td>\n<td><div class=\"wrap\">\n<a class=\"btn button_icons type03 song_info\" href=\"javascript:melon.link.goSongDetail('33372781');\" title=\"라일락 곡정보\"><span class=\"none\">곡정보</span></a>\n</div></td>\n<td><div class=\"wrap\">\n<div class=\"wrap_song_info\">\n<div class=\"ellipsis rank01\"><span>\n<a href=\"javascript:melon.play.playSong('19030101',33372781);\" title=\"라일락 재생\">라일락</a>\n</span></div>\n<br/>\n<div class=\"ellipsis rank02\">\n<a href=\"javascript:melon.link.goArtistDetail('261143');\" title=\"아이유 - 페이지 이동\">아이유</a><span class=\"checkEllipsis\" style=\"display: none;\"><a href=\"javascript:melon.link.goArtistDetail('261143');\" title=\"아이유 - 페이지 이동\">아이유</a></span>\n</div>\n</div>\n</div></td>\n<td><div class=\"wrap\">\n<div class=\"wrap_song_info\">\n<div class=\"ellipsis rank03\">\n<a href=\"javascript:melon.link.goAlbumDetail('10554246');\" title=\"IU 5th Album 'LILAC' - 페이지 이동\">IU 5th Album 'LILAC'</a>\n</div>\n</div>\n</div></td>\n<td><div class=\"wrap\">\n<button class=\"button_etc like\" data-song-menuid=\"19030101\" data-song-no=\"33372781\" title=\"라일락 좋아요\" type=\"button\"><span class=\"odd_span\">좋아요</span>\n<span class=\"cnt\">\n<span class=\"none\">총건수</span>\n154,761</span></button>\n</div></td>\n<td><div class=\"wrap t_center\">\n<button class=\"button_icons play\" onclick=\"melon.play.playSong('19030101',33372781);\" title=\"듣기\" type=\"button\"><span class=\"none\">듣기</span></button>\n</div></td>\n<td><div class=\"wrap t_center\">\n<button class=\"button_icons scrap\" onclick=\"melon.play.addPlayList('33372781');\" title=\"담기\" type=\"button\"><span class=\"none\">담기</span></button>\n</div></td>\n<td><div class=\"wrap t_center\">\n<button class=\"button_icons download\" onclick=\"melon.buy.goBuyProduct('frm', '33372781', '3C0001', '','0', '19030101');\" title=\"다운로드\" type=\"button\"><span class=\"none\">다운로드</span></button>\n</div></td>\n<td><div class=\"wrap t_center\">\n<button class=\"button_icons video\" onclick=\"melon.link.goMvDetail('19030101', '33372781','song');\" title=\"뮤직비디오\" type=\"button\"><span class=\"none\">뮤직비디오</span></button>\n</div></td>\n</tr>\n"
     ]
    }
   ],
   "source": [
    "songs = soup.select('table > tbody > tr')  \n",
    "print(len(songs))\n",
    "print(songs[0])\n"
   ]
  },
  {
   "cell_type": "code",
   "execution_count": 30,
   "metadata": {},
   "outputs": [
    {
     "output_type": "execute_result",
     "data": {
      "text/plain": [
       "1"
      ]
     },
     "metadata": {},
     "execution_count": 30
    }
   ],
   "source": [
    "song = songs[0]\n",
    "\n",
    "#-------------------------\n",
    "title = song.select('a')\n",
    "len(title)\n",
    "\n",
    "singer = song.select('div.ellipsis.rank02 > a')\n",
    "len(singer)\n"
   ]
  },
  {
   "cell_type": "code",
   "execution_count": 31,
   "metadata": {},
   "outputs": [
    {
     "output_type": "stream",
     "name": "stdout",
     "text": [
      "라일락  |  아이유\n롤린 (Rollin')  |  브레이브걸스\nCelebrity  |  아이유\nPeaches (Feat. Daniel Caesar & Giveon)  |  Justin Bieber\n운전만해 (We Ride)  |  브레이브걸스\nCoin  |  아이유\nOn The Ground  |  로제 (ROSÉ)\n내 손을 잡아  |  아이유\n그냥 안아달란 말야  |  다비치\nLOVE DAY (2021) (바른연애 길잡이 X 양요섭, 정은지)  |  양요섭\nDynamite  |  방탄소년단\n밝게 빛나는 별이 되어 비춰줄게  |  송이한\n밤하늘의 별을(2020)  |  경서\n봄 안녕 봄  |  아이유\n잠이 오질 않네요  |  장범준\n에잇(Prod.&Feat. SUGA of BTS)  |  아이유\nBlueming  |  아이유\n취기를 빌려 (취향저격 그녀 X 산들)  |  산들\nFlu  |  아이유\nVVS (Feat. JUSTHIS) (Prod. GroovyRoom)  |  미란이 (Mirani)\nLovesick Girls  |  BLACKPINK\n나랑 같이 걸을래 (바른연애 길잡이 X 적재)  |  적재\n아이와 나의 바다  |  아이유\n어푸 (Ah puh)  |  아이유\n흔들리는 꽃들 속에서 네 샴푸향이 느껴진거야  |  장범준\n이 밤을 빌려 말해요 (바른연애 길잡이 X 10CM)  |  10CM\n그날에 나는 맘이 편했을까  |  이예준\n돌림노래 (Feat. DEAN)  |  아이유\n오래된 노래  |  스탠딩 에그\n어떻게 이별까지 사랑하겠어, 널 사랑하는 거지  |  AKMU (악동뮤지션)\n12:45 (Stripped)  |  Etham\n힘든 건 사랑이 아니다  |  임창정\nSavage Love (Laxed - Siren Beat) (BTS Remix)  |  Jawsh 685\n추억은 만남보다 이별에 남아  |  정동하\nMETEOR  |  창모 (CHANGMO)\n봄날  |  방탄소년단\n모든 날, 모든 순간 (Every day, Every Moment)  |  폴킴\n사실 나는 (Feat.전건호)  |  경서예지\nDolphin  |  오마이걸 (OH MY GIRL)\nLife Goes On  |  방탄소년단\n2002  |  Anne-Marie\nGone  |  로제 (ROSÉ)\n어떻게 지내 (Prod. By VAN.C)  |  오반 (OVAN)\n아로하  |  조정석\n에필로그  |  아이유\n고백 (바른연애 길잡이 X 허각)  |  허각\n작은 것들을 위한 시 (Boy With Luv) (Feat. Halsey)  |  방탄소년단\n늦은 밤 너의 집 앞 골목길에서  |  노을\n너의 번호를 누르고 (Prod. 영화처럼)  |  #안녕\n오늘도 빛나는 너에게 (To You My Light) (Feat.이라온)  |  마크툽 (MAKTUB)\n내 마음이 움찔했던 순간 (취향저격 그녀 X 규현)  |  규현 (KYUHYUN)\n마음을 드려요  |  아이유\n멜로디  |  ASH ISLAND\nHow You Like That  |  BLACKPINK\n되풀이  |  임창정\n함께 했는데 이별은 나 혼자인 거야  |  소정 (레이디스 코드)\nLove poem  |  아이유\nMemories  |  Maroon 5\n이제 나만 믿어요  |  임영웅\n살짝 설렜어 (Nonstop)  |  오마이걸 (OH MY GIRL)\nWhen We Disco (Duet with 선미)  |  박진영\n빈 컵 (Empty Cup)  |  아이유\nDance Monkey  |  Tones And I\n혼술하고 싶은 밤  |  벤\n너를 만나  |  폴킴\nwater color  |  휘인 (Whee In)\n내일이 오면 (Feat. 기리보이, BIG Naughty (서동현))  |  릴보이 (lIlBOI)\n이렇게 좋아해 본 적이 없어요  |  CHEEZE (치즈)\n시작  |  가호 (Gaho)\n서면역에서  |  순순희\n우린 어쩌다 헤어진 걸까  |  허각\nI'm Not Cool  |  현아\n우리 왜 헤어져야 해  |  신예영\n어떤X (What Type of X)  |  제시 (Jessi)\n그 한마디 (바른연애 길잡이 X 이하이)  |  이하이\n술 한잔 해요  |  경서 (경서예지)\n안녕  |  폴킴\nParis In The Rain  |  Lauv\n거짓말이라도 해서 널 보고싶어  |  백지영\nDowntown Baby  |  블루 (BLOO)\nDon't Call Me  |  SHINee (샤이니)\nDon't Start Now  |  Dua Lipa\n안녕이란 (Two Letters)  |  황치열\n봄 사랑 벚꽃 말고  |  HIGH4 (하이포)\n마리아 (Maria)  |  화사 (Hwa Sa)\n꼬리 (TAIL)  |  선미\n딩가딩가 (Dingga)  |  마마무 (Mamamoo)\n사랑은 지날수록 더욱 선명하게 남아  |  전상근\n서른 밤째 (바른연애 길잡이 X 윤하 (YOUNHA))  |  윤하 (YOUNHA)\n봄 내음보다 너를  |  김나영\nManiac  |  Conan Gray\n다시 만날까 봐 (Prod.V.O.S)  |  이예준\nI CAN’T STOP ME  |  TWICE (트와이스)\n커피 (Coffee)  |  규현 (KYUHYUN)\nPanorama  |  IZ*ONE (아이즈원)\n홀로  |  이하이\n소확행  |  임창정\n비로소 너에게 도착했다 (Full Bloom)  |  마크툽 (MAKTUB)\nAtlantis  |  SHINee (샤이니)\n별빛 같은 나의 사랑아  |  임영웅\n"
     ]
    }
   ],
   "source": [
    "for song in songs: \n",
    "    title = song.select('div.ellipsis.rank01 > span > a')[0].text\n",
    "    singer = song.select ('div.ellipsis.rank02 > a')[0].text  \n",
    "    print(title, singer, sep = '  |  ')"
   ]
  },
  {
   "cell_type": "code",
   "execution_count": 35,
   "metadata": {},
   "outputs": [
    {
     "output_type": "stream",
     "name": "stdout",
     "text": [
      "라일락 | 아이유\n",
      "롤린 (Rollin') | 브레이브걸스\n",
      "Celebrity | 아이유\n",
      "Peaches (Feat. Daniel Caesar & Giveon) | Justin Bieber\n",
      "운전만해 (We Ride) | 브레이브걸스\n",
      "Coin | 아이유\n",
      "On The Ground | 로제 (ROSÉ)\n",
      "내 손을 잡아 | 아이유\n",
      "그냥 안아달란 말야 | 다비치\n",
      "LOVE DAY (2021) (바른연애 길잡이 X 양요섭, 정은지) | 양요섭\n",
      "Dynamite | 방탄소년단\n",
      "밝게 빛나는 별이 되어 비춰줄게 | 송이한\n",
      "밤하늘의 별을(2020) | 경서\n",
      "봄 안녕 봄 | 아이유\n",
      "잠이 오질 않네요 | 장범준\n",
      "에잇(Prod.&Feat. SUGA of BTS) | 아이유\n",
      "Blueming | 아이유\n",
      "취기를 빌려 (취향저격 그녀 X 산들) | 산들\n",
      "Flu | 아이유\n",
      "VVS (Feat. JUSTHIS) (Prod. GroovyRoom) | 미란이 (Mirani)\n",
      "Lovesick Girls | BLACKPINK\n",
      "나랑 같이 걸을래 (바른연애 길잡이 X 적재) | 적재\n",
      "아이와 나의 바다 | 아이유\n",
      "어푸 (Ah puh) | 아이유\n",
      "흔들리는 꽃들 속에서 네 샴푸향이 느껴진거야 | 장범준\n",
      "이 밤을 빌려 말해요 (바른연애 길잡이 X 10CM) | 10CM\n",
      "그날에 나는 맘이 편했을까 | 이예준\n",
      "돌림노래 (Feat. DEAN) | 아이유\n",
      "오래된 노래 | 스탠딩 에그\n",
      "어떻게 이별까지 사랑하겠어, 널 사랑하는 거지 | AKMU (악동뮤지션)\n",
      "12:45 (Stripped) | Etham\n",
      "힘든 건 사랑이 아니다 | 임창정\n",
      "Savage Love (Laxed - Siren Beat) (BTS Remix) | Jawsh 685\n",
      "추억은 만남보다 이별에 남아 | 정동하\n",
      "METEOR | 창모 (CHANGMO)\n",
      "봄날 | 방탄소년단\n",
      "모든 날, 모든 순간 (Every day, Every Moment) | 폴킴\n",
      "사실 나는 (Feat.전건호) | 경서예지\n",
      "Dolphin | 오마이걸 (OH MY GIRL)\n",
      "Life Goes On | 방탄소년단\n",
      "2002 | Anne-Marie\n",
      "Gone | 로제 (ROSÉ)\n",
      "어떻게 지내 (Prod. By VAN.C) | 오반 (OVAN)\n",
      "아로하 | 조정석\n",
      "에필로그 | 아이유\n",
      "고백 (바른연애 길잡이 X 허각) | 허각\n",
      "작은 것들을 위한 시 (Boy With Luv) (Feat. Halsey) | 방탄소년단\n",
      "늦은 밤 너의 집 앞 골목길에서 | 노을\n",
      "너의 번호를 누르고 (Prod. 영화처럼) | #안녕\n",
      "오늘도 빛나는 너에게 (To You My Light) (Feat.이라온) | 마크툽 (MAKTUB)\n",
      "내 마음이 움찔했던 순간 (취향저격 그녀 X 규현) | 규현 (KYUHYUN)\n",
      "마음을 드려요 | 아이유\n",
      "멜로디 | ASH ISLAND\n",
      "How You Like That | BLACKPINK\n",
      "되풀이 | 임창정\n",
      "함께 했는데 이별은 나 혼자인 거야 | 소정 (레이디스 코드)\n",
      "Love poem | 아이유\n",
      "Memories | Maroon 5\n",
      "이제 나만 믿어요 | 임영웅\n",
      "살짝 설렜어 (Nonstop) | 오마이걸 (OH MY GIRL)\n",
      "When We Disco (Duet with 선미) | 박진영\n",
      "빈 컵 (Empty Cup) | 아이유\n",
      "Dance Monkey | Tones And I\n",
      "혼술하고 싶은 밤 | 벤\n",
      "너를 만나 | 폴킴\n",
      "water color | 휘인 (Whee In)\n",
      "내일이 오면 (Feat. 기리보이, BIG Naughty (서동현)) | 릴보이 (lIlBOI)\n",
      "이렇게 좋아해 본 적이 없어요 | CHEEZE (치즈)\n",
      "시작 | 가호 (Gaho)\n",
      "서면역에서 | 순순희\n",
      "우린 어쩌다 헤어진 걸까 | 허각\n",
      "I'm Not Cool | 현아\n",
      "우리 왜 헤어져야 해 | 신예영\n",
      "어떤X (What Type of X) | 제시 (Jessi)\n",
      "그 한마디 (바른연애 길잡이 X 이하이) | 이하이\n",
      "술 한잔 해요 | 경서 (경서예지)\n",
      "안녕 | 폴킴\n",
      "Paris In The Rain | Lauv\n",
      "거짓말이라도 해서 널 보고싶어 | 백지영\n",
      "Downtown Baby | 블루 (BLOO)\n",
      "Don't Call Me | SHINee (샤이니)\n",
      "Don't Start Now | Dua Lipa\n",
      "안녕이란 (Two Letters) | 황치열\n",
      "봄 사랑 벚꽃 말고 | HIGH4 (하이포)\n",
      "마리아 (Maria) | 화사 (Hwa Sa)\n",
      "꼬리 (TAIL) | 선미\n",
      "딩가딩가 (Dingga) | 마마무 (Mamamoo)\n",
      "사랑은 지날수록 더욱 선명하게 남아 | 전상근\n",
      "서른 밤째 (바른연애 길잡이 X 윤하 (YOUNHA)) | 윤하 (YOUNHA)\n",
      "봄 내음보다 너를 | 김나영\n",
      "Maniac | Conan Gray\n",
      "다시 만날까 봐 (Prod.V.O.S) | 이예준\n",
      "I CAN’T STOP ME | TWICE (트와이스)\n",
      "커피 (Coffee) | 규현 (KYUHYUN)\n",
      "Panorama | IZ*ONE (아이즈원)\n",
      "홀로 | 이하이\n",
      "소확행 | 임창정\n",
      "비로소 너에게 도착했다 (Full Bloom) | 마크툽 (MAKTUB)\n",
      "Atlantis | SHINee (샤이니)\n",
      "별빛 같은 나의 사랑아 | 임영웅\n"
     ]
    }
   ],
   "source": [
    "url = 'http://www.melon.com/chart/index.htm'\n",
    "driver.get(url)\n",
    "songs = driver.find_elements_by_css_selector('tbody > tr')\n",
    "for song in songs: \n",
    "    title = song.find_elements_by_css_selector('div.ellipsis.rank01 > span > a')[0].text\n",
    "    singer = song.find_elements_by_css_selector('div.ellipsis.rank02 > a')[0].text  \n",
    "    print(title, singer, sep = ' | ')"
   ]
  },
  {
   "cell_type": "code",
   "execution_count": 52,
   "metadata": {},
   "outputs": [
    {
     "output_type": "stream",
     "name": "stdout",
     "text": [
      "라일락 | 아이유\n롤린 (Rollin') | 브레이브걸스\nCelebrity | 아이유\nPeaches (Feat. Daniel Caesar & Giveon) | Justin Bieber\n운전만해 (We Ride) | 브레이브걸스\nCoin | 아이유\nOn The Ground | 로제 (ROSÉ)\n내 손을 잡아 | 아이유\n그냥 안아달란 말야 | 다비치\nLOVE DAY (2021) (바른연애 길잡이 X 양요섭, 정은지) | 양요섭\nDynamite | 방탄소년단\n밝게 빛나는 별이 되어 비춰줄게 | 송이한\n밤하늘의 별을(2020) | 경서\n봄 안녕 봄 | 아이유\n잠이 오질 않네요 | 장범준\n에잇(Prod.&Feat. SUGA of BTS) | 아이유\nBlueming | 아이유\n취기를 빌려 (취향저격 그녀 X 산들) | 산들\nFlu | 아이유\nVVS (Feat. JUSTHIS) (Prod. GroovyRoom) | 미란이 (Mirani)\nLovesick Girls | BLACKPINK\n나랑 같이 걸을래 (바른연애 길잡이 X 적재) | 적재\n아이와 나의 바다 | 아이유\n어푸 (Ah puh) | 아이유\n흔들리는 꽃들 속에서 네 샴푸향이 느껴진거야 | 장범준\n이 밤을 빌려 말해요 (바른연애 길잡이 X 10CM) | 10CM\n그날에 나는 맘이 편했을까 | 이예준\n돌림노래 (Feat. DEAN) | 아이유\n오래된 노래 | 스탠딩 에그\n어떻게 이별까지 사랑하겠어, 널 사랑하는 거지 | AKMU (악동뮤지션)\n12:45 (Stripped) | Etham\n힘든 건 사랑이 아니다 | 임창정\nSavage Love (Laxed - Siren Beat) (BTS Remix) | Jawsh 685\n추억은 만남보다 이별에 남아 | 정동하\nMETEOR | 창모 (CHANGMO)\n봄날 | 방탄소년단\n모든 날, 모든 순간 (Every day, Every Moment) | 폴킴\n사실 나는 (Feat.전건호) | 경서예지\nDolphin | 오마이걸 (OH MY GIRL)\nLife Goes On | 방탄소년단\n2002 | Anne-Marie\nGone | 로제 (ROSÉ)\n어떻게 지내 (Prod. By VAN.C) | 오반 (OVAN)\n아로하 | 조정석\n에필로그 | 아이유\n고백 (바른연애 길잡이 X 허각) | 허각\n작은 것들을 위한 시 (Boy With Luv) (Feat. Halsey) | 방탄소년단\n늦은 밤 너의 집 앞 골목길에서 | 노을\n너의 번호를 누르고 (Prod. 영화처럼) | #안녕\n오늘도 빛나는 너에게 (To You My Light) (Feat.이라온) | 마크툽 (MAKTUB)\n내 마음이 움찔했던 순간 (취향저격 그녀 X 규현) | 규현 (KYUHYUN)\n마음을 드려요 | 아이유\n멜로디 | ASH ISLAND\nHow You Like That | BLACKPINK\n되풀이 | 임창정\n함께 했는데 이별은 나 혼자인 거야 | 소정 (레이디스 코드)\nLove poem | 아이유\nMemories | Maroon 5\n이제 나만 믿어요 | 임영웅\n살짝 설렜어 (Nonstop) | 오마이걸 (OH MY GIRL)\nWhen We Disco (Duet with 선미) | 박진영\n빈 컵 (Empty Cup) | 아이유\nDance Monkey | Tones And I\n혼술하고 싶은 밤 | 벤\n너를 만나 | 폴킴\nwater color | 휘인 (Whee In)\n내일이 오면 (Feat. 기리보이, BIG Naughty (서동현)) | 릴보이 (lIlBOI)\n이렇게 좋아해 본 적이 없어요 | CHEEZE (치즈)\n시작 | 가호 (Gaho)\n서면역에서 | 순순희\n우린 어쩌다 헤어진 걸까 | 허각\nI'm Not Cool | 현아\n우리 왜 헤어져야 해 | 신예영\n어떤X (What Type of X) | 제시 (Jessi)\n그 한마디 (바른연애 길잡이 X 이하이) | 이하이\n술 한잔 해요 | 경서 (경서예지)\n안녕 | 폴킴\nParis In The Rain | Lauv\n거짓말이라도 해서 널 보고싶어 | 백지영\nDowntown Baby | 블루 (BLOO)\nDon't Call Me | SHINee (샤이니)\nDon't Start Now | Dua Lipa\n안녕이란 (Two Letters) | 황치열\n봄 사랑 벚꽃 말고 | HIGH4 (하이포)\n마리아 (Maria) | 화사 (Hwa Sa)\n꼬리 (TAIL) | 선미\n딩가딩가 (Dingga) | 마마무 (Mamamoo)\n사랑은 지날수록 더욱 선명하게 남아 | 전상근\n서른 밤째 (바른연애 길잡이 X 윤하 (YOUNHA)) | 윤하 (YOUNHA)\n봄 내음보다 너를 | 김나영\nManiac | Conan Gray\n다시 만날까 봐 (Prod.V.O.S) | 이예준\nI CAN’T STOP ME | TWICE (트와이스)\n커피 (Coffee) | 규현 (KYUHYUN)\nPanorama | IZ*ONE (아이즈원)\n홀로 | 이하이\n소확행 | 임창정\n비로소 너에게 도착했다 (Full Bloom) | 마크툽 (MAKTUB)\nAtlantis | SHINee (샤이니)\n별빛 같은 나의 사랑아 | 임영웅\n"
     ]
    }
   ],
   "source": [
    "from selenium import webdriver \n",
    "driver = webdriver.Chrome(\"./chromedriver88.exe\")\n",
    "\n",
    "url =  'http://www.melon.com/chart/index.htm'\n",
    "driver.get(url)\n",
    "\n",
    "#from bs4 import BeautifulSoup\n",
    "html = driver.page_source\n",
    "soup = BeautifulSoup(html, 'html.parser')\n",
    "\n",
    "songs = soup.select('tbody > tr')  \n",
    "\n",
    "for song in songs: \n",
    "    title = song.select('div.ellipsis.rank01 > span > a')[0].text\n",
    "    singer = song.select ('div.ellipsis.rank02 > a')[0].text  \n",
    "    print(title, singer, sep = ' | ')"
   ]
  },
  {
   "cell_type": "code",
   "execution_count": 53,
   "metadata": {},
   "outputs": [],
   "source": [
    "song_data = []\n",
    "rank = 1\n",
    "songs = soup.select('tbody > tr')  \n",
    "for song in songs: \n",
    "    title = song.select('div.ellipsis.rank01 > span > a')[0].text\n",
    "    singer = song.select ('div.ellipsis.rank02 > a')[0].text\n",
    "    song_data.append(['Melon', rank, title, singer])\n",
    "    rank = rank + 1"
   ]
  },
  {
   "cell_type": "code",
   "execution_count": 37,
   "metadata": {},
   "outputs": [
    {
     "output_type": "execute_result",
     "data": {
      "text/plain": [
       "[['Melon', 1, '라일락', '아이유'],\n",
       " ['Melon', 2, \"롤린 (Rollin')\", '브레이브걸스'],\n",
       " ['Melon', 3, 'Celebrity', '아이유'],\n",
       " ['Melon', 4, 'Peaches (Feat. Daniel Caesar & Giveon)', 'Justin Bieber'],\n",
       " ['Melon', 5, '운전만해 (We Ride)', '브레이브걸스'],\n",
       " ['Melon', 6, 'Coin', '아이유'],\n",
       " ['Melon', 7, 'On The Ground', '로제 (ROSÉ)'],\n",
       " ['Melon', 8, '내 손을 잡아', '아이유'],\n",
       " ['Melon', 9, '그냥 안아달란 말야', '다비치'],\n",
       " ['Melon', 10, 'LOVE DAY (2021) (바른연애 길잡이 X 양요섭, 정은지)', '양요섭'],\n",
       " ['Melon', 11, 'Dynamite', '방탄소년단'],\n",
       " ['Melon', 12, '밝게 빛나는 별이 되어 비춰줄게', '송이한'],\n",
       " ['Melon', 13, '밤하늘의 별을(2020)', '경서'],\n",
       " ['Melon', 14, '봄 안녕 봄', '아이유'],\n",
       " ['Melon', 15, '잠이 오질 않네요', '장범준'],\n",
       " ['Melon', 16, '에잇(Prod.&Feat. SUGA of BTS)', '아이유'],\n",
       " ['Melon', 17, 'Blueming', '아이유'],\n",
       " ['Melon', 18, '취기를 빌려 (취향저격 그녀 X 산들)', '산들'],\n",
       " ['Melon', 19, 'Flu', '아이유'],\n",
       " ['Melon', 20, 'VVS (Feat. JUSTHIS) (Prod. GroovyRoom)', '미란이 (Mirani)'],\n",
       " ['Melon', 21, 'Lovesick Girls', 'BLACKPINK'],\n",
       " ['Melon', 22, '나랑 같이 걸을래 (바른연애 길잡이 X 적재)', '적재'],\n",
       " ['Melon', 23, '아이와 나의 바다', '아이유'],\n",
       " ['Melon', 24, '어푸 (Ah puh)', '아이유'],\n",
       " ['Melon', 25, '흔들리는 꽃들 속에서 네 샴푸향이 느껴진거야', '장범준'],\n",
       " ['Melon', 26, '이 밤을 빌려 말해요 (바른연애 길잡이 X 10CM)', '10CM'],\n",
       " ['Melon', 27, '그날에 나는 맘이 편했을까', '이예준'],\n",
       " ['Melon', 28, '돌림노래 (Feat. DEAN)', '아이유'],\n",
       " ['Melon', 29, '오래된 노래', '스탠딩 에그'],\n",
       " ['Melon', 30, '어떻게 이별까지 사랑하겠어, 널 사랑하는 거지', 'AKMU (악동뮤지션)'],\n",
       " ['Melon', 31, '12:45 (Stripped)', 'Etham'],\n",
       " ['Melon', 32, '힘든 건 사랑이 아니다', '임창정'],\n",
       " ['Melon', 33, 'Savage Love (Laxed - Siren Beat) (BTS Remix)', 'Jawsh 685'],\n",
       " ['Melon', 34, '추억은 만남보다 이별에 남아', '정동하'],\n",
       " ['Melon', 35, 'METEOR', '창모 (CHANGMO)'],\n",
       " ['Melon', 36, '봄날', '방탄소년단'],\n",
       " ['Melon', 37, '모든 날, 모든 순간 (Every day, Every Moment)', '폴킴'],\n",
       " ['Melon', 38, '사실 나는 (Feat.전건호)', '경서예지'],\n",
       " ['Melon', 39, 'Dolphin', '오마이걸 (OH MY GIRL)'],\n",
       " ['Melon', 40, 'Life Goes On', '방탄소년단'],\n",
       " ['Melon', 41, '2002', 'Anne-Marie'],\n",
       " ['Melon', 42, 'Gone', '로제 (ROSÉ)'],\n",
       " ['Melon', 43, '어떻게 지내 (Prod. By VAN.C)', '오반 (OVAN)'],\n",
       " ['Melon', 44, '아로하', '조정석'],\n",
       " ['Melon', 45, '에필로그', '아이유'],\n",
       " ['Melon', 46, '고백 (바른연애 길잡이 X 허각)', '허각'],\n",
       " ['Melon', 47, '작은 것들을 위한 시 (Boy With Luv) (Feat. Halsey)', '방탄소년단'],\n",
       " ['Melon', 48, '늦은 밤 너의 집 앞 골목길에서', '노을'],\n",
       " ['Melon', 49, '너의 번호를 누르고 (Prod. 영화처럼)', '#안녕'],\n",
       " ['Melon', 50, '오늘도 빛나는 너에게 (To You My Light) (Feat.이라온)', '마크툽 (MAKTUB)'],\n",
       " ['Melon', 51, '내 마음이 움찔했던 순간 (취향저격 그녀 X 규현)', '규현 (KYUHYUN)'],\n",
       " ['Melon', 52, '마음을 드려요', '아이유'],\n",
       " ['Melon', 53, '멜로디', 'ASH ISLAND'],\n",
       " ['Melon', 54, 'How You Like That', 'BLACKPINK'],\n",
       " ['Melon', 55, '되풀이', '임창정'],\n",
       " ['Melon', 56, '함께 했는데 이별은 나 혼자인 거야', '소정 (레이디스 코드)'],\n",
       " ['Melon', 57, 'Love poem', '아이유'],\n",
       " ['Melon', 58, 'Memories', 'Maroon 5'],\n",
       " ['Melon', 59, '이제 나만 믿어요', '임영웅'],\n",
       " ['Melon', 60, '살짝 설렜어 (Nonstop)', '오마이걸 (OH MY GIRL)'],\n",
       " ['Melon', 61, 'When We Disco (Duet with 선미)', '박진영'],\n",
       " ['Melon', 62, '빈 컵 (Empty Cup)', '아이유'],\n",
       " ['Melon', 63, 'Dance Monkey', 'Tones And I'],\n",
       " ['Melon', 64, '혼술하고 싶은 밤', '벤'],\n",
       " ['Melon', 65, '너를 만나', '폴킴'],\n",
       " ['Melon', 66, 'water color', '휘인 (Whee In)'],\n",
       " ['Melon', 67, '내일이 오면 (Feat. 기리보이, BIG Naughty (서동현))', '릴보이 (lIlBOI)'],\n",
       " ['Melon', 68, '이렇게 좋아해 본 적이 없어요', 'CHEEZE (치즈)'],\n",
       " ['Melon', 69, '시작', '가호 (Gaho)'],\n",
       " ['Melon', 70, '서면역에서', '순순희'],\n",
       " ['Melon', 71, '우린 어쩌다 헤어진 걸까', '허각'],\n",
       " ['Melon', 72, \"I'm Not Cool\", '현아'],\n",
       " ['Melon', 73, '우리 왜 헤어져야 해', '신예영'],\n",
       " ['Melon', 74, '어떤X (What Type of X)', '제시 (Jessi)'],\n",
       " ['Melon', 75, '그 한마디 (바른연애 길잡이 X 이하이)', '이하이'],\n",
       " ['Melon', 76, '술 한잔 해요', '경서 (경서예지)'],\n",
       " ['Melon', 77, '안녕', '폴킴'],\n",
       " ['Melon', 78, 'Paris In The Rain', 'Lauv'],\n",
       " ['Melon', 79, '거짓말이라도 해서 널 보고싶어', '백지영'],\n",
       " ['Melon', 80, 'Downtown Baby', '블루 (BLOO)'],\n",
       " ['Melon', 81, \"Don't Call Me\", 'SHINee (샤이니)'],\n",
       " ['Melon', 82, \"Don't Start Now\", 'Dua Lipa'],\n",
       " ['Melon', 83, '안녕이란 (Two Letters)', '황치열'],\n",
       " ['Melon', 84, '봄 사랑 벚꽃 말고', 'HIGH4 (하이포)'],\n",
       " ['Melon', 85, '마리아 (Maria)', '화사 (Hwa Sa)'],\n",
       " ['Melon', 86, '꼬리 (TAIL)', '선미'],\n",
       " ['Melon', 87, '딩가딩가 (Dingga)', '마마무 (Mamamoo)'],\n",
       " ['Melon', 88, '사랑은 지날수록 더욱 선명하게 남아', '전상근'],\n",
       " ['Melon', 89, '서른 밤째 (바른연애 길잡이 X 윤하 (YOUNHA))', '윤하 (YOUNHA)'],\n",
       " ['Melon', 90, '봄 내음보다 너를', '김나영'],\n",
       " ['Melon', 91, 'Maniac', 'Conan Gray'],\n",
       " ['Melon', 92, '다시 만날까 봐 (Prod.V.O.S)', '이예준'],\n",
       " ['Melon', 93, 'I CAN’T STOP ME', 'TWICE (트와이스)'],\n",
       " ['Melon', 94, '커피 (Coffee)', '규현 (KYUHYUN)'],\n",
       " ['Melon', 95, 'Panorama', 'IZ*ONE (아이즈원)'],\n",
       " ['Melon', 96, '홀로', '이하이'],\n",
       " ['Melon', 97, '소확행', '임창정'],\n",
       " ['Melon', 98, '비로소 너에게 도착했다 (Full Bloom)', '마크툽 (MAKTUB)'],\n",
       " ['Melon', 99, 'Atlantis', 'SHINee (샤이니)'],\n",
       " ['Melon', 100, '별빛 같은 나의 사랑아', '임영웅']]"
      ]
     },
     "metadata": {},
     "execution_count": 37
    }
   ],
   "source": [
    "song_data"
   ]
  },
  {
   "cell_type": "code",
   "execution_count": 54,
   "metadata": {},
   "outputs": [],
   "source": [
    "import pandas as pd\n",
    "\n",
    "columns = ['서비스', '순위', '타이틀', '가수']"
   ]
  },
  {
   "cell_type": "code",
   "execution_count": 40,
   "metadata": {},
   "outputs": [
    {
     "output_type": "execute_result",
     "data": {
      "text/plain": [
       "     서비스  순위                                     타이틀             가수\n",
       "0  Melon   1                                     라일락            아이유\n",
       "1  Melon   2                            롤린 (Rollin')         브레이브걸스\n",
       "2  Melon   3                               Celebrity            아이유\n",
       "3  Melon   4  Peaches (Feat. Daniel Caesar & Giveon)  Justin Bieber\n",
       "4  Melon   5                          운전만해 (We Ride)         브레이브걸스"
      ],
      "text/html": "<div>\n<style scoped>\n    .dataframe tbody tr th:only-of-type {\n        vertical-align: middle;\n    }\n\n    .dataframe tbody tr th {\n        vertical-align: top;\n    }\n\n    .dataframe thead th {\n        text-align: right;\n    }\n</style>\n<table border=\"1\" class=\"dataframe\">\n  <thead>\n    <tr style=\"text-align: right;\">\n      <th></th>\n      <th>서비스</th>\n      <th>순위</th>\n      <th>타이틀</th>\n      <th>가수</th>\n    </tr>\n  </thead>\n  <tbody>\n    <tr>\n      <th>0</th>\n      <td>Melon</td>\n      <td>1</td>\n      <td>라일락</td>\n      <td>아이유</td>\n    </tr>\n    <tr>\n      <th>1</th>\n      <td>Melon</td>\n      <td>2</td>\n      <td>롤린 (Rollin')</td>\n      <td>브레이브걸스</td>\n    </tr>\n    <tr>\n      <th>2</th>\n      <td>Melon</td>\n      <td>3</td>\n      <td>Celebrity</td>\n      <td>아이유</td>\n    </tr>\n    <tr>\n      <th>3</th>\n      <td>Melon</td>\n      <td>4</td>\n      <td>Peaches (Feat. Daniel Caesar &amp; Giveon)</td>\n      <td>Justin Bieber</td>\n    </tr>\n    <tr>\n      <th>4</th>\n      <td>Melon</td>\n      <td>5</td>\n      <td>운전만해 (We Ride)</td>\n      <td>브레이브걸스</td>\n    </tr>\n  </tbody>\n</table>\n</div>"
     },
     "metadata": {},
     "execution_count": 40
    }
   ],
   "source": [
    "pd_data = pd.DataFrame(song_data, columns=columns)\n",
    "pd_data.head()"
   ]
  },
  {
   "cell_type": "code",
   "execution_count": 45,
   "metadata": {},
   "outputs": [],
   "source": [
    "pd_data.to_excel('./music_files_crolling/melon20210413.xlsx', index=False)"
   ]
  },
  {
   "cell_type": "code",
   "execution_count": 55,
   "metadata": {},
   "outputs": [
    {
     "output_type": "stream",
     "name": "stdout",
     "text": [
      "100\n"
     ]
    }
   ],
   "source": [
    "url = 'https://music.bugs.co.kr/chart'\n",
    "driver.get(url)\n",
    "html = driver.page_source \n",
    "soup = BeautifulSoup(html, 'html.parser')\n",
    "songs = soup.select('table.byChart > tbody > tr') # 필요할때마다 가져오는 방식이라 시간이 걸림 -> 특정 위치를 선택한 뒤, 브라우저 조작 가능 \n",
    "print(len(songs))"
   ]
  },
  {
   "cell_type": "code",
   "execution_count": 57,
   "metadata": {},
   "outputs": [
    {
     "output_type": "execute_result",
     "data": {
      "text/plain": [
       "11"
      ]
     },
     "metadata": {},
     "execution_count": 57
    }
   ],
   "source": [
    "song = songs[0]\n",
    "title = song.select('a')\n",
    "len(title)"
   ]
  },
  {
   "cell_type": "code",
   "execution_count": 58,
   "metadata": {},
   "outputs": [
    {
     "output_type": "execute_result",
     "data": {
      "text/plain": [
       "'그냥 안아달란 말야'"
      ]
     },
     "metadata": {},
     "execution_count": 58
    }
   ],
   "source": [
    "title = song.select('p.title > a')[0].text\n",
    "title\n"
   ]
  },
  {
   "cell_type": "code",
   "execution_count": 59,
   "metadata": {},
   "outputs": [
    {
     "output_type": "execute_result",
     "data": {
      "text/plain": [
       "'다비치'"
      ]
     },
     "metadata": {},
     "execution_count": 59
    }
   ],
   "source": [
    "singer = song.select('p.artist > a')[0].text\n",
    "singer"
   ]
  },
  {
   "cell_type": "code",
   "execution_count": 60,
   "metadata": {},
   "outputs": [
    {
     "output_type": "stream",
     "name": "stdout",
     "text": [
      "그냥 안아달란 말야 | 다비치\n라일락 | 아이유(IU)\n롤린 (Rollin') | 브레이브걸스(Brave Girls)\nPeaches (feat. Daniel Caesar, Giveon) | Justin Bieber(저스틴 비버)\n운전만해 (We Ride) | 브레이브걸스(Brave Girls)\n안녕이란 (Two Letters) | 황치열\nCoin | 아이유(IU)\nCelebrity | 아이유(IU)\nwater color | 휘인(Whee In)\n어푸 (Ah puh) | 아이유(IU)\nAtlantis | SHINee (샤이니)\n아이와 나의 바다 | 아이유(IU)\n우린 아직 헤어지기 전 | 포맨\n봄 내음보다 너를 | 김나영\nOn The Ground | 로제(ROSÉ)\nASAP | STAYC(스테이씨)\n돌림노래 (Feat. DEAN) | 아이유(IU)\nFlu | 아이유(IU)\n내 손을 잡아 | 아이유(IU)\nBeautiful Mistakes | Maroon 5(마룬 파이브)\n에필로그 | 아이유(IU)\nLike Water | 웬디(WENDY)\n봄 안녕 봄 | 아이유(IU)\nKiss Me More (feat. SZA) | Doja Cat(도자 캣)\n그대가 사라진다 (She's Gone) | 황치열\nDynamite | 방탄소년단\nLeave The Door Open | Bruno Mars(브루노 마스)\nLOVE DAY (2021) (바른연애 길잡이 X 양요섭, 정은지) | 양요섭\nAt My Worst | Pink Sweat$\n빈 컵 (Empty Cup) | 아이유(IU)\nDaisy (Feat. pH-1) | 미란이\nLike 1999 | Valley\n에잇(Prod.&Feat. SUGA of BTS) | 아이유(IU)\nUNNATURAL | 우주소녀\n커피 (Coffee) | 규현 (KYUHYUN)\n멜로디 | ASH ISLAND\nparachute | John K\nBlueming | 아이유(IU)\n어떻게 이별까지 사랑하겠어, 널 사랑하는 거지 | AKMU (악동뮤지션)\n헤어진 너에게 | 주호\n상상더하기 | 라붐(LABOUM)\n밤편지 | 아이유(IU)\n하이힐 | 브레이브걸스(Brave Girls)\n같은 자리 (Area) | SHINee (샤이니)\nLife Goes On | 방탄소년단\n나랑 같이 걸을래 (바른연애 길잡이 X 적재) | 적재\n따라따라와 (Prod. by 영탁) | 김희재\n어떤X (What Type of X) | 제시(Jessi)\nLovesick Girls | BLACKPINK\nDolphin | 오마이걸(OH MY GIRL)\n밤하늘의 별을(2020) | 경서\nDon't Call Me | SHINee (샤이니)\n이제 나만 믿어요 | 임영웅\n봄 사랑 벚꽃 말고 | 하이포(HIGH4)\n이 밤을 빌려 말해요 (바른연애 길잡이 X 10CM) | 10CM\n흔들리는 꽃들 속에서 네 샴푸향이 느껴진거야 | 장범준\nBambi | 백현(BAEKHYUN)\n잠이 오질 않네요 | 장범준\n되풀이 | 임창정\n12:45 (Stripped) | Etham\nSavage Love (Laxed - Siren Beat) (BTS Remix) | Jawsh 685\nMETEOR | 창모(CHANGMO)\nWarning (Feat. lIlBOI) | 김세정\n취기를 빌려 (취향저격 그녀 X 산들) | 산들\n사이렌 Remix (Feat. UNEDUCATED KID, Paul Blanco) | 호미들\nTRASH (Feat. pH-1) | 휘인(Whee In)\n아로하 | 조정석\nWhen This Rain Stops | 웬디(WENDY)\nGone | 로제(ROSÉ)\nOff My Face | Justin Bieber(저스틴 비버)\n모든 날, 모든 순간 (Every day, Every Moment) | 폴킴(Paul Kim)\n그 한마디 (바른연애 길잡이 X 이하이) | 이하이\nLove poem | 아이유(IU)\nSUMMERIDE | 박재범\n오늘도 난 봄을 기다려 | 케이시\n밝게 빛나는 별이 되어 비춰줄게 | 송이한\nBang! | AJR\n2002 | Anne-Marie(앤 마리)\n사랑하는 당신께 | 폴킴(Paul Kim)\n꼬리 (TAIL) | 선미\n작은 것들을 위한 시 (Boy With Luv) (Feat. Halsey) | 방탄소년단\n이렇게 좋아해 본 적이 없어요 | CHEEZE(치즈)\n별빛 같은 나의 사랑아 | 임영웅\n서른 밤째 (바른연애 길잡이 X 윤하 (YOUNHA)) | 윤하(Younha/ユンナ)\n살짝 설렜어 (Nonstop) | 오마이걸(OH MY GIRL)\n오래된 노래 | 스탠딩 에그(Standing Egg)\nDays and Years | SHINee (샤이니)\nVVS (Feat. JUSTHIS) (Prod. GroovyRoom) | 미란이\n봄날 | 방탄소년단\nHow You Like That | BLACKPINK\n소우주 (Mikrokosmos) | 방탄소년단\n우린 어쩌다 헤어진 걸까 | 허각\n마음을 드려요 | 아이유(IU)\n어떤 날은 | 김필(Kim Feel)\n함께 했는데 이별은 나 혼자인 거야 | 소정(레이디스 코드)\nWhat Do I Call You | 태연 (TAEYEON)\nInner Universe | 포레스텔라\n주저하는 연인들을 위해 | 잔나비\nSquare (2017) | 백예린 (Yerin Baek)\n밤새 (취향저격 그녀 X 카더가든) | 카더가든\n"
     ]
    }
   ],
   "source": [
    "songs = soup.select('table.byChart > tbody > tr')\n",
    "for song in songs :\n",
    "    title = song.select('p.title > a')[0].text\n",
    "    singer = song.select('p.artist > a')[0].text\n",
    "    print(title, singer, sep= ' | ')"
   ]
  },
  {
   "cell_type": "code",
   "execution_count": 61,
   "metadata": {},
   "outputs": [],
   "source": [
    "song_data = []\n",
    "rank = 1\n",
    "songs = soup.select('table.byChart > tbody > tr')\n",
    "for song in songs :\n",
    "    title = song.select('p.title > a')[0].text\n",
    "    singer = song.select('p.artist > a')[0].text\n",
    "    song_data.append(['Bugs', rank, title, singer])\n",
    "    #print(title, singer, sep= ' | ')\n",
    "    rank = rank + 1"
   ]
  },
  {
   "cell_type": "code",
   "execution_count": 62,
   "metadata": {},
   "outputs": [
    {
     "output_type": "execute_result",
     "data": {
      "text/plain": [
       "[['Bugs', 1, '그냥 안아달란 말야', '다비치'],\n",
       " ['Bugs', 2, '라일락', '아이유(IU)'],\n",
       " ['Bugs', 3, \"롤린 (Rollin')\", '브레이브걸스(Brave Girls)'],\n",
       " ['Bugs', 4, 'Peaches (feat. Daniel Caesar, Giveon)', 'Justin Bieber(저스틴 비버)'],\n",
       " ['Bugs', 5, '운전만해 (We Ride)', '브레이브걸스(Brave Girls)'],\n",
       " ['Bugs', 6, '안녕이란 (Two Letters)', '황치열'],\n",
       " ['Bugs', 7, 'Coin', '아이유(IU)'],\n",
       " ['Bugs', 8, 'Celebrity', '아이유(IU)'],\n",
       " ['Bugs', 9, 'water color', '휘인(Whee In)'],\n",
       " ['Bugs', 10, '어푸 (Ah puh)', '아이유(IU)'],\n",
       " ['Bugs', 11, 'Atlantis', 'SHINee (샤이니)'],\n",
       " ['Bugs', 12, '아이와 나의 바다', '아이유(IU)'],\n",
       " ['Bugs', 13, '우린 아직 헤어지기 전', '포맨'],\n",
       " ['Bugs', 14, '봄 내음보다 너를', '김나영'],\n",
       " ['Bugs', 15, 'On The Ground', '로제(ROSÉ)'],\n",
       " ['Bugs', 16, 'ASAP', 'STAYC(스테이씨)'],\n",
       " ['Bugs', 17, '돌림노래 (Feat. DEAN)', '아이유(IU)'],\n",
       " ['Bugs', 18, 'Flu', '아이유(IU)'],\n",
       " ['Bugs', 19, '내 손을 잡아', '아이유(IU)'],\n",
       " ['Bugs', 20, 'Beautiful Mistakes', 'Maroon 5(마룬 파이브)'],\n",
       " ['Bugs', 21, '에필로그', '아이유(IU)'],\n",
       " ['Bugs', 22, 'Like Water', '웬디(WENDY)'],\n",
       " ['Bugs', 23, '봄 안녕 봄', '아이유(IU)'],\n",
       " ['Bugs', 24, 'Kiss Me More (feat. SZA)', 'Doja Cat(도자 캣)'],\n",
       " ['Bugs', 25, \"그대가 사라진다 (She's Gone)\", '황치열'],\n",
       " ['Bugs', 26, 'Dynamite', '방탄소년단'],\n",
       " ['Bugs', 27, 'Leave The Door Open', 'Bruno Mars(브루노 마스)'],\n",
       " ['Bugs', 28, 'LOVE DAY (2021) (바른연애 길잡이 X 양요섭, 정은지)', '양요섭'],\n",
       " ['Bugs', 29, 'At My Worst', 'Pink Sweat$'],\n",
       " ['Bugs', 30, '빈 컵 (Empty Cup)', '아이유(IU)'],\n",
       " ['Bugs', 31, 'Daisy (Feat. pH-1)', '미란이'],\n",
       " ['Bugs', 32, 'Like 1999', 'Valley'],\n",
       " ['Bugs', 33, '에잇(Prod.&Feat. SUGA of BTS)', '아이유(IU)'],\n",
       " ['Bugs', 34, 'UNNATURAL', '우주소녀'],\n",
       " ['Bugs', 35, '커피 (Coffee)', '규현 (KYUHYUN)'],\n",
       " ['Bugs', 36, '멜로디', 'ASH ISLAND'],\n",
       " ['Bugs', 37, 'parachute', 'John K'],\n",
       " ['Bugs', 38, 'Blueming', '아이유(IU)'],\n",
       " ['Bugs', 39, '어떻게 이별까지 사랑하겠어, 널 사랑하는 거지', 'AKMU (악동뮤지션)'],\n",
       " ['Bugs', 40, '헤어진 너에게', '주호'],\n",
       " ['Bugs', 41, '상상더하기', '라붐(LABOUM)'],\n",
       " ['Bugs', 42, '밤편지', '아이유(IU)'],\n",
       " ['Bugs', 43, '하이힐', '브레이브걸스(Brave Girls)'],\n",
       " ['Bugs', 44, '같은 자리 (Area)', 'SHINee (샤이니)'],\n",
       " ['Bugs', 45, 'Life Goes On', '방탄소년단'],\n",
       " ['Bugs', 46, '나랑 같이 걸을래 (바른연애 길잡이 X 적재)', '적재'],\n",
       " ['Bugs', 47, '따라따라와 (Prod. by 영탁)', '김희재'],\n",
       " ['Bugs', 48, '어떤X (What Type of X)', '제시(Jessi)'],\n",
       " ['Bugs', 49, 'Lovesick Girls', 'BLACKPINK'],\n",
       " ['Bugs', 50, 'Dolphin', '오마이걸(OH MY GIRL)'],\n",
       " ['Bugs', 51, '밤하늘의 별을(2020)', '경서'],\n",
       " ['Bugs', 52, \"Don't Call Me\", 'SHINee (샤이니)'],\n",
       " ['Bugs', 53, '이제 나만 믿어요', '임영웅'],\n",
       " ['Bugs', 54, '봄 사랑 벚꽃 말고', '하이포(HIGH4)'],\n",
       " ['Bugs', 55, '이 밤을 빌려 말해요 (바른연애 길잡이 X 10CM)', '10CM'],\n",
       " ['Bugs', 56, '흔들리는 꽃들 속에서 네 샴푸향이 느껴진거야', '장범준'],\n",
       " ['Bugs', 57, 'Bambi', '백현(BAEKHYUN)'],\n",
       " ['Bugs', 58, '잠이 오질 않네요', '장범준'],\n",
       " ['Bugs', 59, '되풀이', '임창정'],\n",
       " ['Bugs', 60, '12:45 (Stripped)', 'Etham'],\n",
       " ['Bugs', 61, 'Savage Love (Laxed - Siren Beat) (BTS Remix)', 'Jawsh 685'],\n",
       " ['Bugs', 62, 'METEOR', '창모(CHANGMO)'],\n",
       " ['Bugs', 63, 'Warning (Feat. lIlBOI)', '김세정'],\n",
       " ['Bugs', 64, '취기를 빌려 (취향저격 그녀 X 산들)', '산들'],\n",
       " ['Bugs', 65, '사이렌 Remix (Feat. UNEDUCATED KID, Paul Blanco)', '호미들'],\n",
       " ['Bugs', 66, 'TRASH (Feat. pH-1)', '휘인(Whee In)'],\n",
       " ['Bugs', 67, '아로하', '조정석'],\n",
       " ['Bugs', 68, 'When This Rain Stops', '웬디(WENDY)'],\n",
       " ['Bugs', 69, 'Gone', '로제(ROSÉ)'],\n",
       " ['Bugs', 70, 'Off My Face', 'Justin Bieber(저스틴 비버)'],\n",
       " ['Bugs', 71, '모든 날, 모든 순간 (Every day, Every Moment)', '폴킴(Paul Kim)'],\n",
       " ['Bugs', 72, '그 한마디 (바른연애 길잡이 X 이하이)', '이하이'],\n",
       " ['Bugs', 73, 'Love poem', '아이유(IU)'],\n",
       " ['Bugs', 74, 'SUMMERIDE', '박재범'],\n",
       " ['Bugs', 75, '오늘도 난 봄을 기다려', '케이시'],\n",
       " ['Bugs', 76, '밝게 빛나는 별이 되어 비춰줄게', '송이한'],\n",
       " ['Bugs', 77, 'Bang!', 'AJR'],\n",
       " ['Bugs', 78, '2002', 'Anne-Marie(앤 마리)'],\n",
       " ['Bugs', 79, '사랑하는 당신께', '폴킴(Paul Kim)'],\n",
       " ['Bugs', 80, '꼬리 (TAIL)', '선미'],\n",
       " ['Bugs', 81, '작은 것들을 위한 시 (Boy With Luv) (Feat. Halsey)', '방탄소년단'],\n",
       " ['Bugs', 82, '이렇게 좋아해 본 적이 없어요', 'CHEEZE(치즈)'],\n",
       " ['Bugs', 83, '별빛 같은 나의 사랑아', '임영웅'],\n",
       " ['Bugs', 84, '서른 밤째 (바른연애 길잡이 X 윤하 (YOUNHA))', '윤하(Younha/ユンナ)'],\n",
       " ['Bugs', 85, '살짝 설렜어 (Nonstop)', '오마이걸(OH MY GIRL)'],\n",
       " ['Bugs', 86, '오래된 노래', '스탠딩 에그(Standing Egg)'],\n",
       " ['Bugs', 87, 'Days and Years', 'SHINee (샤이니)'],\n",
       " ['Bugs', 88, 'VVS (Feat. JUSTHIS) (Prod. GroovyRoom)', '미란이'],\n",
       " ['Bugs', 89, '봄날', '방탄소년단'],\n",
       " ['Bugs', 90, 'How You Like That', 'BLACKPINK'],\n",
       " ['Bugs', 91, '소우주 (Mikrokosmos)', '방탄소년단'],\n",
       " ['Bugs', 92, '우린 어쩌다 헤어진 걸까', '허각'],\n",
       " ['Bugs', 93, '마음을 드려요', '아이유(IU)'],\n",
       " ['Bugs', 94, '어떤 날은', '김필(Kim Feel)'],\n",
       " ['Bugs', 95, '함께 했는데 이별은 나 혼자인 거야', '소정(레이디스 코드)'],\n",
       " ['Bugs', 96, 'What Do I Call You', '태연 (TAEYEON)'],\n",
       " ['Bugs', 97, 'Inner Universe', '포레스텔라'],\n",
       " ['Bugs', 98, '주저하는 연인들을 위해', '잔나비'],\n",
       " ['Bugs', 99, 'Square (2017)', '백예린 (Yerin Baek)'],\n",
       " ['Bugs', 100, '밤새 (취향저격 그녀 X 카더가든)', '카더가든']]"
      ]
     },
     "metadata": {},
     "execution_count": 62
    }
   ],
   "source": [
    "song_data"
   ]
  },
  {
   "cell_type": "code",
   "execution_count": 63,
   "metadata": {},
   "outputs": [
    {
     "output_type": "execute_result",
     "data": {
      "text/plain": [
       "    서비스  순위                                    타이틀                     가수\n",
       "0  Bugs   1                             그냥 안아달란 말야                    다비치\n",
       "1  Bugs   2                                    라일락                아이유(IU)\n",
       "2  Bugs   3                           롤린 (Rollin')    브레이브걸스(Brave Girls)\n",
       "3  Bugs   4  Peaches (feat. Daniel Caesar, Giveon)  Justin Bieber(저스틴 비버)\n",
       "4  Bugs   5                         운전만해 (We Ride)    브레이브걸스(Brave Girls)"
      ],
      "text/html": "<div>\n<style scoped>\n    .dataframe tbody tr th:only-of-type {\n        vertical-align: middle;\n    }\n\n    .dataframe tbody tr th {\n        vertical-align: top;\n    }\n\n    .dataframe thead th {\n        text-align: right;\n    }\n</style>\n<table border=\"1\" class=\"dataframe\">\n  <thead>\n    <tr style=\"text-align: right;\">\n      <th></th>\n      <th>서비스</th>\n      <th>순위</th>\n      <th>타이틀</th>\n      <th>가수</th>\n    </tr>\n  </thead>\n  <tbody>\n    <tr>\n      <th>0</th>\n      <td>Bugs</td>\n      <td>1</td>\n      <td>그냥 안아달란 말야</td>\n      <td>다비치</td>\n    </tr>\n    <tr>\n      <th>1</th>\n      <td>Bugs</td>\n      <td>2</td>\n      <td>라일락</td>\n      <td>아이유(IU)</td>\n    </tr>\n    <tr>\n      <th>2</th>\n      <td>Bugs</td>\n      <td>3</td>\n      <td>롤린 (Rollin')</td>\n      <td>브레이브걸스(Brave Girls)</td>\n    </tr>\n    <tr>\n      <th>3</th>\n      <td>Bugs</td>\n      <td>4</td>\n      <td>Peaches (feat. Daniel Caesar, Giveon)</td>\n      <td>Justin Bieber(저스틴 비버)</td>\n    </tr>\n    <tr>\n      <th>4</th>\n      <td>Bugs</td>\n      <td>5</td>\n      <td>운전만해 (We Ride)</td>\n      <td>브레이브걸스(Brave Girls)</td>\n    </tr>\n  </tbody>\n</table>\n</div>"
     },
     "metadata": {},
     "execution_count": 63
    }
   ],
   "source": [
    "pd_data = pd.DataFrame(song_data, columns=columns)\n",
    "pd_data.head()"
   ]
  },
  {
   "cell_type": "code",
   "execution_count": 65,
   "metadata": {},
   "outputs": [],
   "source": [
    "pd_data.to_excel('./music_files_crolling/bugs.xlsx', index=False)"
   ]
  },
  {
   "cell_type": "code",
   "execution_count": 66,
   "metadata": {},
   "outputs": [],
   "source": [
    "def music_crolling(url_, soup_select, song_select, append_data, save_filename, site_name):\n",
    "    url = url_\n",
    "    driver.get(url)\n",
    "    html = driver.page_source \n",
    "    soup = BeautifulSoup(html, 'html.parser')\n",
    "    songs = soup.select(soup_select) # 필요할때마다 가져오는 방식이라 시간이 걸림 -> 특정 위치를 선택한 뒤, 브라우저 조작 가능 \n",
    "    print(len(songs))\n",
    "\n",
    "    songs = soup.select(soup_select)\n",
    "    for song in songs :\n",
    "        title = song.select(song_select)[0].text\n",
    "        singer = song.select(song_select)[0].text\n",
    "        print(title, singer, sep= ' | ')\n",
    "\n",
    "    song_data = []\n",
    "    rank = 1\n",
    "    songs = soup.select(soup_select)\n",
    "    for song in songs :\n",
    "        title = song.select(song_select)[0].text\n",
    "        singer = song.select(song_select)[0].text\n",
    "        song_data.append([site_name, rank, title, singer])\n",
    "        #print(title, singer, sep= ' | ')\n",
    "        rank = rank + 1\n",
    "\n",
    "    pd_data = pd.DataFrame(song_data, columns=columns)\n",
    "    pd_data.head()\n",
    "\n",
    "    pd_data.to_excel('./music_files_crolling/'+save_filename+'.xlsx', index=False)\n",
    "\n",
    "\n",
    "\n"
   ]
  },
  {
   "cell_type": "code",
   "execution_count": 67,
   "metadata": {},
   "outputs": [],
   "source": [
    "url = 'https://www.youtube.com/playlist?list=PLQQ6HYmZhe5m75S9zJn4u645NNtB03MqF'\n",
    "driver.get(url)\n",
    "html = driver.page_source \n",
    "soup = BeautifulSoup(html, 'html.parser')\n",
    "songs = soup.select('div > ytd-page-manager > ytd-two-column-browse-results-renderer > primary > ytd-section-list-renderer ') # 필요할때마다 가져오는 방식이라 시간이 걸린다\n",
    "print(len(songs))\n",
    "\n",
    "songs = soup.select(' primary > ytd-section-list-renderer')\n",
    "for song in songs :\n",
    "    title = song.select('p.title > a')[0].text\n",
    "    singer = song.select('p.artist > a')[0].text\n",
    "    print(title, singer, sep= ' | ')"
   ]
  }
 ]
}